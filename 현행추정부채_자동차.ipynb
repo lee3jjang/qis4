{
 "metadata": {
  "language_info": {
   "codemirror_mode": {
    "name": "ipython",
    "version": 3
   },
   "file_extension": ".py",
   "mimetype": "text/x-python",
   "name": "python",
   "nbconvert_exporter": "python",
   "pygments_lexer": "ipython3",
   "version": "3.8.5"
  },
  "orig_nbformat": 4,
  "kernelspec": {
   "name": "python3",
   "display_name": "Python 3.8.5 64-bit ('base': conda)"
  },
  "interpreter": {
   "hash": "b3ba2566441a7c06988d0923437866b63cedc61552a5af99d1f4fb67d367b25f"
  }
 },
 "nbformat": 4,
 "nbformat_minor": 2,
 "cells": [
  {
   "cell_type": "code",
   "execution_count": 93,
   "metadata": {},
   "outputs": [],
   "source": [
    "import os\n",
    "import numpy as np\n",
    "import pandas as pd\n",
    "from pathlib import Path\n",
    "from datetime import datetime\n",
    "from preprocessing import (\n",
    "    clsf_boz_cd_c\n",
    ")"
   ]
  },
  {
   "cell_type": "code",
   "execution_count": 94,
   "metadata": {},
   "outputs": [],
   "source": [
    "# 환경설정\n",
    "pd.options.display.float_format = '{:,.0f}'.format\n",
    "os.makedirs('result', exist_ok=True)\n",
    "\n",
    "# 전역변수\n",
    "FILE_PATH = Path('./data/현행추정부채_자동차')\n",
    "BASE_YYMM = '201912'"
   ]
  },
  {
   "cell_type": "code",
   "execution_count": 105,
   "metadata": {},
   "outputs": [],
   "source": [
    "# 데이터 불러오기\n",
    "## 보험료부채 익스포져\n",
    "자동차_원수_미경과보험료 = pd.read_excel(FILE_PATH / f'자동차_원수_미경과보험료_{BASE_YYMM}.xlsx', dtype={'BSC_CVR_CD': str, 'PDGR_CD': str, 'PDC_CD': str, 'INER_CHN_DVCD': str})\n",
    "자동차_비례출재_미경과보험료 = pd.read_excel(FILE_PATH / f'자동차_비례출재_미경과보험료_{BASE_YYMM}.xlsx', dtype={'BSC_CVR_CD': str, 'PDGR_CD': str, 'PDC_CD': str, 'INER_CHN_DVCD': str})\n",
    "#자동차_비비례출재_미경과보험료 = pd.read_excel(FILE_PATH / f'자동차_비비례출재_미경과보험료_{BASE_YYMM}.xlsx', dtype={'BSC_CVR_CD': str, 'PDGR_CD': str, 'PDC_CD': str, 'SL_CVR_CD': str, 'T02_RN_RINSC_CD': str})\n",
    "# 일반_원수_예정보험료 = pd.read_excel(FILE_PATH / f'일반_원수_예정보험료_{BASE_YYMM}.xlsx', dtype={'RRNR_DAT_DVCD': str, 'RRNR_CTC_BZ_DVCD': str, 'ARC_INPL_CD': str})\n",
    "# 일반_출재_예정보험료 = pd.read_excel(FILE_PATH / f'일반_출재_예정보험료_{BASE_YYMM}.xlsx', dtype={'RRNR_DAT_DVCD': str, 'RRNR_CTC_BZ_DVCD': str, 'ARC_INPL_CD': str, 'T02_RN_RINSC_CD': str})\n",
    "자동차_원수_직전3년보험금손조비 = pd.read_excel(FILE_PATH / f'자동차_원수_직전3년보험금손조비_{BASE_YYMM}.xlsx', dtype={'BSC_CVR_CD': str, 'PDGR_CD': str, 'PDC_CD': str, 'INER_CHN_DVCD': str})\n",
    "자동차_비례출재_직전3년보험금손조비 = pd.read_excel(FILE_PATH / f'자동차_비례출재_직전3년보험금손조비_{BASE_YYMM}.xlsx', dtype={'BSC_CVR_CD': str, 'PDGR_CD': str, 'PDC_CD': str, 'INER_CHN_DVCD': str})\n",
    "자동차_비비례출재_직전3년보험금손조비 = pd.read_excel(FILE_PATH / f'자동차_비비례출재_직전3년보험금손조비_{BASE_YYMM}.xlsx', dtype={'PDC_CD': str, 'T02_RN_RINSC_CD': str})\n",
    "\n",
    "## 준비금부채 익스포져\n",
    "자동차_원수_개별추산액 = pd.read_excel(FILE_PATH / f'자동차_원수_개별추산액_{BASE_YYMM}.xlsx', dtype={'BSC_CVR_CD': str, 'PDGR_CD': str, 'PDC_CD': str, 'INER_CHN_DVCD': str})\n",
    "자동차_비례출재_개별추산액 = pd.read_excel(FILE_PATH / f'자동차_비례출재_개별추산액_{BASE_YYMM}.xlsx', dtype={'BSC_CVR_CD': str, 'PDGR_CD': str, 'PDC_CD': str, 'INER_CHN_DVCD': str})\n",
    "\n",
    "## 기초정보, 가정 등\n",
    "자동차_상품군정보 = pd.read_excel(FILE_PATH / '자동차_상품군정보.xlsx', dtype={'PDGR_CD': str, 'BSC_CVR_CD': str})\n",
    "자동차_보험금진전추이 = pd.read_excel(FILE_PATH / f'자동차_보험금진전추이_{BASE_YYMM}.xlsx', dtype={'PDGR_CD': str, 'AY': str})\n",
    "자동차_최종손해율 = pd.read_excel(FILE_PATH / f'자동차_최종손해율_{201812}.xlsx', dtype={'RRNR_DVCD': str, 'AT_CHN_DVCD': str, 'AT_PDGR_CD': str})\n",
    "자동차_사업비율 = pd.read_excel(FILE_PATH / f'자동차_사업비율_{BASE_YYMM}.xlsx', dtype={'RRNR_DVCD': str, 'BOZ_CD': str})\n",
    "자동차_IBNR = pd.read_excel(FILE_PATH / f'자동차_IBNR_{BASE_YYMM}.xlsx', dtype={'RRNR_DVCD': str, 'BSC_CVR_CD': str})\n",
    "\n",
    "## 공통\n",
    "재보험자_국내신용등급 = pd.read_excel(FILE_PATH / f'재보험자_국내신용등급_{202012}.xlsx', dtype={'재보험사코드': str}) \\\n",
    "        .rename(columns = {'재보험사코드': 'T02_RN_RINSC_CD', '국내신용등급': 'CRD_GRD'})\n",
    "선도부도율 = pd.read_excel(FILE_PATH / f'선도부도율_{202012}.xlsx')\n",
    "할인율 = pd.read_excel(FILE_PATH / f'할인율_{202012}.xlsx')"
   ]
  },
  {
   "cell_type": "code",
   "execution_count": 115,
   "metadata": {},
   "outputs": [
    {
     "output_type": "execute_result",
     "data": {
      "text/plain": [
       "  BSC_CVR_CD PDGR_CD PDC_CD SL_CVR_CD T02_RN_RINSC_CD  LTPD_URND_PRM  \\\n",
       "0         02                   200002          185055              0   \n",
       "1         06                   200008          124012              0   \n",
       "2         02                   200002          185083              0   \n",
       "3         02                   200002          185097              0   \n",
       "4         02                   200002          124012              0   \n",
       "5         02                   200002          122053              0   \n",
       "\n",
       "  RRNR_DVCD DMFR_DVCD BOZ_CD  \n",
       "0        03        01   B007  \n",
       "1        03        01   B007  \n",
       "2        03        01   B007  \n",
       "3        03        01   B007  \n",
       "4        03        01   B007  \n",
       "5        03        01   B007  "
      ],
      "text/html": "<div>\n<style scoped>\n    .dataframe tbody tr th:only-of-type {\n        vertical-align: middle;\n    }\n\n    .dataframe tbody tr th {\n        vertical-align: top;\n    }\n\n    .dataframe thead th {\n        text-align: right;\n    }\n</style>\n<table border=\"1\" class=\"dataframe\">\n  <thead>\n    <tr style=\"text-align: right;\">\n      <th></th>\n      <th>BSC_CVR_CD</th>\n      <th>PDGR_CD</th>\n      <th>PDC_CD</th>\n      <th>SL_CVR_CD</th>\n      <th>T02_RN_RINSC_CD</th>\n      <th>LTPD_URND_PRM</th>\n      <th>RRNR_DVCD</th>\n      <th>DMFR_DVCD</th>\n      <th>BOZ_CD</th>\n    </tr>\n  </thead>\n  <tbody>\n    <tr>\n      <th>0</th>\n      <td>02</td>\n      <td></td>\n      <td></td>\n      <td>200002</td>\n      <td>185055</td>\n      <td>0</td>\n      <td>03</td>\n      <td>01</td>\n      <td>B007</td>\n    </tr>\n    <tr>\n      <th>1</th>\n      <td>06</td>\n      <td></td>\n      <td></td>\n      <td>200008</td>\n      <td>124012</td>\n      <td>0</td>\n      <td>03</td>\n      <td>01</td>\n      <td>B007</td>\n    </tr>\n    <tr>\n      <th>2</th>\n      <td>02</td>\n      <td></td>\n      <td></td>\n      <td>200002</td>\n      <td>185083</td>\n      <td>0</td>\n      <td>03</td>\n      <td>01</td>\n      <td>B007</td>\n    </tr>\n    <tr>\n      <th>3</th>\n      <td>02</td>\n      <td></td>\n      <td></td>\n      <td>200002</td>\n      <td>185097</td>\n      <td>0</td>\n      <td>03</td>\n      <td>01</td>\n      <td>B007</td>\n    </tr>\n    <tr>\n      <th>4</th>\n      <td>02</td>\n      <td></td>\n      <td></td>\n      <td>200002</td>\n      <td>124012</td>\n      <td>0</td>\n      <td>03</td>\n      <td>01</td>\n      <td>B007</td>\n    </tr>\n    <tr>\n      <th>5</th>\n      <td>02</td>\n      <td></td>\n      <td></td>\n      <td>200002</td>\n      <td>122053</td>\n      <td>0</td>\n      <td>03</td>\n      <td>01</td>\n      <td>B007</td>\n    </tr>\n  </tbody>\n</table>\n</div>"
     },
     "metadata": {},
     "execution_count": 115
    }
   ],
   "source": [
    "# 데이터 전처리\n",
    "## 미경과보험료\n",
    "자동차_원수_미경과보험료_가공 = 자동차_원수_미경과보험료.copy()\n",
    "자동차_원수_미경과보험료_가공['RRNR_DVCD'] = '04'\n",
    "자동차_원수_미경과보험료_가공['DMFR_DVCD'] = '01'\n",
    "자동차_원수_미경과보험료_가공['BOZ_CD'] = clsf_boz_cd_c(자동차_원수_미경과보험료_가공, 자동차_상품군정보)\n",
    "\n",
    "자동차_비례출재_미경과보험료_가공 = 자동차_비례출재_미경과보험료.copy()\n",
    "자동차_비례출재_미경과보험료_가공['RRNR_DVCD'] = '03'\n",
    "자동차_비례출재_미경과보험료_가공['DMFR_DVCD'] = '01'\n",
    "자동차_비례출재_미경과보험료_가공['BOZ_CD'] = clsf_boz_cd_c(자동차_비례출재_미경과보험료_가공, 자동차_상품군정보)\n",
    "자동차_비례출재_미경과보험료_가공['T02_RN_RINSC_CD'] = '124012'\n",
    "\n",
    "자동차_비비례출재_미경과보험료_가공 = 자동차_비비례출재_미경과보험료.copy()\n",
    "자동차_비비례출재_미경과보험료_가공['RRNR_DVCD'] = '03'\n",
    "자동차_비비례출재_미경과보험료_가공['DMFR_DVCD'] = '01'\n",
    "자동차_비비례출재_미경과보험료_가공['BOZ_CD'] = clsf_boz_cd_c(자동차_비비례출재_미경과보험료_가공, 자동차_상품군정보)\n",
    "자동차_비비례출재_미경과보험료_가공"
   ]
  }
 ]
}