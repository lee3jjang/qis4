{
 "metadata": {
  "language_info": {
   "codemirror_mode": {
    "name": "ipython",
    "version": 3
   },
   "file_extension": ".py",
   "mimetype": "text/x-python",
   "name": "python",
   "nbconvert_exporter": "python",
   "pygments_lexer": "ipython3",
   "version": "3.8.5"
  },
  "orig_nbformat": 4,
  "kernelspec": {
   "name": "python3",
   "display_name": "Python 3.8.5 64-bit ('base': conda)"
  },
  "interpreter": {
   "hash": "b3ba2566441a7c06988d0923437866b63cedc61552a5af99d1f4fb67d367b25f"
  }
 },
 "nbformat": 4,
 "nbformat_minor": 2,
 "cells": [
  {
   "cell_type": "code",
   "execution_count": 6,
   "metadata": {},
   "outputs": [],
   "source": [
    "import os\n",
    "import numpy as np\n",
    "import pandas as pd\n",
    "from pathlib import Path\n",
    "from datetime import datetime\n",
    "from preprocessing import (\n",
    "    clsf_boz_cd_c, clsf_crd_grd, get_disc_factor_all_c, get_loss_adj_rate_all_c\n",
    ")"
   ]
  },
  {
   "cell_type": "code",
   "execution_count": null,
   "metadata": {},
   "outputs": [],
   "source": [
    "#TODO : drop -> filter로 변경"
   ]
  },
  {
   "cell_type": "code",
   "execution_count": 7,
   "metadata": {},
   "outputs": [],
   "source": [
    "# 환경설정\n",
    "pd.options.display.float_format = '{:,.0f}'.format\n",
    "os.makedirs('result', exist_ok=True)\n",
    "\n",
    "# 전역변수\n",
    "FILE_PATH = Path('./data/현행추정부채_자동차')\n",
    "BASE_YYMM = '201912'"
   ]
  },
  {
   "cell_type": "code",
   "execution_count": 16,
   "metadata": {},
   "outputs": [],
   "source": [
    "# 데이터 불러오기\n",
    "## 보험료부채 익스포져\n",
    "자동차_원수_미경과보험료 = pd.read_excel(FILE_PATH / f'자동차_원수_미경과보험료_{BASE_YYMM}.xlsx', dtype={'BSC_CVR_CD': str, 'PDGR_CD': str, 'PDC_CD': str, 'INER_CHN_DVCD': str, 'USTK_DVCD': str})\n",
    "자동차_비례출재_미경과보험료 = pd.read_excel(FILE_PATH / f'자동차_비례출재_미경과보험료_{BASE_YYMM}.xlsx', dtype={'BSC_CVR_CD': str, 'PDGR_CD': str, 'PDC_CD': str, 'INER_CHN_DVCD': str, 'USTK_DVCD': str})\n",
    "자동차_비비례출재_미경과보험료 = pd.read_excel(FILE_PATH / f'자동차_비비례출재_미경과보험료_{BASE_YYMM}.xlsx', dtype={'BSC_CVR_CD': str, 'PDGR_CD': str, 'PDC_CD': str, 'SL_CVR_CD': str, 'T02_RN_RINSC_CD': str})\n",
    "# 일반_원수_예정보험료 = pd.read_excel(FILE_PATH / f'일반_원수_예정보험료_{BASE_YYMM}.xlsx', dtype={'RRNR_DAT_DVCD': str, 'RRNR_CTC_BZ_DVCD': str, 'ARC_INPL_CD': str})\n",
    "# 일반_출재_예정보험료 = pd.read_excel(FILE_PATH / f'일반_출재_예정보험료_{BASE_YYMM}.xlsx', dtype={'RRNR_DAT_DVCD': str, 'RRNR_CTC_BZ_DVCD': str, 'ARC_INPL_CD': str, 'T02_RN_RINSC_CD': str})\n",
    "자동차_원수_직전3년보험금손조비 = pd.read_excel(FILE_PATH / f'자동차_원수_직전3년보험금손조비_{BASE_YYMM}.xlsx', dtype={'BSC_CVR_CD': str, 'PDGR_CD': str, 'PDC_CD': str, 'INER_CHN_DVCD': str})\n",
    "자동차_비례출재_직전3년보험금손조비 = pd.read_excel(FILE_PATH / f'자동차_비례출재_직전3년보험금손조비_{BASE_YYMM}.xlsx', dtype={'BSC_CVR_CD': str, 'PDGR_CD': str, 'PDC_CD': str, 'INER_CHN_DVCD': str})\n",
    "자동차_비비례출재_직전3년보험금손조비 = pd.read_excel(FILE_PATH / f'자동차_비비례출재_직전3년보험금손조비_{BASE_YYMM}.xlsx', dtype={'PDC_CD': str, 'T02_RN_RINSC_CD': str})\n",
    "\n",
    "## 준비금부채 익스포져\n",
    "자동차_원수_개별추산액 = pd.read_excel(FILE_PATH / f'자동차_원수_개별추산액_{BASE_YYMM}.xlsx', dtype={'BSC_CVR_CD': str, 'PDGR_CD': str, 'PDC_CD': str, 'INER_CHN_DVCD': str})\n",
    "자동차_비례출재_개별추산액 = pd.read_excel(FILE_PATH / f'자동차_비례출재_개별추산액_{BASE_YYMM}.xlsx', dtype={'BSC_CVR_CD': str, 'PDGR_CD': str, 'PDC_CD': str, 'INER_CHN_DVCD': str})\n",
    "자동차_비비례출재_개별추산액 = pd.read_excel(FILE_PATH / f'자동차_비비례출재_개별추산액_{BASE_YYMM}.xlsx', dtype={'T02_RN_RINSC_CD': str, 'PDC_CD': str})\n",
    "\n",
    "## 기초정보, 가정 등\n",
    "# 자동차_코드맵핑 = pd.read_excel(FILE_PATH / '자동차_코드맵핑.xlsx', \n",
    "#     dtype={'PDGR_CD': str, 'BSC_CVR_CD': str, 'INER_CHN_DVCD': str, 'USTK_DVCD': str, 'AT_PDGR_CD': str, 'AT_BSC_CVR_CD': str, 'AT_CHN_DVCD': str})\n",
    "# 자동차_코드맵핑.to_csv(FILE_PATH / '자동차_코드맵핑.csv', index=False)\n",
    "자동차_코드맵핑 = pd.read_csv(FILE_PATH / '자동차_코드맵핑.csv',\n",
    "    dtype={'PDC_CD': str, 'PDGR_CD': str, 'BSC_CVR_CD': str, 'INER_CHN_DVCD': str, 'USTK_DVCD': str, 'AT_PDGR_CD': str, 'AT_BSC_CVR_CD': str, 'AT_CHN_DVCD': str})\n",
    "자동차_상품군정보 = pd.read_excel(FILE_PATH / '자동차_상품군정보.xlsx', dtype={'PDGR_CD': str, 'BSC_CVR_CD': str})\n",
    "자동차_보험금진전추이 = pd.read_excel(FILE_PATH / f'자동차_보험금진전추이_{201812}.xlsx', dtype={'PDGR_CD': str, 'AY': str}) \\\n",
    "        .rename(columns={'AT_PDGR_CD': 'BOZ_CD', 'AY_YM': 'AY'})\n",
    "자동차_최종손해율 = pd.read_excel(FILE_PATH / f'자동차_최종손해율_{201812}.xlsx', dtype={'RRNR_DVCD': str, 'AT_CHN_DVCD': str, 'AT_PDGR_CD': str}) \\\n",
    "    .drop('RRNR_DAT_DVCD', axis=1)\n",
    "자동차_사업비율 = pd.read_excel(FILE_PATH / f'자동차_사업비율_{BASE_YYMM}.xlsx', dtype={'RRNR_DVCD': str, 'BOZ_CD': str})\n",
    "자동차_IBNR = pd.read_excel(FILE_PATH / f'자동차_IBNR_{BASE_YYMM}.xlsx', dtype={'RRNR_DVCD': str, 'BSC_CVR_CD': str})\n",
    "\n",
    "## 공통\n",
    "재보험자_국내신용등급 = pd.read_excel(FILE_PATH / f'재보험자_국내신용등급_{202012}.xlsx', dtype={'재보험사코드': str}) \\\n",
    "        .rename(columns = {'재보험사코드': 'T02_RN_RINSC_CD', '국내신용등급': 'CRD_GRD'})\n",
    "선도부도율 = pd.read_excel(FILE_PATH / f'선도부도율_{202012}.xlsx')\n",
    "할인율 = pd.read_excel(FILE_PATH / f'할인율_{202012}.xlsx')"
   ]
  },
  {
   "cell_type": "code",
   "execution_count": 122,
   "metadata": {},
   "outputs": [
    {
     "output_type": "execute_result",
     "data": {
      "text/plain": [
       "    BSC_CVR_CD PDGR_CD PDC_CD INER_CHN_DVCD USTK_DVCD  LTPD_URND_PRM  \\\n",
       "0           09      09  20055            14         1      863439937   \n",
       "1           01      09  20023            01         1    16029630462   \n",
       "2           02      09  20016            99         1    18762792018   \n",
       "3           01      08  20014            01         1    66398035275   \n",
       "4           09      08  20001            04         1    14231290541   \n",
       "..         ...     ...    ...           ...       ...            ...   \n",
       "461         03      19  20040            10         2        1200700   \n",
       "462         01      21  20042            11         2          13363   \n",
       "463         02      10  20058            10         1         471772   \n",
       "464         02      20  20041            10         2         462683   \n",
       "465         07      08  20014            01         1           3380   \n",
       "\n",
       "    AT_PDGR_CD AT_BSC_CVR_CD AT_CHN_DVCD RRNR_DVCD DMFR_DVCD CRD_GRD BOZ_CD  \n",
       "0           02            09          04        01        01       #   B004  \n",
       "1           02            01          03        01        01       #   B003  \n",
       "2           02            01          01        01        01       #   B003  \n",
       "3           01            01          03        01        01       #   B001  \n",
       "4           01            09          02        01        01       #   B002  \n",
       "..         ...           ...         ...       ...       ...     ...    ...  \n",
       "461         11            03          01        01        01       #   B002  \n",
       "462         11            01          01        01        01       #   B005  \n",
       "463         03            01          01        01        01       #   B005  \n",
       "464         11            01          01        01        01       #   B003  \n",
       "465         01            06          03        01        01       #   B002  \n",
       "\n",
       "[466 rows x 13 columns]"
      ],
      "text/html": "<div>\n<style scoped>\n    .dataframe tbody tr th:only-of-type {\n        vertical-align: middle;\n    }\n\n    .dataframe tbody tr th {\n        vertical-align: top;\n    }\n\n    .dataframe thead th {\n        text-align: right;\n    }\n</style>\n<table border=\"1\" class=\"dataframe\">\n  <thead>\n    <tr style=\"text-align: right;\">\n      <th></th>\n      <th>BSC_CVR_CD</th>\n      <th>PDGR_CD</th>\n      <th>PDC_CD</th>\n      <th>INER_CHN_DVCD</th>\n      <th>USTK_DVCD</th>\n      <th>LTPD_URND_PRM</th>\n      <th>AT_PDGR_CD</th>\n      <th>AT_BSC_CVR_CD</th>\n      <th>AT_CHN_DVCD</th>\n      <th>RRNR_DVCD</th>\n      <th>DMFR_DVCD</th>\n      <th>CRD_GRD</th>\n      <th>BOZ_CD</th>\n    </tr>\n  </thead>\n  <tbody>\n    <tr>\n      <th>0</th>\n      <td>09</td>\n      <td>09</td>\n      <td>20055</td>\n      <td>14</td>\n      <td>1</td>\n      <td>863439937</td>\n      <td>02</td>\n      <td>09</td>\n      <td>04</td>\n      <td>01</td>\n      <td>01</td>\n      <td>#</td>\n      <td>B004</td>\n    </tr>\n    <tr>\n      <th>1</th>\n      <td>01</td>\n      <td>09</td>\n      <td>20023</td>\n      <td>01</td>\n      <td>1</td>\n      <td>16029630462</td>\n      <td>02</td>\n      <td>01</td>\n      <td>03</td>\n      <td>01</td>\n      <td>01</td>\n      <td>#</td>\n      <td>B003</td>\n    </tr>\n    <tr>\n      <th>2</th>\n      <td>02</td>\n      <td>09</td>\n      <td>20016</td>\n      <td>99</td>\n      <td>1</td>\n      <td>18762792018</td>\n      <td>02</td>\n      <td>01</td>\n      <td>01</td>\n      <td>01</td>\n      <td>01</td>\n      <td>#</td>\n      <td>B003</td>\n    </tr>\n    <tr>\n      <th>3</th>\n      <td>01</td>\n      <td>08</td>\n      <td>20014</td>\n      <td>01</td>\n      <td>1</td>\n      <td>66398035275</td>\n      <td>01</td>\n      <td>01</td>\n      <td>03</td>\n      <td>01</td>\n      <td>01</td>\n      <td>#</td>\n      <td>B001</td>\n    </tr>\n    <tr>\n      <th>4</th>\n      <td>09</td>\n      <td>08</td>\n      <td>20001</td>\n      <td>04</td>\n      <td>1</td>\n      <td>14231290541</td>\n      <td>01</td>\n      <td>09</td>\n      <td>02</td>\n      <td>01</td>\n      <td>01</td>\n      <td>#</td>\n      <td>B002</td>\n    </tr>\n    <tr>\n      <th>...</th>\n      <td>...</td>\n      <td>...</td>\n      <td>...</td>\n      <td>...</td>\n      <td>...</td>\n      <td>...</td>\n      <td>...</td>\n      <td>...</td>\n      <td>...</td>\n      <td>...</td>\n      <td>...</td>\n      <td>...</td>\n      <td>...</td>\n    </tr>\n    <tr>\n      <th>461</th>\n      <td>03</td>\n      <td>19</td>\n      <td>20040</td>\n      <td>10</td>\n      <td>2</td>\n      <td>1200700</td>\n      <td>11</td>\n      <td>03</td>\n      <td>01</td>\n      <td>01</td>\n      <td>01</td>\n      <td>#</td>\n      <td>B002</td>\n    </tr>\n    <tr>\n      <th>462</th>\n      <td>01</td>\n      <td>21</td>\n      <td>20042</td>\n      <td>11</td>\n      <td>2</td>\n      <td>13363</td>\n      <td>11</td>\n      <td>01</td>\n      <td>01</td>\n      <td>01</td>\n      <td>01</td>\n      <td>#</td>\n      <td>B005</td>\n    </tr>\n    <tr>\n      <th>463</th>\n      <td>02</td>\n      <td>10</td>\n      <td>20058</td>\n      <td>10</td>\n      <td>1</td>\n      <td>471772</td>\n      <td>03</td>\n      <td>01</td>\n      <td>01</td>\n      <td>01</td>\n      <td>01</td>\n      <td>#</td>\n      <td>B005</td>\n    </tr>\n    <tr>\n      <th>464</th>\n      <td>02</td>\n      <td>20</td>\n      <td>20041</td>\n      <td>10</td>\n      <td>2</td>\n      <td>462683</td>\n      <td>11</td>\n      <td>01</td>\n      <td>01</td>\n      <td>01</td>\n      <td>01</td>\n      <td>#</td>\n      <td>B003</td>\n    </tr>\n    <tr>\n      <th>465</th>\n      <td>07</td>\n      <td>08</td>\n      <td>20014</td>\n      <td>01</td>\n      <td>1</td>\n      <td>3380</td>\n      <td>01</td>\n      <td>06</td>\n      <td>03</td>\n      <td>01</td>\n      <td>01</td>\n      <td>#</td>\n      <td>B002</td>\n    </tr>\n  </tbody>\n</table>\n<p>466 rows × 13 columns</p>\n</div>"
     },
     "metadata": {},
     "execution_count": 122
    }
   ],
   "source": [
    "자동차_원수_미경과보험료_가공"
   ]
  },
  {
   "cell_type": "code",
   "execution_count": 127,
   "metadata": {},
   "outputs": [
    {
     "output_type": "execute_result",
     "data": {
      "text/plain": [
       "  BSC_CVR_CD PDGR_CD PDC_CD SL_CVR_CD T02_RN_RINSC_CD  LTPD_URND_PRM  \\\n",
       "0         02                   200002          185055              0   \n",
       "1         06                   200008          124012              0   \n",
       "2         02                   200002          185083              0   \n",
       "3         02                   200002          185097              0   \n",
       "4         02                   200002          124012              0   \n",
       "5         02                   200002          122053              0   \n",
       "\n",
       "  RRNR_DVCD DMFR_DVCD BOZ_CD CRD_GRD  \n",
       "0        03        01   B007     AA-  \n",
       "1        03        01   B007      AA  \n",
       "2        03        01   B007     무등급  \n",
       "3        03        01   B007     AA+  \n",
       "4        03        01   B007      AA  \n",
       "5        03        01   B007      AA  "
      ],
      "text/html": "<div>\n<style scoped>\n    .dataframe tbody tr th:only-of-type {\n        vertical-align: middle;\n    }\n\n    .dataframe tbody tr th {\n        vertical-align: top;\n    }\n\n    .dataframe thead th {\n        text-align: right;\n    }\n</style>\n<table border=\"1\" class=\"dataframe\">\n  <thead>\n    <tr style=\"text-align: right;\">\n      <th></th>\n      <th>BSC_CVR_CD</th>\n      <th>PDGR_CD</th>\n      <th>PDC_CD</th>\n      <th>SL_CVR_CD</th>\n      <th>T02_RN_RINSC_CD</th>\n      <th>LTPD_URND_PRM</th>\n      <th>RRNR_DVCD</th>\n      <th>DMFR_DVCD</th>\n      <th>BOZ_CD</th>\n      <th>CRD_GRD</th>\n    </tr>\n  </thead>\n  <tbody>\n    <tr>\n      <th>0</th>\n      <td>02</td>\n      <td></td>\n      <td></td>\n      <td>200002</td>\n      <td>185055</td>\n      <td>0</td>\n      <td>03</td>\n      <td>01</td>\n      <td>B007</td>\n      <td>AA-</td>\n    </tr>\n    <tr>\n      <th>1</th>\n      <td>06</td>\n      <td></td>\n      <td></td>\n      <td>200008</td>\n      <td>124012</td>\n      <td>0</td>\n      <td>03</td>\n      <td>01</td>\n      <td>B007</td>\n      <td>AA</td>\n    </tr>\n    <tr>\n      <th>2</th>\n      <td>02</td>\n      <td></td>\n      <td></td>\n      <td>200002</td>\n      <td>185083</td>\n      <td>0</td>\n      <td>03</td>\n      <td>01</td>\n      <td>B007</td>\n      <td>무등급</td>\n    </tr>\n    <tr>\n      <th>3</th>\n      <td>02</td>\n      <td></td>\n      <td></td>\n      <td>200002</td>\n      <td>185097</td>\n      <td>0</td>\n      <td>03</td>\n      <td>01</td>\n      <td>B007</td>\n      <td>AA+</td>\n    </tr>\n    <tr>\n      <th>4</th>\n      <td>02</td>\n      <td></td>\n      <td></td>\n      <td>200002</td>\n      <td>124012</td>\n      <td>0</td>\n      <td>03</td>\n      <td>01</td>\n      <td>B007</td>\n      <td>AA</td>\n    </tr>\n    <tr>\n      <th>5</th>\n      <td>02</td>\n      <td></td>\n      <td></td>\n      <td>200002</td>\n      <td>122053</td>\n      <td>0</td>\n      <td>03</td>\n      <td>01</td>\n      <td>B007</td>\n      <td>AA</td>\n    </tr>\n  </tbody>\n</table>\n</div>"
     },
     "metadata": {},
     "execution_count": 127
    }
   ],
   "source": [
    "자동차_비비례출재_미경과보험료_가공"
   ]
  },
  {
   "cell_type": "code",
   "execution_count": 128,
   "metadata": {},
   "outputs": [
    {
     "output_type": "execute_result",
     "data": {
      "text/plain": [
       "  BSC_CVR_CD PDGR_CD PDC_CD SL_CVR_CD T02_RN_RINSC_CD  LTPD_URND_PRM  \\\n",
       "0         02                   200002          185055              0   \n",
       "1         06                   200008          124012              0   \n",
       "2         02                   200002          185083              0   \n",
       "3         02                   200002          185097              0   \n",
       "4         02                   200002          124012              0   \n",
       "5         02                   200002          122053              0   \n",
       "\n",
       "  RRNR_DVCD DMFR_DVCD BOZ_CD CRD_GRD  \n",
       "0        03        01   B007     AA-  \n",
       "1        03        01   B007      AA  \n",
       "2        03        01   B007     무등급  \n",
       "3        03        01   B007     AA+  \n",
       "4        03        01   B007      AA  \n",
       "5        03        01   B007      AA  "
      ],
      "text/html": "<div>\n<style scoped>\n    .dataframe tbody tr th:only-of-type {\n        vertical-align: middle;\n    }\n\n    .dataframe tbody tr th {\n        vertical-align: top;\n    }\n\n    .dataframe thead th {\n        text-align: right;\n    }\n</style>\n<table border=\"1\" class=\"dataframe\">\n  <thead>\n    <tr style=\"text-align: right;\">\n      <th></th>\n      <th>BSC_CVR_CD</th>\n      <th>PDGR_CD</th>\n      <th>PDC_CD</th>\n      <th>SL_CVR_CD</th>\n      <th>T02_RN_RINSC_CD</th>\n      <th>LTPD_URND_PRM</th>\n      <th>RRNR_DVCD</th>\n      <th>DMFR_DVCD</th>\n      <th>BOZ_CD</th>\n      <th>CRD_GRD</th>\n    </tr>\n  </thead>\n  <tbody>\n    <tr>\n      <th>0</th>\n      <td>02</td>\n      <td></td>\n      <td></td>\n      <td>200002</td>\n      <td>185055</td>\n      <td>0</td>\n      <td>03</td>\n      <td>01</td>\n      <td>B007</td>\n      <td>AA-</td>\n    </tr>\n    <tr>\n      <th>1</th>\n      <td>06</td>\n      <td></td>\n      <td></td>\n      <td>200008</td>\n      <td>124012</td>\n      <td>0</td>\n      <td>03</td>\n      <td>01</td>\n      <td>B007</td>\n      <td>AA</td>\n    </tr>\n    <tr>\n      <th>2</th>\n      <td>02</td>\n      <td></td>\n      <td></td>\n      <td>200002</td>\n      <td>185083</td>\n      <td>0</td>\n      <td>03</td>\n      <td>01</td>\n      <td>B007</td>\n      <td>무등급</td>\n    </tr>\n    <tr>\n      <th>3</th>\n      <td>02</td>\n      <td></td>\n      <td></td>\n      <td>200002</td>\n      <td>185097</td>\n      <td>0</td>\n      <td>03</td>\n      <td>01</td>\n      <td>B007</td>\n      <td>AA+</td>\n    </tr>\n    <tr>\n      <th>4</th>\n      <td>02</td>\n      <td></td>\n      <td></td>\n      <td>200002</td>\n      <td>124012</td>\n      <td>0</td>\n      <td>03</td>\n      <td>01</td>\n      <td>B007</td>\n      <td>AA</td>\n    </tr>\n    <tr>\n      <th>5</th>\n      <td>02</td>\n      <td></td>\n      <td></td>\n      <td>200002</td>\n      <td>122053</td>\n      <td>0</td>\n      <td>03</td>\n      <td>01</td>\n      <td>B007</td>\n      <td>AA</td>\n    </tr>\n  </tbody>\n</table>\n</div>"
     },
     "metadata": {},
     "execution_count": 128
    }
   ],
   "source": [
    "자동차_비비례출재_미경과보험료_가공"
   ]
  },
  {
   "cell_type": "code",
   "execution_count": 148,
   "metadata": {},
   "outputs": [],
   "source": [
    "# 데이터 전처리\n",
    "## 미경과보험료\n",
    "자동차_원수_미경과보험료_가공 = 자동차_원수_미경과보험료.copy()\n",
    "자동차_원수_미경과보험료_가공 = 자동차_원수_미경과보험료_가공.merge(자동차_코드맵핑, on=['PDC_CD', 'PDGR_CD', 'BSC_CVR_CD', 'INER_CHN_DVCD', 'USTK_DVCD'], how='left')\n",
    "자동차_원수_미경과보험료_가공['RRNR_DVCD'] = '01'\n",
    "자동차_원수_미경과보험료_가공['DMFR_DVCD'] = '01'\n",
    "자동차_원수_미경과보험료_가공['BOZ_CD'] = clsf_boz_cd_c(자동차_원수_미경과보험료_가공, 자동차_상품군정보)\n",
    "자동차_원수_미경과보험료_가공['CRD_GRD'] = '#'\n",
    "자동차_원수_미경과보험료_가공.rename(columns={'LTPD_URND_PRM': 'URND_PRM'}, inplace=True)\n",
    "자동차_원수_미경과보험료_가공 = 자동차_원수_미경과보험료_가공[['RRNR_DVCD', 'DMFR_DVCD', 'BOZ_CD', 'AT_PDGR_CD', 'AT_BSC_CVR_CD', 'CRD_GRD', 'URND_PRM']]\n",
    "\n",
    "자동차_비례출재_미경과보험료_가공 = 자동차_비례출재_미경과보험료.copy()\n",
    "자동차_비례출재_미경과보험료_가공 = 자동차_비례출재_미경과보험료_가공.merge(자동차_코드맵핑, on=['PDC_CD', 'PDGR_CD', 'BSC_CVR_CD', 'INER_CHN_DVCD', 'USTK_DVCD'], how='left')\n",
    "자동차_비례출재_미경과보험료_가공['RRNR_DVCD'] = '03'\n",
    "자동차_비례출재_미경과보험료_가공['DMFR_DVCD'] = '01'\n",
    "자동차_비례출재_미경과보험료_가공['BOZ_CD'] = clsf_boz_cd_c(자동차_비례출재_미경과보험료_가공, 자동차_상품군정보)\n",
    "자동차_비례출재_미경과보험료_가공['T02_RN_RINSC_CD'] = '124012'\n",
    "자동차_비례출재_미경과보험료_가공['CRD_GRD'] = clsf_crd_grd(자동차_비례출재_미경과보험료_가공, 재보험자_국내신용등급)\n",
    "자동차_비례출재_미경과보험료_가공.rename(columns={'RN_LTPD_URND_PRM': 'URND_PRM'}, inplace=True)\n",
    "자동차_비례출재_미경과보험료_가공 = 자동차_비례출재_미경과보험료_가공[['RRNR_DVCD', 'DMFR_DVCD', 'BOZ_CD', 'AT_PDGR_CD', 'AT_BSC_CVR_CD', 'CRD_GRD', 'URND_PRM']]\n",
    "\n",
    "자동차_비비례출재_미경과보험료_가공 = 자동차_비비례출재_미경과보험료.copy()\n",
    "자동차_비비례출재_미경과보험료_가공['RRNR_DVCD'] = '03'\n",
    "자동차_비비례출재_미경과보험료_가공['DMFR_DVCD'] = '01'\n",
    "자동차_비비례출재_미경과보험료_가공['BOZ_CD'] = 'B007' # 수정필요\n",
    "자동차_비비례출재_미경과보험료_가공['CRD_GRD'] = clsf_crd_grd(자동차_비비례출재_미경과보험료_가공, 재보험자_국내신용등급)\n",
    "자동차_비비례출재_미경과보험료_가공['AT_PDGR_CD'] = '01' # 수정필요 (현재는 미경과보험료 0으로 영향은 없음)\n",
    "자동차_비비례출재_미경과보험료_가공['AT_BSC_CVR_CD'] = '01' # 수정필요 (현재는 미경과보험료 0으로 영향은 없음)\n",
    "자동차_비비례출재_미경과보험료_가공.rename(columns={'LTPD_URND_PRM': 'URND_PRM'}, inplace=True)\n",
    "자동차_비비례출재_미경과보험료_가공 = 자동차_비비례출재_미경과보험료_가공[['RRNR_DVCD', 'DMFR_DVCD', 'BOZ_CD', 'AT_PDGR_CD', 'AT_BSC_CVR_CD', 'CRD_GRD', 'URND_PRM']]\n",
    "\n",
    "자동차_미경과보험료_가공 = pd.concat([자동차_원수_미경과보험료_가공, 자동차_비례출재_미경과보험료_가공, 자동차_비비례출재_미경과보험료_가공], axis=0).reset_index(drop=True)\n",
    "\n",
    "## 직전3년보험금손조비\n",
    "자동차_원수_직전3년보험금손조비_가공 = 자동차_원수_직전3년보험금손조비.copy()\n",
    "자동차_원수_직전3년보험금손조비_가공['RRNR_DVCD'] = '01'\n",
    "자동차_원수_직전3년보험금손조비_가공['DMFR_DVCD'] = '01'\n",
    "자동차_원수_직전3년보험금손조비_가공['BOZ_CD'] = clsf_boz_cd_c(자동차_원수_직전3년보험금손조비_가공, 자동차_상품군정보)\n",
    "자동차_원수_직전3년보험금손조비_가공['CRD_GRD'] = '#'\n",
    "자동차_원수_직전3년보험금손조비_가공.rename(columns={'AT_DAG_IVMT': 'DAG_IVMT'}, inplace=True)\n",
    "자동차_원수_직전3년보험금손조비_가공 = 자동차_원수_직전3년보험금손조비_가공[['RRNR_DVCD', 'DMFR_DVCD', 'BOZ_CD', 'CRD_GRD', 'PYN_BNF', 'DAG_IVMT']]\n",
    "\n",
    "자동차_비례출재_직전3년보험금손조비_가공 = 자동차_비례출재_직전3년보험금손조비.copy()\n",
    "자동차_비례출재_직전3년보험금손조비_가공 = 자동차_비례출재_직전3년보험금손조비_가공.assign(RN_DAG_IVMT=lambda x: x['RN_DAG_IVMT'].fillna(0))\n",
    "자동차_비례출재_직전3년보험금손조비_가공['RRNR_DVCD'] = '03'\n",
    "자동차_비례출재_직전3년보험금손조비_가공['DMFR_DVCD'] = '01'\n",
    "자동차_비례출재_직전3년보험금손조비_가공['BOZ_CD'] = clsf_boz_cd_c(자동차_비례출재_직전3년보험금손조비_가공, 자동차_상품군정보)\n",
    "자동차_비례출재_직전3년보험금손조비_가공['T02_RN_RINSC_CD'] = '124012'\n",
    "자동차_비례출재_직전3년보험금손조비_가공['CRD_GRD'] = clsf_crd_grd(자동차_비례출재_직전3년보험금손조비_가공, 재보험자_국내신용등급)\n",
    "자동차_비례출재_직전3년보험금손조비_가공.rename(columns={'RN_DAG_IVMT': 'DAG_IVMT', 'RN_PYN_BNF': 'PYN_BNF'}, inplace=True)\n",
    "자동차_비례출재_직전3년보험금손조비_가공 = 자동차_비례출재_직전3년보험금손조비_가공[['RRNR_DVCD', 'DMFR_DVCD', 'BOZ_CD', 'CRD_GRD', 'PYN_BNF', 'DAG_IVMT']]\n",
    "\n",
    "자동차_비비례출재_직전3년보험금손조비_가공 = 자동차_비비례출재_직전3년보험금손조비.copy()\n",
    "자동차_비비례출재_직전3년보험금손조비_가공['RRNR_DVCD'] = '03'\n",
    "자동차_비비례출재_직전3년보험금손조비_가공['DMFR_DVCD'] = '01'\n",
    "자동차_비비례출재_직전3년보험금손조비_가공['BOZ_CD'] = 'B007' # 수정필요\n",
    "자동차_비비례출재_직전3년보험금손조비_가공['CRD_GRD'] = clsf_crd_grd(자동차_비비례출재_직전3년보험금손조비_가공, 재보험자_국내신용등급)\n",
    "자동차_비비례출재_직전3년보험금손조비_가공.rename(columns={'WNCR_CNV_DAG_INV_CS': 'DAG_IVMT', 'WNCR_CNV_DS_RBNF_NET': 'PYN_BNF'}, inplace=True)\n",
    "자동차_비비례출재_직전3년보험금손조비_가공 = 자동차_비비례출재_직전3년보험금손조비_가공[['RRNR_DVCD', 'DMFR_DVCD', 'BOZ_CD', 'CRD_GRD', 'PYN_BNF', 'DAG_IVMT']]\n",
    "\n",
    "자동차_직전3년보험금손조비_가공 = pd.concat([자동차_원수_직전3년보험금손조비_가공, 자동차_비례출재_직전3년보험금손조비_가공, 자동차_비비례출재_직전3년보험금손조비_가공], axis=0).reset_index(drop=True)\n",
    "\n",
    "## 개별추산액\n",
    "자동차_원수_개별추산액_가공 = 자동차_원수_개별추산액.copy()\n",
    "자동차_원수_개별추산액_가공['RRNR_DVCD'] = '01'\n",
    "자동차_원수_개별추산액_가공['DMFR_DVCD'] = '01'\n",
    "자동차_원수_개별추산액_가공['BOZ_CD'] = clsf_boz_cd_c(자동차_원수_개별추산액_가공, 자동차_상품군정보)\n",
    "자동차_원수_개별추산액_가공['CRD_GRD'] = '#'\n",
    "자동차_원수_개별추산액_가공.rename(columns={'LTPD_OST_BNF': 'OST_BNF'}, inplace=True)\n",
    "자동차_원수_개별추산액_가공 = 자동차_원수_개별추산액_가공[['RRNR_DVCD', 'DMFR_DVCD', 'BOZ_CD', 'CRD_GRD', 'OST_BNF']]\n",
    "\n",
    "자동차_비례출재_개별추산액_가공 = 자동차_비례출재_개별추산액.copy()\n",
    "자동차_비례출재_개별추산액_가공['RRNR_DVCD'] = '03'\n",
    "자동차_비례출재_개별추산액_가공['DMFR_DVCD'] = '01'\n",
    "자동차_비례출재_개별추산액_가공['BOZ_CD'] = clsf_boz_cd_c(자동차_비례출재_개별추산액_가공, 자동차_상품군정보)\n",
    "자동차_비례출재_개별추산액_가공['T02_RN_RINSC_CD'] = '124012'\n",
    "자동차_비례출재_개별추산액_가공['CRD_GRD'] = clsf_crd_grd(자동차_비례출재_개별추산액_가공, 재보험자_국내신용등급)\n",
    "자동차_비례출재_개별추산액_가공.rename(columns={'RN_LTPD_OST_BNF': 'OST_BNF'}, inplace=True)\n",
    "자동차_비례출재_개별추산액_가공 = 자동차_비례출재_개별추산액_가공[['RRNR_DVCD', 'DMFR_DVCD', 'BOZ_CD', 'CRD_GRD', 'OST_BNF']]\n",
    "\n",
    "자동차_비비례출재_개별추산액_가공 = 자동차_비비례출재_개별추산액.copy()\n",
    "자동차_비비례출재_개별추산액_가공['RRNR_DVCD'] = '03'\n",
    "자동차_비비례출재_개별추산액_가공['DMFR_DVCD'] = '01'\n",
    "자동차_비비례출재_개별추산액_가공['BOZ_CD'] = 'B007' # 수정필요\n",
    "자동차_비비례출재_개별추산액_가공['CRD_GRD'] = clsf_crd_grd(자동차_비비례출재_개별추산액_가공, 재보험자_국내신용등급)\n",
    "자동차_비비례출재_개별추산액_가공.rename(columns={'WNCR_CNV_OST_RBNF': 'OST_BNF'}, inplace=True)\n",
    "자동차_비비례출재_개별추산액_가공 = 자동차_비비례출재_개별추산액_가공[['RRNR_DVCD', 'DMFR_DVCD', 'BOZ_CD', 'CRD_GRD', 'OST_BNF']]\n",
    "\n",
    "자동차_개별추산액_가공 = pd.concat([자동차_원수_개별추산액_가공, 자동차_비례출재_개별추산액_가공, 자동차_비비례출재_개별추산액_가공], axis=0).reset_index(drop=True)"
   ]
  },
  {
   "cell_type": "code",
   "execution_count": 85,
   "metadata": {},
   "outputs": [
    {
     "output_type": "error",
     "ename": "KeyError",
     "evalue": "\"Columns not found: 'AT_DAG_IVMT'\"",
     "traceback": [
      "\u001b[1;31m---------------------------------------------------------------------------\u001b[0m",
      "\u001b[1;31mKeyError\u001b[0m                                  Traceback (most recent call last)",
      "\u001b[1;32m<ipython-input-85-5192a8828955>\u001b[0m in \u001b[0;36m<module>\u001b[1;34m\u001b[0m\n\u001b[0;32m     10\u001b[0m \u001b[1;33m\u001b[0m\u001b[0m\n\u001b[0;32m     11\u001b[0m \u001b[1;31m## 손해조사비율\u001b[0m\u001b[1;33m\u001b[0m\u001b[1;33m\u001b[0m\u001b[1;33m\u001b[0m\u001b[0m\n\u001b[1;32m---> 12\u001b[1;33m \u001b[0m자동차_손해조사비율\u001b[0m \u001b[1;33m=\u001b[0m \u001b[0m자동차_원수_직전3년보험금손조비_가공\u001b[0m\u001b[0;31m \u001b[0m\u001b[0;31m\\\u001b[0m\u001b[1;33m\u001b[0m\u001b[1;33m\u001b[0m\u001b[0m\n\u001b[0m\u001b[0;32m     13\u001b[0m     \u001b[1;33m.\u001b[0m\u001b[0mgroupby\u001b[0m\u001b[1;33m(\u001b[0m\u001b[1;34m'BOZ_CD'\u001b[0m\u001b[1;33m)\u001b[0m\u001b[1;33m[\u001b[0m\u001b[1;33m[\u001b[0m\u001b[1;34m'PYN_BNF'\u001b[0m\u001b[1;33m,\u001b[0m \u001b[1;34m'AT_DAG_IVMT'\u001b[0m\u001b[1;33m]\u001b[0m\u001b[1;33m]\u001b[0m\u001b[1;33m.\u001b[0m\u001b[0msum\u001b[0m\u001b[1;33m(\u001b[0m\u001b[1;33m)\u001b[0m\u001b[0;31m \u001b[0m\u001b[0;31m\\\u001b[0m\u001b[1;33m\u001b[0m\u001b[1;33m\u001b[0m\u001b[0m\n\u001b[0;32m     14\u001b[0m     \u001b[1;33m.\u001b[0m\u001b[0meval\u001b[0m\u001b[1;33m(\u001b[0m\u001b[1;34m'LAE_RATIO = AT_DAG_IVMT/PYN_BNF'\u001b[0m\u001b[1;33m)\u001b[0m\u001b[1;33m.\u001b[0m\u001b[0mreset_index\u001b[0m\u001b[1;33m(\u001b[0m\u001b[1;33m)\u001b[0m\u001b[0;31m \u001b[0m\u001b[0;31m\\\u001b[0m\u001b[1;33m\u001b[0m\u001b[1;33m\u001b[0m\u001b[0m\n",
      "\u001b[1;32mC:\\ProgramData\\Anaconda3\\lib\\site-packages\\pandas\\core\\groupby\\generic.py\u001b[0m in \u001b[0;36m__getitem__\u001b[1;34m(self, key)\u001b[0m\n\u001b[0;32m   1648\u001b[0m                 \u001b[0mstacklevel\u001b[0m\u001b[1;33m=\u001b[0m\u001b[1;36m2\u001b[0m\u001b[1;33m,\u001b[0m\u001b[1;33m\u001b[0m\u001b[1;33m\u001b[0m\u001b[0m\n\u001b[0;32m   1649\u001b[0m             )\n\u001b[1;32m-> 1650\u001b[1;33m         \u001b[1;32mreturn\u001b[0m \u001b[0msuper\u001b[0m\u001b[1;33m(\u001b[0m\u001b[1;33m)\u001b[0m\u001b[1;33m.\u001b[0m\u001b[0m__getitem__\u001b[0m\u001b[1;33m(\u001b[0m\u001b[0mkey\u001b[0m\u001b[1;33m)\u001b[0m\u001b[1;33m\u001b[0m\u001b[1;33m\u001b[0m\u001b[0m\n\u001b[0m\u001b[0;32m   1651\u001b[0m \u001b[1;33m\u001b[0m\u001b[0m\n\u001b[0;32m   1652\u001b[0m     \u001b[1;32mdef\u001b[0m \u001b[0m_gotitem\u001b[0m\u001b[1;33m(\u001b[0m\u001b[0mself\u001b[0m\u001b[1;33m,\u001b[0m \u001b[0mkey\u001b[0m\u001b[1;33m,\u001b[0m \u001b[0mndim\u001b[0m\u001b[1;33m:\u001b[0m \u001b[0mint\u001b[0m\u001b[1;33m,\u001b[0m \u001b[0msubset\u001b[0m\u001b[1;33m=\u001b[0m\u001b[1;32mNone\u001b[0m\u001b[1;33m)\u001b[0m\u001b[1;33m:\u001b[0m\u001b[1;33m\u001b[0m\u001b[1;33m\u001b[0m\u001b[0m\n",
      "\u001b[1;32mC:\\ProgramData\\Anaconda3\\lib\\site-packages\\pandas\\core\\base.py\u001b[0m in \u001b[0;36m__getitem__\u001b[1;34m(self, key)\u001b[0m\n\u001b[0;32m    216\u001b[0m             \u001b[1;32mif\u001b[0m \u001b[0mlen\u001b[0m\u001b[1;33m(\u001b[0m\u001b[0mself\u001b[0m\u001b[1;33m.\u001b[0m\u001b[0mobj\u001b[0m\u001b[1;33m.\u001b[0m\u001b[0mcolumns\u001b[0m\u001b[1;33m.\u001b[0m\u001b[0mintersection\u001b[0m\u001b[1;33m(\u001b[0m\u001b[0mkey\u001b[0m\u001b[1;33m)\u001b[0m\u001b[1;33m)\u001b[0m \u001b[1;33m!=\u001b[0m \u001b[0mlen\u001b[0m\u001b[1;33m(\u001b[0m\u001b[0mkey\u001b[0m\u001b[1;33m)\u001b[0m\u001b[1;33m:\u001b[0m\u001b[1;33m\u001b[0m\u001b[1;33m\u001b[0m\u001b[0m\n\u001b[0;32m    217\u001b[0m                 \u001b[0mbad_keys\u001b[0m \u001b[1;33m=\u001b[0m \u001b[0mlist\u001b[0m\u001b[1;33m(\u001b[0m\u001b[0mset\u001b[0m\u001b[1;33m(\u001b[0m\u001b[0mkey\u001b[0m\u001b[1;33m)\u001b[0m\u001b[1;33m.\u001b[0m\u001b[0mdifference\u001b[0m\u001b[1;33m(\u001b[0m\u001b[0mself\u001b[0m\u001b[1;33m.\u001b[0m\u001b[0mobj\u001b[0m\u001b[1;33m.\u001b[0m\u001b[0mcolumns\u001b[0m\u001b[1;33m)\u001b[0m\u001b[1;33m)\u001b[0m\u001b[1;33m\u001b[0m\u001b[1;33m\u001b[0m\u001b[0m\n\u001b[1;32m--> 218\u001b[1;33m                 \u001b[1;32mraise\u001b[0m \u001b[0mKeyError\u001b[0m\u001b[1;33m(\u001b[0m\u001b[1;34mf\"Columns not found: {str(bad_keys)[1:-1]}\"\u001b[0m\u001b[1;33m)\u001b[0m\u001b[1;33m\u001b[0m\u001b[1;33m\u001b[0m\u001b[0m\n\u001b[0m\u001b[0;32m    219\u001b[0m             \u001b[1;32mreturn\u001b[0m \u001b[0mself\u001b[0m\u001b[1;33m.\u001b[0m\u001b[0m_gotitem\u001b[0m\u001b[1;33m(\u001b[0m\u001b[0mlist\u001b[0m\u001b[1;33m(\u001b[0m\u001b[0mkey\u001b[0m\u001b[1;33m)\u001b[0m\u001b[1;33m,\u001b[0m \u001b[0mndim\u001b[0m\u001b[1;33m=\u001b[0m\u001b[1;36m2\u001b[0m\u001b[1;33m)\u001b[0m\u001b[1;33m\u001b[0m\u001b[1;33m\u001b[0m\u001b[0m\n\u001b[0;32m    220\u001b[0m \u001b[1;33m\u001b[0m\u001b[0m\n",
      "\u001b[1;31mKeyError\u001b[0m: \"Columns not found: 'AT_DAG_IVMT'\""
     ]
    }
   ],
   "source": [
    "# 가정산출\n",
    "## 최종손해율\n",
    "# 자동차_최종손해율\n",
    "\n",
    "## 할인요소\n",
    "자동차_할인요소 = get_disc_factor_all_c(자동차_보험금진전추이, 할인율.query('KICS_SCEN_NO == 1'))\n",
    "\n",
    "## 재보험자산 손실조정율\n",
    "손실조정율 = get_loss_adj_rate_all_c(자동차_보험금진전추이, 할인율.query('KICS_SCEN_NO == 1'), 선도부도율)\n",
    "\n",
    "## 손해조사비율\n",
    "자동차_손해조사비율 = 자동차_원수_직전3년보험금손조비_가공 \\\n",
    "    .groupby('BOZ_CD')[['PYN_BNF', 'AT_DAG_IVMT']].sum() \\\n",
    "    .eval('LAE_RATIO = AT_DAG_IVMT/PYN_BNF').reset_index() \\\n",
    "    [['BOZ_CD', 'LAE_RATIO']]\n",
    "자동차_손해조사비율['RRNR_DVCD'] = '01'\n",
    "자동차_손해조사비율"
   ]
  },
  {
   "cell_type": "code",
   "execution_count": 65,
   "metadata": {},
   "outputs": [
    {
     "output_type": "execute_result",
     "data": {
      "text/plain": [
       "    BSC_CVR_CD PDGR_CD PDC_CD INER_CHN_DVCD USTK_DVCD  LTPD_URND_PRM  \\\n",
       "0           09      09  20055            14         1      863439937   \n",
       "1           01      09  20023            01         1    16029630462   \n",
       "2           02      09  20016            99         1    18762792018   \n",
       "3           01      08  20014            01         1    66398035275   \n",
       "4           09      08  20001            04         1    14231290541   \n",
       "..         ...     ...    ...           ...       ...            ...   \n",
       "461         03      19  20040            10         2        1200700   \n",
       "462         01      21  20042            11         2          13363   \n",
       "463         02      10  20058            10         1         471772   \n",
       "464         02      20  20041            10         2         462683   \n",
       "465         07      08  20014            01         1           3380   \n",
       "\n",
       "    AT_PDGR_CD AT_BSC_CVR_CD AT_CHN_DVCD RRNR_DVCD DMFR_DVCD BOZ_CD  \\\n",
       "0           02            09          04        01        01   B004   \n",
       "1           02            01          03        01        01   B003   \n",
       "2           02            01          01        01        01   B003   \n",
       "3           01            01          03        01        01   B001   \n",
       "4           01            09          02        01        01   B002   \n",
       "..         ...           ...         ...       ...       ...    ...   \n",
       "461         11            03          01        01        01   B002   \n",
       "462         11            01          01        01        01   B005   \n",
       "463         03            01          01        01        01   B005   \n",
       "464         11            01          01        01        01   B003   \n",
       "465         01            06          03        01        01   B002   \n",
       "\n",
       "     FNAL_LSRT  LAE_RATIO  DISC_FAC_PRM  \n",
       "0            1          0             1  \n",
       "1            1          0             1  \n",
       "2            1          0             1  \n",
       "3            1          0             1  \n",
       "4            1          0             1  \n",
       "..         ...        ...           ...  \n",
       "461          1          0             1  \n",
       "462          1          0             1  \n",
       "463          1          0             1  \n",
       "464          1          0             1  \n",
       "465          1          0             1  \n",
       "\n",
       "[466 rows x 15 columns]"
      ],
      "text/html": "<div>\n<style scoped>\n    .dataframe tbody tr th:only-of-type {\n        vertical-align: middle;\n    }\n\n    .dataframe tbody tr th {\n        vertical-align: top;\n    }\n\n    .dataframe thead th {\n        text-align: right;\n    }\n</style>\n<table border=\"1\" class=\"dataframe\">\n  <thead>\n    <tr style=\"text-align: right;\">\n      <th></th>\n      <th>BSC_CVR_CD</th>\n      <th>PDGR_CD</th>\n      <th>PDC_CD</th>\n      <th>INER_CHN_DVCD</th>\n      <th>USTK_DVCD</th>\n      <th>LTPD_URND_PRM</th>\n      <th>AT_PDGR_CD</th>\n      <th>AT_BSC_CVR_CD</th>\n      <th>AT_CHN_DVCD</th>\n      <th>RRNR_DVCD</th>\n      <th>DMFR_DVCD</th>\n      <th>BOZ_CD</th>\n      <th>FNAL_LSRT</th>\n      <th>LAE_RATIO</th>\n      <th>DISC_FAC_PRM</th>\n    </tr>\n  </thead>\n  <tbody>\n    <tr>\n      <th>0</th>\n      <td>09</td>\n      <td>09</td>\n      <td>20055</td>\n      <td>14</td>\n      <td>1</td>\n      <td>863439937</td>\n      <td>02</td>\n      <td>09</td>\n      <td>04</td>\n      <td>01</td>\n      <td>01</td>\n      <td>B004</td>\n      <td>1</td>\n      <td>0</td>\n      <td>1</td>\n    </tr>\n    <tr>\n      <th>1</th>\n      <td>01</td>\n      <td>09</td>\n      <td>20023</td>\n      <td>01</td>\n      <td>1</td>\n      <td>16029630462</td>\n      <td>02</td>\n      <td>01</td>\n      <td>03</td>\n      <td>01</td>\n      <td>01</td>\n      <td>B003</td>\n      <td>1</td>\n      <td>0</td>\n      <td>1</td>\n    </tr>\n    <tr>\n      <th>2</th>\n      <td>02</td>\n      <td>09</td>\n      <td>20016</td>\n      <td>99</td>\n      <td>1</td>\n      <td>18762792018</td>\n      <td>02</td>\n      <td>01</td>\n      <td>01</td>\n      <td>01</td>\n      <td>01</td>\n      <td>B003</td>\n      <td>1</td>\n      <td>0</td>\n      <td>1</td>\n    </tr>\n    <tr>\n      <th>3</th>\n      <td>01</td>\n      <td>08</td>\n      <td>20014</td>\n      <td>01</td>\n      <td>1</td>\n      <td>66398035275</td>\n      <td>01</td>\n      <td>01</td>\n      <td>03</td>\n      <td>01</td>\n      <td>01</td>\n      <td>B001</td>\n      <td>1</td>\n      <td>0</td>\n      <td>1</td>\n    </tr>\n    <tr>\n      <th>4</th>\n      <td>09</td>\n      <td>08</td>\n      <td>20001</td>\n      <td>04</td>\n      <td>1</td>\n      <td>14231290541</td>\n      <td>01</td>\n      <td>09</td>\n      <td>02</td>\n      <td>01</td>\n      <td>01</td>\n      <td>B002</td>\n      <td>1</td>\n      <td>0</td>\n      <td>1</td>\n    </tr>\n    <tr>\n      <th>...</th>\n      <td>...</td>\n      <td>...</td>\n      <td>...</td>\n      <td>...</td>\n      <td>...</td>\n      <td>...</td>\n      <td>...</td>\n      <td>...</td>\n      <td>...</td>\n      <td>...</td>\n      <td>...</td>\n      <td>...</td>\n      <td>...</td>\n      <td>...</td>\n      <td>...</td>\n    </tr>\n    <tr>\n      <th>461</th>\n      <td>03</td>\n      <td>19</td>\n      <td>20040</td>\n      <td>10</td>\n      <td>2</td>\n      <td>1200700</td>\n      <td>11</td>\n      <td>03</td>\n      <td>01</td>\n      <td>01</td>\n      <td>01</td>\n      <td>B002</td>\n      <td>1</td>\n      <td>0</td>\n      <td>1</td>\n    </tr>\n    <tr>\n      <th>462</th>\n      <td>01</td>\n      <td>21</td>\n      <td>20042</td>\n      <td>11</td>\n      <td>2</td>\n      <td>13363</td>\n      <td>11</td>\n      <td>01</td>\n      <td>01</td>\n      <td>01</td>\n      <td>01</td>\n      <td>B005</td>\n      <td>1</td>\n      <td>0</td>\n      <td>1</td>\n    </tr>\n    <tr>\n      <th>463</th>\n      <td>02</td>\n      <td>10</td>\n      <td>20058</td>\n      <td>10</td>\n      <td>1</td>\n      <td>471772</td>\n      <td>03</td>\n      <td>01</td>\n      <td>01</td>\n      <td>01</td>\n      <td>01</td>\n      <td>B005</td>\n      <td>1</td>\n      <td>0</td>\n      <td>1</td>\n    </tr>\n    <tr>\n      <th>464</th>\n      <td>02</td>\n      <td>20</td>\n      <td>20041</td>\n      <td>10</td>\n      <td>2</td>\n      <td>462683</td>\n      <td>11</td>\n      <td>01</td>\n      <td>01</td>\n      <td>01</td>\n      <td>01</td>\n      <td>B003</td>\n      <td>1</td>\n      <td>0</td>\n      <td>1</td>\n    </tr>\n    <tr>\n      <th>465</th>\n      <td>07</td>\n      <td>08</td>\n      <td>20014</td>\n      <td>01</td>\n      <td>1</td>\n      <td>3380</td>\n      <td>01</td>\n      <td>06</td>\n      <td>03</td>\n      <td>01</td>\n      <td>01</td>\n      <td>B002</td>\n      <td>1</td>\n      <td>0</td>\n      <td>1</td>\n    </tr>\n  </tbody>\n</table>\n<p>466 rows × 15 columns</p>\n</div>"
     },
     "metadata": {},
     "execution_count": 65
    }
   ],
   "source": [
    "자동차_원수_미경과보험료_가공 \\\n",
    "    .merge(자동차_최종손해율, on=['AT_CHN_DVCD', 'AT_PDGR_CD'], how='left') \\\n",
    "    .merge(자동차_손해조사비율, on=['BOZ_CD', 'RRNR_DVCD'], how='left') \\\n",
    "    .assign(LAE_RATIO = lambda x: x['LAE_RATIO'].fillna(0).astype(float)) \\\n",
    "    .merge(자동차_할인요소[['BOZ_CD', 'DISC_FAC_PRM']], on=['BOZ_CD'], how='left')"
   ]
  }
 ]
}