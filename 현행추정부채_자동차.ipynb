{
 "metadata": {
  "language_info": {
   "codemirror_mode": {
    "name": "ipython",
    "version": 3
   },
   "file_extension": ".py",
   "mimetype": "text/x-python",
   "name": "python",
   "nbconvert_exporter": "python",
   "pygments_lexer": "ipython3",
   "version": "3.8.5"
  },
  "orig_nbformat": 4,
  "kernelspec": {
   "name": "python3",
   "display_name": "Python 3.8.5 64-bit ('base': conda)"
  },
  "interpreter": {
   "hash": "b3ba2566441a7c06988d0923437866b63cedc61552a5af99d1f4fb67d367b25f"
  }
 },
 "nbformat": 4,
 "nbformat_minor": 2,
 "cells": [
  {
   "cell_type": "code",
   "execution_count": 7,
   "metadata": {},
   "outputs": [],
   "source": [
    "import os\n",
    "import numpy as np\n",
    "import pandas as pd\n",
    "from pathlib import Path\n",
    "from datetime import datetime\n",
    "from preprocessing import (\n",
    "    clsf_boz_cd_c, clsf_crd_grd, get_disc_factor_all_c, get_loss_adj_rate_all_c\n",
    ")"
   ]
  },
  {
   "cell_type": "code",
   "execution_count": 2,
   "metadata": {},
   "outputs": [],
   "source": [
    "# 환경설정\n",
    "pd.options.display.float_format = '{:,.0f}'.format\n",
    "os.makedirs('result', exist_ok=True)\n",
    "\n",
    "# 전역변수\n",
    "FILE_PATH = Path('./data/현행추정부채_자동차')\n",
    "BASE_YYMM = '201912'"
   ]
  },
  {
   "cell_type": "code",
   "execution_count": 3,
   "metadata": {},
   "outputs": [],
   "source": [
    "# 데이터 불러오기\n",
    "## 보험료부채 익스포져\n",
    "자동차_원수_미경과보험료 = pd.read_excel(FILE_PATH / f'자동차_원수_미경과보험료_{BASE_YYMM}.xlsx', dtype={'BSC_CVR_CD': str, 'PDGR_CD': str, 'PDC_CD': str, 'INER_CHN_DVCD': str})\n",
    "자동차_비례출재_미경과보험료 = pd.read_excel(FILE_PATH / f'자동차_비례출재_미경과보험료_{BASE_YYMM}.xlsx', dtype={'BSC_CVR_CD': str, 'PDGR_CD': str, 'PDC_CD': str, 'INER_CHN_DVCD': str})\n",
    "자동차_비비례출재_미경과보험료 = pd.read_excel(FILE_PATH / f'자동차_비비례출재_미경과보험료_{BASE_YYMM}.xlsx', dtype={'BSC_CVR_CD': str, 'PDGR_CD': str, 'PDC_CD': str, 'SL_CVR_CD': str, 'T02_RN_RINSC_CD': str})\n",
    "# 일반_원수_예정보험료 = pd.read_excel(FILE_PATH / f'일반_원수_예정보험료_{BASE_YYMM}.xlsx', dtype={'RRNR_DAT_DVCD': str, 'RRNR_CTC_BZ_DVCD': str, 'ARC_INPL_CD': str})\n",
    "# 일반_출재_예정보험료 = pd.read_excel(FILE_PATH / f'일반_출재_예정보험료_{BASE_YYMM}.xlsx', dtype={'RRNR_DAT_DVCD': str, 'RRNR_CTC_BZ_DVCD': str, 'ARC_INPL_CD': str, 'T02_RN_RINSC_CD': str})\n",
    "자동차_원수_직전3년보험금손조비 = pd.read_excel(FILE_PATH / f'자동차_원수_직전3년보험금손조비_{BASE_YYMM}.xlsx', dtype={'BSC_CVR_CD': str, 'PDGR_CD': str, 'PDC_CD': str, 'INER_CHN_DVCD': str})\n",
    "자동차_비례출재_직전3년보험금손조비 = pd.read_excel(FILE_PATH / f'자동차_비례출재_직전3년보험금손조비_{BASE_YYMM}.xlsx', dtype={'BSC_CVR_CD': str, 'PDGR_CD': str, 'PDC_CD': str, 'INER_CHN_DVCD': str})\n",
    "자동차_비비례출재_직전3년보험금손조비 = pd.read_excel(FILE_PATH / f'자동차_비비례출재_직전3년보험금손조비_{BASE_YYMM}.xlsx', dtype={'PDC_CD': str, 'T02_RN_RINSC_CD': str})\n",
    "\n",
    "## 준비금부채 익스포져\n",
    "자동차_원수_개별추산액 = pd.read_excel(FILE_PATH / f'자동차_원수_개별추산액_{BASE_YYMM}.xlsx', dtype={'BSC_CVR_CD': str, 'PDGR_CD': str, 'PDC_CD': str, 'INER_CHN_DVCD': str})\n",
    "자동차_비례출재_개별추산액 = pd.read_excel(FILE_PATH / f'자동차_비례출재_개별추산액_{BASE_YYMM}.xlsx', dtype={'BSC_CVR_CD': str, 'PDGR_CD': str, 'PDC_CD': str, 'INER_CHN_DVCD': str})\n",
    "자동차_비비례출재_개별추산액 = pd.read_excel(FILE_PATH / f'자동차_비비례출재_개별추산액_{BASE_YYMM}.xlsx', dtype={'T02_RN_RINSC_CD': str, 'PDC_CD': str})\n",
    "\n",
    "## 기초정보, 가정 등\n",
    "자동차_상품군정보 = pd.read_excel(FILE_PATH / '자동차_상품군정보.xlsx', dtype={'PDGR_CD': str, 'BSC_CVR_CD': str})\n",
    "자동차_보험금진전추이 = pd.read_excel(FILE_PATH / f'자동차_보험금진전추이_{201812}.xlsx', dtype={'PDGR_CD': str, 'AY': str}) \\\n",
    "        .rename(columns={'AT_PDGR_CD': 'BOZ_CD', 'AY_YM': 'AY'})\n",
    "자동차_최종손해율 = pd.read_excel(FILE_PATH / f'자동차_최종손해율_{201812}.xlsx', dtype={'RRNR_DVCD': str, 'AT_CHN_DVCD': str, 'AT_PDGR_CD': str})\n",
    "자동차_사업비율 = pd.read_excel(FILE_PATH / f'자동차_사업비율_{BASE_YYMM}.xlsx', dtype={'RRNR_DVCD': str, 'BOZ_CD': str})\n",
    "자동차_IBNR = pd.read_excel(FILE_PATH / f'자동차_IBNR_{BASE_YYMM}.xlsx', dtype={'RRNR_DVCD': str, 'BSC_CVR_CD': str})\n",
    "\n",
    "## 공통\n",
    "재보험자_국내신용등급 = pd.read_excel(FILE_PATH / f'재보험자_국내신용등급_{202012}.xlsx', dtype={'재보험사코드': str}) \\\n",
    "        .rename(columns = {'재보험사코드': 'T02_RN_RINSC_CD', '국내신용등급': 'CRD_GRD'})\n",
    "선도부도율 = pd.read_excel(FILE_PATH / f'선도부도율_{202012}.xlsx')\n",
    "할인율 = pd.read_excel(FILE_PATH / f'할인율_{202012}.xlsx')"
   ]
  },
  {
   "cell_type": "code",
   "execution_count": 4,
   "metadata": {},
   "outputs": [],
   "source": [
    "# 데이터 전처리\n",
    "## 미경과보험료\n",
    "자동차_원수_미경과보험료_가공 = 자동차_원수_미경과보험료.copy()\n",
    "자동차_원수_미경과보험료_가공['RRNR_DVCD'] = '04'\n",
    "자동차_원수_미경과보험료_가공['DMFR_DVCD'] = '01'\n",
    "자동차_원수_미경과보험료_가공['BOZ_CD'] = clsf_boz_cd_c(자동차_원수_미경과보험료_가공, 자동차_상품군정보)\n",
    "\n",
    "자동차_비례출재_미경과보험료_가공 = 자동차_비례출재_미경과보험료.copy()\n",
    "자동차_비례출재_미경과보험료_가공['RRNR_DVCD'] = '03'\n",
    "자동차_비례출재_미경과보험료_가공['DMFR_DVCD'] = '01'\n",
    "자동차_비례출재_미경과보험료_가공['BOZ_CD'] = clsf_boz_cd_c(자동차_비례출재_미경과보험료_가공, 자동차_상품군정보)\n",
    "자동차_비례출재_미경과보험료_가공['T02_RN_RINSC_CD'] = '124012'\n",
    "자동차_비례출재_미경과보험료_가공['CRD_GRD'] = clsf_crd_grd(자동차_비례출재_미경과보험료_가공, 재보험자_국내신용등급)\n",
    "\n",
    "자동차_비비례출재_미경과보험료_가공 = 자동차_비비례출재_미경과보험료.copy()\n",
    "자동차_비비례출재_미경과보험료_가공['RRNR_DVCD'] = '03'\n",
    "자동차_비비례출재_미경과보험료_가공['DMFR_DVCD'] = '01'\n",
    "자동차_비비례출재_미경과보험료_가공['BOZ_CD'] = clsf_boz_cd_c(자동차_비비례출재_미경과보험료_가공, 자동차_상품군정보)\n",
    "자동차_비비례출재_미경과보험료_가공['CRD_GRD'] = clsf_crd_grd(자동차_비비례출재_미경과보험료_가공, 재보험자_국내신용등급)\n",
    "\n",
    "## 직전3년보험금손조비\n",
    "자동차_원수_직전3년보험금손조비_가공 = 자동차_원수_직전3년보험금손조비.copy()\n",
    "자동차_원수_직전3년보험금손조비_가공['RRNR_DVCD'] = '04'\n",
    "자동차_원수_직전3년보험금손조비_가공['DMFR_DVCD'] = '01'\n",
    "자동차_원수_직전3년보험금손조비_가공['BOZ_CD'] = clsf_boz_cd_c(자동차_원수_직전3년보험금손조비_가공, 자동차_상품군정보)\n",
    "\n",
    "자동차_비례출재_직전3년보험금손조비_가공 = 자동차_비례출재_직전3년보험금손조비.copy()\n",
    "자동차_비례출재_직전3년보험금손조비_가공['RRNR_DVCD'] = '04'\n",
    "자동차_비례출재_직전3년보험금손조비_가공['DMFR_DVCD'] = '01'\n",
    "자동차_비례출재_직전3년보험금손조비_가공['BOZ_CD'] = clsf_boz_cd_c(자동차_비례출재_직전3년보험금손조비_가공, 자동차_상품군정보)\n",
    "자동차_비례출재_직전3년보험금손조비_가공['T02_RN_RINSC_CD'] = '124012'\n",
    "자동차_비례출재_직전3년보험금손조비_가공['CRD_GRD'] = clsf_crd_grd(자동차_비례출재_직전3년보험금손조비_가공, 재보험자_국내신용등급)\n",
    "\n",
    "자동차_비비례출재_직전3년보험금손조비_가공 = 자동차_비비례출재_직전3년보험금손조비.copy()\n",
    "자동차_비비례출재_직전3년보험금손조비_가공['RRNR_DVCD'] = '04'\n",
    "자동차_비비례출재_직전3년보험금손조비_가공['DMFR_DVCD'] = '01'\n",
    "# 자동차_비비례출재_직전3년보험금손조비_가공['BOZ_CD'] = clsf_boz_cd_c(자동차_비비례출재_직전3년보험금손조비_가공, 자동차_상품군정보)\n",
    "자동차_비비례출재_직전3년보험금손조비_가공['CRD_GRD'] = clsf_crd_grd(자동차_비비례출재_직전3년보험금손조비_가공, 재보험자_국내신용등급)\n",
    "\n",
    "## 개별추산액\n",
    "자동차_원수_개별추산액_가공 = 자동차_원수_개별추산액.copy()\n",
    "자동차_원수_개별추산액_가공['RRNR_DVCD'] = '04'\n",
    "자동차_원수_개별추산액_가공['DMFR_DVCD'] = '01'\n",
    "자동차_원수_개별추산액_가공['BOZ_CD'] = clsf_boz_cd_c(자동차_원수_개별추산액_가공, 자동차_상품군정보)\n",
    "\n",
    "자동차_비례출재_개별추산액_가공 = 자동차_비례출재_개별추산액.copy()\n",
    "자동차_비례출재_개별추산액_가공['RRNR_DVCD'] = '04'\n",
    "자동차_비례출재_개별추산액_가공['DMFR_DVCD'] = '01'\n",
    "자동차_비례출재_개별추산액_가공['BOZ_CD'] = clsf_boz_cd_c(자동차_비례출재_개별추산액_가공, 자동차_상품군정보)\n",
    "자동차_비례출재_개별추산액_가공['T02_RN_RINSC_CD'] = '124012'\n",
    "자동차_비례출재_개별추산액_가공['CRD_GRD'] = clsf_crd_grd(자동차_비례출재_개별추산액_가공, 재보험자_국내신용등급)\n",
    "\n",
    "자동차_비비례출재_개별추산액_가공 = 자동차_비비례출재_개별추산액.copy()\n",
    "자동차_비비례출재_개별추산액_가공['RRNR_DVCD'] = '04'\n",
    "자동차_비비례출재_개별추산액_가공['DMFR_DVCD'] = '01'\n",
    "# 자동차_비비례출재_개별추산액_가공['BOZ_CD'] = clsf_boz_cd_c(자동차_비비례출재_개별추산액_가공, 자동차_상품군정보)\n",
    "자동차_비비례출재_개별추산액_가공['CRD_GRD'] = clsf_crd_grd(자동차_비비례출재_개별추산액_가공, 재보험자_국내신용등급)\n",
    "\n",
    "# 자동차_개별추산액_가공 = pd.concat([자동차_원수_개별추산액_가공, 자동차_비례출재_개별추산액_가공, 자동차_비비례출재_개별추산액_가공], axis=0).reset_index(drop=True)"
   ]
  },
  {
   "cell_type": "code",
   "execution_count": 10,
   "metadata": {},
   "outputs": [],
   "source": [
    "# 가정산출\n",
    "## 할인요소\n",
    "자동차_할인요소 = get_disc_factor_all_c(자동차_보험금진전추이, 할인율.query('KICS_SCEN_NO == 1'))\n",
    "\n",
    "## 재보험자산 손실조정율\n",
    "손실조정율 = get_loss_adj_rate_all_c(자동차_보험금진전추이, 할인율.query('KICS_SCEN_NO == 1'), 선도부도율)"
   ]
  }
 ]
}