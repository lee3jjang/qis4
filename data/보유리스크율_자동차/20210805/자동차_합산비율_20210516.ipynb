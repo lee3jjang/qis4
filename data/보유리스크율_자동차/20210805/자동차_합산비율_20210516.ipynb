{
 "cells": [
  {
   "cell_type": "code",
   "execution_count": 1,
   "metadata": {},
   "outputs": [],
   "source": [
    "import os\n",
    "import numpy as np\n",
    "import pandas as pd\n",
    "from datetime import datetime\n",
    "import warnings\n",
    "import fss_rpt"
   ]
  },
  {
   "cell_type": "code",
   "execution_count": 2,
   "metadata": {},
   "outputs": [],
   "source": [
    "# 환경설정\n",
    "warnings.filterwarnings(\"ignore\")\n",
    "pd.options.display.float_format = '{:,.0f}'.format\n",
    "if not any([s == 'result' for s in os.listdir('.')]): os.mkdir('result')"
   ]
  },
  {
   "cell_type": "code",
   "execution_count": 3,
   "metadata": {},
   "outputs": [],
   "source": [
    "# 데이터 불러오기\n",
    "# IFRSDB\n",
    "\n",
    "# 기타\n",
    "위험계수 = pd.read_excel('data/위험계수_201912.xlsx')\n",
    "RBC분류 = pd.read_excel('data/RBC분류.xlsx', sheet_name='자동차')['KICS분류'].to_numpy()\n",
    "자동차_직전1년마감실적 = fss_rpt.load_rpt('data/업무보고서_202012.xlsx', 'AI060')\n",
    "자동차_1년전1년마감실적 = fss_rpt.load_rpt('data/업무보고서_201912.xlsx', 'AI060')\n",
    "자동차_2년전1년마감실적 = fss_rpt.load_rpt('data/업무보고서_201812.xlsx', 'AI060')\n",
    "자동차_직전1년마감실적.insert(0, 'KICS분류', RBC분류)\n",
    "자동차_1년전1년마감실적.insert(0, 'KICS분류', RBC분류)\n",
    "자동차_2년전1년마감실적.insert(0, 'KICS분류', RBC분류)"
   ]
  },
  {
   "cell_type": "code",
   "execution_count": 4,
   "metadata": {},
   "outputs": [],
   "source": [
    "def 합산비율_계산(df):\n",
    "    # 'E': '경과보험료', 'IA': '발생손해액', 'QA': '순사업비'\n",
    "\n",
    "    return df \\\n",
    "        .query('~KICS분류.isna()', engine='python') \\\n",
    "        .groupby('KICS분류')[['E', 'IA', 'QA']].sum() \\\n",
    "        .eval('합산비율 = (IA+QA)/E')[['합산비율']] \\\n",
    "        .reset_index() \\\n",
    "        .rename(columns = {'KICS분류': '보종'})"
   ]
  },
  {
   "cell_type": "code",
   "execution_count": 5,
   "metadata": {},
   "outputs": [],
   "source": [
    "# 데이터 가공하기\n",
    "# 위험계수\n",
    "자동차_위험계수_가공 = 위험계수.query('보종.str.contains(\"자동차\")', engine='python') \\\n",
    "    .assign(보종 = lambda x: x.보종.str.replace(r'\\d+(.)', '', regex=True))\n",
    "\n",
    "# 회사합산비율\n",
    "자동차_직전1년마감실적_가공 = 합산비율_계산(자동차_직전1년마감실적).rename(columns={'합산비율': '합산비율_직전1년'})\n",
    "자동차_1년전1년마감실적_가공 = 합산비율_계산(자동차_1년전1년마감실적).rename(columns={'합산비율': '합산비율_1년전1년'})\n",
    "자동차_2년전1년마감실적_가공 = 합산비율_계산(자동차_2년전1년마감실적).rename(columns={'합산비율': '합산비율_2년전1년'})\n",
    "\n",
    "자동차_조정위험계수 = 자동차_2년전1년마감실적_가공 \\\n",
    "    .merge(자동차_1년전1년마감실적_가공, on='보종', how='outer') \\\n",
    "    .merge(자동차_직전1년마감실적_가공, on='보종', how='outer') \\\n",
    "    .merge(자동차_위험계수_가공, on='보종', how='outer') \\\n",
    "    .eval('회사합산비율 = (합산비율_직전1년 + 합산비율_1년전1년 + 합산비율_2년전1년)/3') \\\n",
    "    .assign(보험가격조정위험계수 = lambda x: np.fmax(x.보험가격기본위험계수*0.7, x.보험가격기본위험계수+(x.회사합산비율-x.기준합산비율)*0.5))\n",
    "\n",
    "# 정렬\n",
    "자동차_순서 = {'개인용자동차(인담보)': 0, '개인용자동차(물담보)': 1, '업무용자동차(인담보)': 2, '업무용자동차(물담보)': 3, '영업용자동차(인담보)': 4, '영업용자동차(물담보)': 5, '기타(자동차)': 6}\n",
    "자동차_조정위험계수.index = 자동차_조정위험계수['보종'].apply(lambda x: 자동차_순서.get(x)).to_numpy()\n",
    "자동차_조정위험계수 = 자동차_조정위험계수.sort_index()"
   ]
  },
  {
   "cell_type": "code",
   "execution_count": 6,
   "metadata": {},
   "outputs": [],
   "source": [
    "# 데이터 출력하기\n",
    "now = datetime.now().strftime('%Y%m%d%H%M%S')\n",
    "with pd.ExcelWriter(f'result/자동차_조정위험계수_{now}.xlsx', 'xlsxwriter') as writer:\n",
    "    자동차_조정위험계수.to_excel(writer, '자동차_조정위험계수', index=False)"
   ]
  }
 ],
 "metadata": {
  "kernelspec": {
   "display_name": "Python 3",
   "language": "python",
   "name": "python3"
  },
  "language_info": {
   "codemirror_mode": {
    "name": "ipython",
    "version": 3
   },
   "file_extension": ".py",
   "mimetype": "text/x-python",
   "name": "python",
   "nbconvert_exporter": "python",
   "pygments_lexer": "ipython3",
   "version": "3.8.5"
  }
 },
 "nbformat": 4,
 "nbformat_minor": 4
}
