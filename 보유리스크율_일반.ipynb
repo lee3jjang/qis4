{
 "cells": [
  {
   "cell_type": "code",
   "execution_count": 1,
   "source": [
    "import os\r\n",
    "import numpy as np\r\n",
    "import pandas as pd\r\n",
    "from pathlib import Path\r\n",
    "from datetime import datetime\r\n",
    "from preprocessing import *"
   ],
   "outputs": [],
   "metadata": {}
  },
  {
   "cell_type": "code",
   "execution_count": 2,
   "source": [
    "# 환경설정\r\n",
    "pd.options.display.float_format = '{:,.0f}'.format\r\n",
    "os.makedirs('result', exist_ok=True)\r\n",
    "\r\n",
    "# 전역변수\r\n",
    "FILE_PATH = Path('data/보유리스크율_일반')\r\n",
    "BASE_YYMM = '201912'"
   ],
   "outputs": [],
   "metadata": {}
  },
  {
   "cell_type": "code",
   "execution_count": 8,
   "source": [
    "# 데이터 불러오기\r\n",
    "일반_원수_경과보험료 = pd.read_excel(FILE_PATH / f'일반_원수_경과보험료_{BASE_YYMM}.xlsx', dtype={'CLG_YM': str, 'ARC_INPL_CD': str, 'RRNR_DAT_DVCD': str, 'RRNR_CTC_BZ_DVCD': str})\r\n",
    "일반_출재_경과보험료 = pd.read_excel(FILE_PATH / f'일반_출재_경과보험료_{BASE_YYMM}.xlsx', dtype={'CLG_YM': str, 'ARC_INPL_CD': str, 'RRNR_DAT_DVCD': str, 'RRNR_CTC_BZ_DVCD': str})\r\n",
    "일반_원수_손해액 = pd.read_excel(FILE_PATH / f'일반_원수_손해액_{BASE_YYMM}.xlsx', dtype={'CLG_YM': str, 'ARC_INPL_CD': str, 'RRNR_DAT_DVCD': str, 'RRNR_DMFR_DVCD': str})\r\n",
    "일반_출재_손해액 = pd.read_excel(FILE_PATH / f'일반_출재_손해액_{BASE_YYMM}.xlsx', dtype={'CLG_YM': str, 'ARC_INPL_CD': str, 'RRNR_DAT_DVCD': str, 'RRNR_DMFR_DVCD': str})\r\n",
    "일반_특약보종별_직전1년경과보험료 = pd.read_excel(FILE_PATH / f'일반_특약보종별_직전1년경과보험료_{BASE_YYMM}.xlsx', dtype={'RRNR_TTY_CD': str, 'PDC_CD': str})\r\n",
    "일반_특약보종별_직전1년손해액 = pd.read_excel(FILE_PATH / f'일반_특약보종별_직전1년손해액_{BASE_YYMM}.xlsx', dtype={'RRNR_TTY_CD': str, 'PDC_CD': str})\r\n",
    "일반_특약수수료 = pd.read_excel(FILE_PATH / f'일반_특약수수료_{202012}.xlsx', dtype={'RRNR_TTY_CD': str, 'TTY_YR': str})\r\n",
    "일반_특약정보 = pd.read_excel(FILE_PATH / f'일반_특약정보_{BASE_YYMM}.xlsx', dtype={'RRNR_TTY_CD': str, 'TTY_YR': str})\r\n",
    "일반_상품정보 = pd.read_excel(FILE_PATH / '일반_상품정보.xlsx', dtype={'PDC_CD': str, 'PDGR_CD': str})\r\n",
    "산업_손해율_변동계수 = pd.read_excel(FILE_PATH / '산업_손해율_변동계수.xlsx')"
   ],
   "outputs": [],
   "metadata": {}
  },
  {
   "cell_type": "code",
   "execution_count": 9,
   "source": [
    "# 일반 손해율\r\n",
    "일반_원수_경과보험료_가공 = 일반_원수_경과보험료.copy()\r\n",
    "일반_원수_경과보험료_가공['RRNR_DVCD'] = clsf_rrnr_dvcd(일반_원수_경과보험료_가공, '원수')\r\n",
    "일반_원수_경과보험료_가공['DMFR_DVCD'] = clsf_dmfr_dvcd(일반_원수_경과보험료_가공)\r\n",
    "일반_원수_경과보험료_가공['BOZ_CD'] = clsf_boz_cd(일반_원수_경과보험료_가공, 일반_상품정보)\r\n",
    "\r\n",
    "일반_출재_경과보험료_가공 = 일반_출재_경과보험료.copy()\r\n",
    "일반_출재_경과보험료_가공['RRNR_DVCD'] = clsf_rrnr_dvcd(일반_출재_경과보험료_가공, '출재')\r\n",
    "일반_출재_경과보험료_가공['DMFR_DVCD'] = clsf_dmfr_dvcd(일반_출재_경과보험료_가공)\r\n",
    "일반_출재_경과보험료_가공['BOZ_CD'] = clsf_boz_cd(일반_출재_경과보험료_가공, 일반_상품정보)\r\n",
    "\r\n",
    "일반_원수_경과보험료_집계 = 일반_원수_경과보험료_가공.groupby(['FY', 'BOZ_CD'])['OGL_ELP_PRM'].sum().reset_index()\r\n",
    "일반_출재_경과보험료_집계 = 일반_출재_경과보험료_가공.groupby(['FY', 'BOZ_CD'])['RN_ELP_PRM'].sum().reset_index()\r\n",
    "일반_경과보험료_집계 = 일반_원수_경과보험료_집계.merge(일반_출재_경과보험료_집계, on=['FY', 'BOZ_CD'], how='outer')\r\n",
    "일반_경과보험료_집계[['OGL_ELP_PRM', 'RN_ELP_PRM']] = 일반_경과보험료_집계[['OGL_ELP_PRM', 'RN_ELP_PRM']].fillna(0)\r\n",
    "일반_경과보험료_집계.eval('ELP_PRM = OGL_ELP_PRM-RN_ELP_PRM', inplace=True)\r\n",
    "일반_경과보험료_집계.drop(['OGL_ELP_PRM', 'RN_ELP_PRM'], axis=1, inplace=True)\r\n",
    "\r\n",
    "일반_원수_손해액_가공 = 일반_원수_손해액.copy()\r\n",
    "일반_원수_손해액_가공['RRNR_DVCD'] = clsf_rrnr_dvcd(일반_원수_손해액_가공, '원수')\r\n",
    "일반_원수_손해액_가공['DMFR_DVCD'] = clsf_dmfr_dvcd(일반_원수_손해액_가공)\r\n",
    "일반_원수_손해액_가공['BOZ_CD'] = clsf_boz_cd(일반_원수_손해액_가공, 일반_상품정보)\r\n",
    "\r\n",
    "일반_출재_손해액_가공 = 일반_출재_손해액.copy()\r\n",
    "일반_출재_손해액_가공['RRNR_DVCD'] = clsf_rrnr_dvcd(일반_출재_손해액_가공, '출재')\r\n",
    "일반_출재_손해액_가공['DMFR_DVCD'] = clsf_dmfr_dvcd(일반_출재_손해액_가공)\r\n",
    "일반_출재_손해액_가공['BOZ_CD'] = clsf_boz_cd(일반_출재_손해액_가공, 일반_상품정보)\r\n",
    "\r\n",
    "일반_원수_손해액_집계 = 일반_원수_손해액_가공.groupby(['FY', 'BOZ_CD'])['OGL_LOSS'].sum().reset_index()\r\n",
    "일반_출재_손해액_집계 = 일반_출재_손해액_가공.groupby(['FY', 'BOZ_CD'])['RN_LOSS'].sum().reset_index()\r\n",
    "일반_손해액_집계 = 일반_원수_손해액_집계.merge(일반_출재_손해액_집계, on=['FY', 'BOZ_CD'], how='outer')\r\n",
    "일반_손해액_집계[['OGL_LOSS', 'RN_LOSS']] = 일반_손해액_집계[['OGL_LOSS', 'RN_LOSS']].fillna(0)\r\n",
    "일반_손해액_집계.eval('LOSS = OGL_LOSS-RN_LOSS', inplace=True)\r\n",
    "일반_손해액_집계.drop(['OGL_LOSS', 'RN_LOSS'], axis=1, inplace=True)\r\n",
    "\r\n",
    "일반_손해율 = 일반_경과보험료_집계.merge(일반_손해액_집계, on=['FY', 'BOZ_CD'], how='outer')\r\n",
    "일반_손해율[['ELP_PRM', 'LOSS']] = 일반_손해율[['ELP_PRM', 'LOSS']].fillna(0)\r\n",
    "일반_손해율.eval('LOSS_RATIO = LOSS/ELP_PRM*100', inplace=True)\r\n",
    "일반_손해율.drop(['LOSS', 'ELP_PRM'], axis=1, inplace=True)\r\n",
    "일반_손해율 = 일반_손해율.groupby(['BOZ_CD'], as_index=False)['LOSS_RATIO'].mean()\r\n",
    "일반_손해율"
   ],
   "outputs": [
    {
     "output_type": "execute_result",
     "data": {
      "text/plain": [
       "   BOZ_CD  LOSS_RATIO\n",
       "0    A001          70\n",
       "1    A002          51\n",
       "2    A003          33\n",
       "3    A004          43\n",
       "4    A005          54\n",
       "5    A006          40\n",
       "6    A007          46\n",
       "7    A008           2\n",
       "8    A009          88\n",
       "9    A010          29\n",
       "10   A011          -8"
      ],
      "text/html": [
       "<div>\n",
       "<style scoped>\n",
       "    .dataframe tbody tr th:only-of-type {\n",
       "        vertical-align: middle;\n",
       "    }\n",
       "\n",
       "    .dataframe tbody tr th {\n",
       "        vertical-align: top;\n",
       "    }\n",
       "\n",
       "    .dataframe thead th {\n",
       "        text-align: right;\n",
       "    }\n",
       "</style>\n",
       "<table border=\"1\" class=\"dataframe\">\n",
       "  <thead>\n",
       "    <tr style=\"text-align: right;\">\n",
       "      <th></th>\n",
       "      <th>BOZ_CD</th>\n",
       "      <th>LOSS_RATIO</th>\n",
       "    </tr>\n",
       "  </thead>\n",
       "  <tbody>\n",
       "    <tr>\n",
       "      <th>0</th>\n",
       "      <td>A001</td>\n",
       "      <td>70</td>\n",
       "    </tr>\n",
       "    <tr>\n",
       "      <th>1</th>\n",
       "      <td>A002</td>\n",
       "      <td>51</td>\n",
       "    </tr>\n",
       "    <tr>\n",
       "      <th>2</th>\n",
       "      <td>A003</td>\n",
       "      <td>33</td>\n",
       "    </tr>\n",
       "    <tr>\n",
       "      <th>3</th>\n",
       "      <td>A004</td>\n",
       "      <td>43</td>\n",
       "    </tr>\n",
       "    <tr>\n",
       "      <th>4</th>\n",
       "      <td>A005</td>\n",
       "      <td>54</td>\n",
       "    </tr>\n",
       "    <tr>\n",
       "      <th>5</th>\n",
       "      <td>A006</td>\n",
       "      <td>40</td>\n",
       "    </tr>\n",
       "    <tr>\n",
       "      <th>6</th>\n",
       "      <td>A007</td>\n",
       "      <td>46</td>\n",
       "    </tr>\n",
       "    <tr>\n",
       "      <th>7</th>\n",
       "      <td>A008</td>\n",
       "      <td>2</td>\n",
       "    </tr>\n",
       "    <tr>\n",
       "      <th>8</th>\n",
       "      <td>A009</td>\n",
       "      <td>88</td>\n",
       "    </tr>\n",
       "    <tr>\n",
       "      <th>9</th>\n",
       "      <td>A010</td>\n",
       "      <td>29</td>\n",
       "    </tr>\n",
       "    <tr>\n",
       "      <th>10</th>\n",
       "      <td>A011</td>\n",
       "      <td>-8</td>\n",
       "    </tr>\n",
       "  </tbody>\n",
       "</table>\n",
       "</div>"
      ]
     },
     "metadata": {},
     "execution_count": 9
    }
   ],
   "metadata": {}
  },
  {
   "cell_type": "code",
   "execution_count": null,
   "source": [
    "# 데이터 불러오기\r\n",
    "일반_원수_경과보험료 = pd.read_excel(FILE_PATH / f'일반_원수_경과보험료_{BASE_YYMM}.xlsx', dtype={'CLG_YM': str, 'ARC_INPL_CD': str})\r\n",
    "일반_출재_경과보험료 = pd.read_excel(FILE_PATH / f'일반_출재_경과보험료_{BASE_YYMM}.xlsx', dtype={'CLG_YM': str, 'ARC_INPL_CD': str})\r\n",
    "일반_원수_손해액 = pd.read_excel(FILE_PATH / f'일반_원수_손해액_{BASE_YYMM}.xlsx', dtype={'CLG_YM': str, 'ARC_INPL_CD': str})\r\n",
    "일반_출재_손해액 = pd.read_excel(FILE_PATH / f'일반_출재_손해액_{BASE_YYMM}.xlsx', dtype={'CLG_YM': str, 'ARC_INPL_CD': str})\r\n",
    "일반_특약보종별_직전1년경과보험료 = pd.read_excel(FILE_PATH / f'일반_특약보종별_직전1년경과보험료_{BASE_YYMM}.xlsx', dtype={'RRNR_TTY_CD': str, 'ARC_INPL_CD': str})\r\n",
    "일반_특약보종별_직전1년손해액 = pd.read_excel(FILE_PATH / f'일반_특약보종별_직전1년손해액_{BASE_YYMM}.xlsx', dtype={'RRNR_TTY_CD': str, 'ARC_INPL_CD': str})\r\n",
    "일반_특약수수료 = pd.read_excel(FILE_PATH / f'일반_특약수수료_{202012}.xlsx', dtype={'RRNR_TTY_CD': str, 'TTY_YR': str})\r\n",
    "일반_특약정보 = pd.read_excel(FILE_PATH / f'일반_특약정보_{BASE_YYMM}.xlsx', dtype={'RRNR_TTY_CD': str, 'TTY_YR': str})\r\n",
    "일반_상품정보 = pd.read_excel(FILE_PATH / '일반_상품정보.xlsx', dtype={'PDC_CD': str, 'PDGR_CD': str})\r\n",
    "산업_손해율_변동계수 = pd.read_excel(FILE_PATH / '산업_손해율_변동계수.xlsx')"
   ],
   "outputs": [],
   "metadata": {}
  },
  {
   "cell_type": "code",
   "execution_count": null,
   "source": [
    "# 일반_특약보종별_직전1년경과보험료_가공\r\n",
    "일반_특약보종별_직전1년경과보험료_가공.merge(일반_특약보종별_직전1년손해액_가공, on=['BOZ_CD', 'TTY_YR', 'TTY_CD_GRP'], how='outer')"
   ],
   "outputs": [],
   "metadata": {}
  },
  {
   "cell_type": "code",
   "execution_count": null,
   "source": [
    "# 예시\r\n",
    "# 근재보험특약, 기술보험특약, 재물보험특약, 배상책임보험특약, 해외PST\r\n",
    "특약명 = \"해외PST\"\r\n",
    "prem = 일반_특약보종별_직전1년경과보험료_가공.query('TTY_CD_GRP == @특약명').groupby(['TTY_YR', 'BOZ_CD'], as_index=False)[['ELP_PRM', 'T02_RN_ELP_PRM']].sum()\r\n",
    "comm = 일반_특약수수료_가공.query('TTY_CD_GRP == @특약명').drop('TTY_CD_GRP', axis=1)\r\n",
    "loss_ratio = 0.6\r\n",
    "risk_coef = 0.55\r\n",
    "get_ret_risk_rate_by_risk_coef(comm, prem, loss_ratio, risk_coef)"
   ],
   "outputs": [],
   "metadata": {}
  },
  {
   "cell_type": "code",
   "execution_count": null,
   "source": [
    "def get_ret_risk_rate_by_loss_dist(comm: pd.DataFrame, prem: pd.DataFrame, loss: pd.DataFrame, loss_ratio: float, cv: pd.DataFrame) -> pd.DataFrame:\r\n",
    "    \"\"\"특약별 보유리스크율(손해율분포법)\"\"\""
   ],
   "outputs": [],
   "metadata": {}
  }
 ],
 "metadata": {
  "orig_nbformat": 4,
  "language_info": {
   "name": "python",
   "version": "3.9.6",
   "mimetype": "text/x-python",
   "codemirror_mode": {
    "name": "ipython",
    "version": 3
   },
   "pygments_lexer": "ipython3",
   "nbconvert_exporter": "python",
   "file_extension": ".py"
  },
  "kernelspec": {
   "name": "python3",
   "display_name": "Python 3.9.6 64-bit"
  },
  "interpreter": {
   "hash": "c2c23473723b5cbd4d70b53e676df1cbf7fb866f1f5e249b9816d76fa29d1ead"
  }
 },
 "nbformat": 4,
 "nbformat_minor": 2
}