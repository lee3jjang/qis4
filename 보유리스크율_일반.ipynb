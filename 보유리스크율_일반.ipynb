{
 "cells": [
  {
   "cell_type": "code",
   "execution_count": 1,
   "source": [
    "import os\r\n",
    "import numpy as np\r\n",
    "import pandas as pd\r\n",
    "from pathlib import Path\r\n",
    "from datetime import datetime\r\n",
    "from preprocessing import *"
   ],
   "outputs": [
    {
     "output_type": "error",
     "ename": "KeyboardInterrupt",
     "evalue": "",
     "traceback": [
      "\u001b[1;31m---------------------------------------------------------------------------\u001b[0m",
      "\u001b[1;31mKeyboardInterrupt\u001b[0m                         Traceback (most recent call last)",
      "\u001b[1;32m<ipython-input-1-7c59dfb3ff0a>\u001b[0m in \u001b[0;36m<module>\u001b[1;34m\u001b[0m\n\u001b[0;32m      1\u001b[0m \u001b[1;32mimport\u001b[0m \u001b[0mos\u001b[0m\u001b[1;33m\u001b[0m\u001b[1;33m\u001b[0m\u001b[0m\n\u001b[0;32m      2\u001b[0m \u001b[1;32mimport\u001b[0m \u001b[0mnumpy\u001b[0m \u001b[1;32mas\u001b[0m \u001b[0mnp\u001b[0m\u001b[1;33m\u001b[0m\u001b[1;33m\u001b[0m\u001b[0m\n\u001b[1;32m----> 3\u001b[1;33m \u001b[1;32mimport\u001b[0m \u001b[0mpandas\u001b[0m \u001b[1;32mas\u001b[0m \u001b[0mpd\u001b[0m\u001b[1;33m\u001b[0m\u001b[1;33m\u001b[0m\u001b[0m\n\u001b[0m\u001b[0;32m      4\u001b[0m \u001b[1;32mfrom\u001b[0m \u001b[0mpathlib\u001b[0m \u001b[1;32mimport\u001b[0m \u001b[0mPath\u001b[0m\u001b[1;33m\u001b[0m\u001b[1;33m\u001b[0m\u001b[0m\n\u001b[0;32m      5\u001b[0m \u001b[1;32mfrom\u001b[0m \u001b[0mdatetime\u001b[0m \u001b[1;32mimport\u001b[0m \u001b[0mdatetime\u001b[0m\u001b[1;33m\u001b[0m\u001b[1;33m\u001b[0m\u001b[0m\n",
      "\u001b[1;32m~\\AppData\\Local\\Programs\\Python\\Python39\\lib\\site-packages\\pandas\\__init__.py\u001b[0m in \u001b[0;36m<module>\u001b[1;34m\u001b[0m\n\u001b[0;32m     49\u001b[0m \u001b[1;32mimport\u001b[0m \u001b[0mpandas\u001b[0m\u001b[1;33m.\u001b[0m\u001b[0mcore\u001b[0m\u001b[1;33m.\u001b[0m\u001b[0mconfig_init\u001b[0m\u001b[1;33m\u001b[0m\u001b[1;33m\u001b[0m\u001b[0m\n\u001b[0;32m     50\u001b[0m \u001b[1;33m\u001b[0m\u001b[0m\n\u001b[1;32m---> 51\u001b[1;33m from pandas.core.api import (\n\u001b[0m\u001b[0;32m     52\u001b[0m     \u001b[1;31m# dtype\u001b[0m\u001b[1;33m\u001b[0m\u001b[1;33m\u001b[0m\u001b[1;33m\u001b[0m\u001b[0m\n\u001b[0;32m     53\u001b[0m     \u001b[0mInt8Dtype\u001b[0m\u001b[1;33m,\u001b[0m\u001b[1;33m\u001b[0m\u001b[1;33m\u001b[0m\u001b[0m\n",
      "\u001b[1;32m~\\AppData\\Local\\Programs\\Python\\Python39\\lib\\site-packages\\pandas\\core\\api.py\u001b[0m in \u001b[0;36m<module>\u001b[1;34m\u001b[0m\n\u001b[0;32m     13\u001b[0m \u001b[1;33m\u001b[0m\u001b[0m\n\u001b[0;32m     14\u001b[0m \u001b[1;32mfrom\u001b[0m \u001b[0mpandas\u001b[0m\u001b[1;33m.\u001b[0m\u001b[0mcore\u001b[0m\u001b[1;33m.\u001b[0m\u001b[0malgorithms\u001b[0m \u001b[1;32mimport\u001b[0m \u001b[0mfactorize\u001b[0m\u001b[1;33m,\u001b[0m \u001b[0munique\u001b[0m\u001b[1;33m,\u001b[0m \u001b[0mvalue_counts\u001b[0m\u001b[1;33m\u001b[0m\u001b[1;33m\u001b[0m\u001b[0m\n\u001b[1;32m---> 15\u001b[1;33m \u001b[1;32mfrom\u001b[0m \u001b[0mpandas\u001b[0m\u001b[1;33m.\u001b[0m\u001b[0mcore\u001b[0m\u001b[1;33m.\u001b[0m\u001b[0marrays\u001b[0m \u001b[1;32mimport\u001b[0m \u001b[0mCategorical\u001b[0m\u001b[1;33m\u001b[0m\u001b[1;33m\u001b[0m\u001b[0m\n\u001b[0m\u001b[0;32m     16\u001b[0m \u001b[1;32mfrom\u001b[0m \u001b[0mpandas\u001b[0m\u001b[1;33m.\u001b[0m\u001b[0mcore\u001b[0m\u001b[1;33m.\u001b[0m\u001b[0marrays\u001b[0m\u001b[1;33m.\u001b[0m\u001b[0mboolean\u001b[0m \u001b[1;32mimport\u001b[0m \u001b[0mBooleanDtype\u001b[0m\u001b[1;33m\u001b[0m\u001b[1;33m\u001b[0m\u001b[0m\n\u001b[0;32m     17\u001b[0m \u001b[1;32mfrom\u001b[0m \u001b[0mpandas\u001b[0m\u001b[1;33m.\u001b[0m\u001b[0mcore\u001b[0m\u001b[1;33m.\u001b[0m\u001b[0marrays\u001b[0m\u001b[1;33m.\u001b[0m\u001b[0mfloating\u001b[0m \u001b[1;32mimport\u001b[0m \u001b[0mFloat32Dtype\u001b[0m\u001b[1;33m,\u001b[0m \u001b[0mFloat64Dtype\u001b[0m\u001b[1;33m\u001b[0m\u001b[1;33m\u001b[0m\u001b[0m\n",
      "\u001b[1;32m~\\AppData\\Local\\Programs\\Python\\Python39\\lib\\site-packages\\pandas\\core\\arrays\\__init__.py\u001b[0m in \u001b[0;36m<module>\u001b[1;34m\u001b[0m\n\u001b[0;32m      9\u001b[0m \u001b[1;32mfrom\u001b[0m \u001b[0mpandas\u001b[0m\u001b[1;33m.\u001b[0m\u001b[0mcore\u001b[0m\u001b[1;33m.\u001b[0m\u001b[0marrays\u001b[0m\u001b[1;33m.\u001b[0m\u001b[0mfloating\u001b[0m \u001b[1;32mimport\u001b[0m \u001b[0mFloatingArray\u001b[0m\u001b[1;33m\u001b[0m\u001b[1;33m\u001b[0m\u001b[0m\n\u001b[0;32m     10\u001b[0m \u001b[1;32mfrom\u001b[0m \u001b[0mpandas\u001b[0m\u001b[1;33m.\u001b[0m\u001b[0mcore\u001b[0m\u001b[1;33m.\u001b[0m\u001b[0marrays\u001b[0m\u001b[1;33m.\u001b[0m\u001b[0minteger\u001b[0m \u001b[1;32mimport\u001b[0m \u001b[0mIntegerArray\u001b[0m\u001b[1;33m,\u001b[0m \u001b[0minteger_array\u001b[0m\u001b[1;33m\u001b[0m\u001b[1;33m\u001b[0m\u001b[0m\n\u001b[1;32m---> 11\u001b[1;33m \u001b[1;32mfrom\u001b[0m \u001b[0mpandas\u001b[0m\u001b[1;33m.\u001b[0m\u001b[0mcore\u001b[0m\u001b[1;33m.\u001b[0m\u001b[0marrays\u001b[0m\u001b[1;33m.\u001b[0m\u001b[0minterval\u001b[0m \u001b[1;32mimport\u001b[0m \u001b[0mIntervalArray\u001b[0m\u001b[1;33m\u001b[0m\u001b[1;33m\u001b[0m\u001b[0m\n\u001b[0m\u001b[0;32m     12\u001b[0m \u001b[1;32mfrom\u001b[0m \u001b[0mpandas\u001b[0m\u001b[1;33m.\u001b[0m\u001b[0mcore\u001b[0m\u001b[1;33m.\u001b[0m\u001b[0marrays\u001b[0m\u001b[1;33m.\u001b[0m\u001b[0mmasked\u001b[0m \u001b[1;32mimport\u001b[0m \u001b[0mBaseMaskedArray\u001b[0m\u001b[1;33m\u001b[0m\u001b[1;33m\u001b[0m\u001b[0m\n\u001b[0;32m     13\u001b[0m \u001b[1;32mfrom\u001b[0m \u001b[0mpandas\u001b[0m\u001b[1;33m.\u001b[0m\u001b[0mcore\u001b[0m\u001b[1;33m.\u001b[0m\u001b[0marrays\u001b[0m\u001b[1;33m.\u001b[0m\u001b[0mnumpy_\u001b[0m \u001b[1;32mimport\u001b[0m \u001b[0mPandasArray\u001b[0m\u001b[1;33m,\u001b[0m \u001b[0mPandasDtype\u001b[0m\u001b[1;33m\u001b[0m\u001b[1;33m\u001b[0m\u001b[0m\n",
      "\u001b[1;32m~\\AppData\\Local\\Programs\\Python\\Python39\\lib\\site-packages\\pandas\\core\\arrays\\interval.py\u001b[0m in \u001b[0;36m<module>\u001b[1;34m\u001b[0m\n\u001b[0;32m     51\u001b[0m )\n\u001b[0;32m     52\u001b[0m \u001b[1;32mfrom\u001b[0m \u001b[0mpandas\u001b[0m\u001b[1;33m.\u001b[0m\u001b[0mcore\u001b[0m\u001b[1;33m.\u001b[0m\u001b[0mindexers\u001b[0m \u001b[1;32mimport\u001b[0m \u001b[0mcheck_array_indexer\u001b[0m\u001b[1;33m\u001b[0m\u001b[1;33m\u001b[0m\u001b[0m\n\u001b[1;32m---> 53\u001b[1;33m \u001b[1;32mfrom\u001b[0m \u001b[0mpandas\u001b[0m\u001b[1;33m.\u001b[0m\u001b[0mcore\u001b[0m\u001b[1;33m.\u001b[0m\u001b[0mindexes\u001b[0m\u001b[1;33m.\u001b[0m\u001b[0mbase\u001b[0m \u001b[1;32mimport\u001b[0m \u001b[0mensure_index\u001b[0m\u001b[1;33m\u001b[0m\u001b[1;33m\u001b[0m\u001b[0m\n\u001b[0m\u001b[0;32m     54\u001b[0m \u001b[1;32mfrom\u001b[0m \u001b[0mpandas\u001b[0m\u001b[1;33m.\u001b[0m\u001b[0mcore\u001b[0m\u001b[1;33m.\u001b[0m\u001b[0mops\u001b[0m \u001b[1;32mimport\u001b[0m \u001b[0minvalid_comparison\u001b[0m\u001b[1;33m,\u001b[0m \u001b[0munpack_zerodim_and_defer\u001b[0m\u001b[1;33m\u001b[0m\u001b[1;33m\u001b[0m\u001b[0m\n\u001b[0;32m     55\u001b[0m \u001b[1;33m\u001b[0m\u001b[0m\n",
      "\u001b[1;32m~\\AppData\\Local\\Programs\\Python\\Python39\\lib\\site-packages\\pandas\\core\\indexes\\base.py\u001b[0m in \u001b[0;36m<module>\u001b[1;34m\u001b[0m\n\u001b[0;32m     23\u001b[0m \u001b[1;32mimport\u001b[0m \u001b[0mnumpy\u001b[0m \u001b[1;32mas\u001b[0m \u001b[0mnp\u001b[0m\u001b[1;33m\u001b[0m\u001b[1;33m\u001b[0m\u001b[0m\n\u001b[0;32m     24\u001b[0m \u001b[1;33m\u001b[0m\u001b[0m\n\u001b[1;32m---> 25\u001b[1;33m \u001b[1;32mfrom\u001b[0m \u001b[0mpandas\u001b[0m\u001b[1;33m.\u001b[0m\u001b[0m_libs\u001b[0m \u001b[1;32mimport\u001b[0m \u001b[0malgos\u001b[0m \u001b[1;32mas\u001b[0m \u001b[0mlibalgos\u001b[0m\u001b[1;33m,\u001b[0m \u001b[0mindex\u001b[0m \u001b[1;32mas\u001b[0m \u001b[0mlibindex\u001b[0m\u001b[1;33m,\u001b[0m \u001b[0mlib\u001b[0m\u001b[1;33m\u001b[0m\u001b[1;33m\u001b[0m\u001b[0m\n\u001b[0m\u001b[0;32m     26\u001b[0m \u001b[1;32mimport\u001b[0m \u001b[0mpandas\u001b[0m\u001b[1;33m.\u001b[0m\u001b[0m_libs\u001b[0m\u001b[1;33m.\u001b[0m\u001b[0mjoin\u001b[0m \u001b[1;32mas\u001b[0m \u001b[0mlibjoin\u001b[0m\u001b[1;33m\u001b[0m\u001b[1;33m\u001b[0m\u001b[0m\n\u001b[0;32m     27\u001b[0m \u001b[1;32mfrom\u001b[0m \u001b[0mpandas\u001b[0m\u001b[1;33m.\u001b[0m\u001b[0m_libs\u001b[0m\u001b[1;33m.\u001b[0m\u001b[0mlib\u001b[0m \u001b[1;32mimport\u001b[0m \u001b[0mis_datetime_array\u001b[0m\u001b[1;33m,\u001b[0m \u001b[0mno_default\u001b[0m\u001b[1;33m\u001b[0m\u001b[1;33m\u001b[0m\u001b[0m\n",
      "\u001b[1;32m~\\AppData\\Local\\Programs\\Python\\Python39\\lib\\importlib\\_bootstrap.py\u001b[0m in \u001b[0;36mparent\u001b[1;34m(self)\u001b[0m\n",
      "\u001b[1;31mKeyboardInterrupt\u001b[0m: "
     ]
    }
   ],
   "metadata": {}
  },
  {
   "cell_type": "code",
   "execution_count": null,
   "source": [
    "# 환경설정\r\n",
    "pd.options.display.float_format = '{:,.0f}'.format\r\n",
    "os.makedirs('result', exist_ok=True)\r\n",
    "\r\n",
    "# 전역변수\r\n",
    "FILE_PATH = Path('data/보유리스크율_일반')\r\n",
    "BASE_YYMM = '201912'\r\n",
    "BASE_YYYY = BASE_YYMM[:4]"
   ],
   "outputs": [],
   "metadata": {}
  },
  {
   "cell_type": "code",
   "execution_count": null,
   "source": [
    "# 데이터 불러오기\r\n",
    "일반_원수_직전3년연간경과보험료 = pd.read_excel(FILE_PATH / f'일반_원수_직전3년연간경과보험료_{202012}.xlsx',\r\n",
    "    dtype={'FY': str, 'RRNR_DAT_DVCD': str, 'RRNR_CTC_BZ_DVCD': str, 'PDC_CD': str, 'OGL_ELP_PRM': float})\r\n",
    "일반_출재_직전3년연간경과보험료 = pd.read_excel(FILE_PATH / f'일반_출재_직전3년연간경과보험료_{202012}.xlsx',\r\n",
    "    dtype={'FY': str, 'RRNR_DAT_DVCD': str, 'RRNR_CTC_BZ_DVCD': str, 'PDC_CD': str, 'RN_ELP_PRM': float})\r\n",
    "일반_원수_직전3년연간손해액 = pd.read_excel(FILE_PATH / f'일반_원수_직전3년연간손해액_{202012}.xlsx',\r\n",
    "    dtype={'FY': str, 'RRNR_DAT_DVCD': str, 'RRNR_DMFR_DVCD': str, 'PDC_CD': str, 'OGL_LOSS': float})\r\n",
    "일반_출재_직전3년연간손해액 = pd.read_excel(FILE_PATH / f'일반_출재_직전3년연간손해액_{202012}.xlsx',\r\n",
    "    dtype={'FY': str, 'RRNR_DAT_DVCD': str, 'RRNR_DMFR_DVCD': str, 'PDC_CD': str, 'RN_LOSS': float})\r\n",
    "일반_특약보종별_직전1년경과보험료 = pd.read_excel(FILE_PATH / f'일반_특약보종별_직전1년경과보험료_{BASE_YYMM}.xlsx',\r\n",
    "    dtype={'RRNR_DAT_DVCD': str, 'RRNR_CTC_BZ_DVCD': str, 'PDC_CD': str, 'RRNR_TTY_CD': str, 'ELP_PRM': float, 'RN_ELP_PRM': float}) \\\r\n",
    "    .rename(columns={'ELP_PRM': 'OGL_ELP_PRM'}) # TODO: ELP_PRM -> OGL_ELP_PRM로 수정하기\r\n",
    "일반_특약보종별_직전1년손해액 = pd.read_excel(FILE_PATH / f'일반_특약보종별_직전1년손해액_{BASE_YYMM}.xlsx',\r\n",
    "    dtype={'RRNR_DAT_DVCD': str, 'RRNR_CTC_BZ_DVCD': str, 'PDC_CD': str, 'RRNR_TTY_CD': str, 'OGL_LOSS': float, 'RN_LOSS': float})\r\n",
    "일반_특약수수료 = pd.read_excel(FILE_PATH / f'일반_특약수수료_{202012}.xlsx', dtype={'RRNR_TTY_CD': str, 'TTY_YR': str})\r\n",
    "일반_특약정보 = pd.read_excel(FILE_PATH / f'일반_특약정보_{BASE_YYMM}.xlsx', dtype={'RRNR_TTY_CD': str, 'TTY_YR': str})\r\n",
    "일반_상품정보 = pd.read_excel(FILE_PATH / '일반_상품정보.xlsx', dtype={'PDC_CD': str, 'PDGR_CD': str})\r\n",
    "산업_손해율_변동계수 = pd.read_excel(FILE_PATH / '산업_손해율_변동계수.xlsx')"
   ],
   "outputs": [],
   "metadata": {}
  },
  {
   "cell_type": "code",
   "execution_count": null,
   "source": [
    "pd.options.display.float_format = '{:,.3f}'.format\r\n",
    "\r\n",
    "# 특약정보\r\n",
    "## 근재보험특약, 기술보험특약, 재물보험특약, 배상책임보험특약, 해외PST\r\n",
    "일반_특약정보_가공 = 일반_특약정보.copy()\r\n",
    "일반_특약정보_가공['TTY_CD_GRP'] = None\r\n",
    "일반_특약정보_가공.loc[lambda x: x.TTY_CD_NM.str.contains(\"(재물보험|패키지)\"), 'TTY_CD_GRP'] = '재물보험특약'\r\n",
    "일반_특약정보_가공.loc[lambda x: x.TTY_CD_NM.str.contains(\"기술보험\"), 'TTY_CD_GRP'] = '기술보험특약'\r\n",
    "일반_특약정보_가공.loc[lambda x: x.TTY_CD_NM.str.contains(\"근재보험\"), 'TTY_CD_GRP'] = '근재보험특약'\r\n",
    "일반_특약정보_가공.loc[lambda x: x.TTY_CD_NM.str.contains(\"배상책임보험\"), 'TTY_CD_GRP'] = '배상책임보험특약'\r\n",
    "일반_특약정보_가공.loc[lambda x: x.TTY_CD_NM.str.contains(\"해외PST\"), 'TTY_CD_GRP'] = '해외PST'\r\n",
    "\r\n",
    "# 특약수수료\r\n",
    "일반_특약수수료_가공 = 일반_특약수수료.copy()\r\n",
    "일반_특약수수료_가공 = 일반_특약수수료_가공.merge(일반_특약정보_가공, on=['RRNR_TTY_CD', 'TTY_YR'], how='left').query('~TTY_CD_GRP.isna()')\r\n",
    "일반_특약수수료_가공 = 일반_특약수수료_가공[['TTY_CD_GRP', 'TTY_YR', 'CMSN_ADD_RT', 'CMSN_MULT_RT', 'BSE_LSRT', 'PVSN_CMSN_RT', 'LWT_CMSN_RT', 'TOP_CMSN_RT']].drop_duplicates()\r\n",
    "\r\n",
    "# 직전3년평균손해율\r\n",
    "일반_원수_직전3년연간경과보험료_가공 = 일반_원수_직전3년연간경과보험료.copy()\r\n",
    "일반_원수_직전3년연간경과보험료_가공['RRNR_DVCD'] = clsf_rrnr_dvcd(일반_원수_직전3년연간경과보험료_가공)\r\n",
    "일반_원수_직전3년연간경과보험료_가공['DMFR_DVCD'] = clsf_dmfr_dvcd(일반_원수_직전3년연간경과보험료_가공)\r\n",
    "일반_원수_직전3년연간경과보험료_가공['BOZ_CD'] = clsf_boz_cd(일반_원수_직전3년연간경과보험료_가공, 일반_상품정보)\r\n",
    "일반_원수_직전3년연간경과보험료_집계 = 일반_원수_직전3년연간경과보험료_가공.groupby(['FY', 'BOZ_CD'], as_index=False)[['OGL_ELP_PRM']].sum()\r\n",
    "\r\n",
    "일반_출재_직전3년연간경과보험료_가공 = 일반_출재_직전3년연간경과보험료.copy()\r\n",
    "일반_출재_직전3년연간경과보험료_가공['RRNR_DVCD'] = '03'\r\n",
    "일반_출재_직전3년연간경과보험료_가공['DMFR_DVCD'] = clsf_dmfr_dvcd(일반_출재_직전3년연간경과보험료_가공)\r\n",
    "일반_출재_직전3년연간경과보험료_가공['BOZ_CD'] = clsf_boz_cd(일반_출재_직전3년연간경과보험료_가공, 일반_상품정보)\r\n",
    "일반_출재_직전3년연간경과보험료_집계 = 일반_출재_직전3년연간경과보험료_가공.groupby(['FY', 'BOZ_CD'], as_index=False)[['RN_ELP_PRM']].sum()\r\n",
    "\r\n",
    "일반_원수_직전3년연간손해액_가공 = 일반_원수_직전3년연간손해액.copy()\r\n",
    "일반_원수_직전3년연간손해액_가공['RRNR_DVCD'] = clsf_rrnr_dvcd(일반_원수_직전3년연간손해액_가공)\r\n",
    "일반_원수_직전3년연간손해액_가공['DMFR_DVCD'] = clsf_dmfr_dvcd(일반_원수_직전3년연간손해액_가공)\r\n",
    "일반_원수_직전3년연간손해액_가공['BOZ_CD'] = clsf_boz_cd(일반_원수_직전3년연간손해액_가공, 일반_상품정보)\r\n",
    "일반_원수_직전3년연간손해액_집계 = 일반_원수_직전3년연간손해액_가공.groupby(['FY', 'BOZ_CD'], as_index=False)[['OGL_LOSS']].sum()\r\n",
    "\r\n",
    "일반_출재_직전3년연간손해액_가공 = 일반_출재_직전3년연간손해액.copy()\r\n",
    "일반_출재_직전3년연간손해액_가공['RRNR_DVCD'] = '03'\r\n",
    "일반_출재_직전3년연간손해액_가공['DMFR_DVCD'] = clsf_dmfr_dvcd(일반_출재_직전3년연간손해액_가공)\r\n",
    "일반_출재_직전3년연간손해액_가공['BOZ_CD'] = clsf_boz_cd(일반_출재_직전3년연간손해액_가공, 일반_상품정보)\r\n",
    "일반_출재_직전3년연간손해액_집계 = 일반_출재_직전3년연간손해액_가공.groupby(['FY', 'BOZ_CD'], as_index=False)[['RN_LOSS']].sum()\r\n",
    "\r\n",
    "일반_직전3년평균손해율 = 일반_원수_직전3년연간경과보험료_집계 \\\r\n",
    "    .merge(일반_출재_직전3년연간경과보험료_집계, on=['FY', 'BOZ_CD'], how='outer') \\\r\n",
    "    .merge(일반_원수_직전3년연간손해액_집계, on=['FY', 'BOZ_CD'], how='outer') \\\r\n",
    "    .merge(일반_출재_직전3년연간손해액_집계, on=['FY', 'BOZ_CD'], how='outer')\r\n",
    "일반_직전3년평균손해율[['OGL_ELP_PRM', 'RN_ELP_PRM', 'OGL_LOSS', 'RN_LOSS']] = 일반_직전3년평균손해율[['OGL_ELP_PRM', 'RN_ELP_PRM', 'OGL_LOSS', 'RN_LOSS']].fillna(0)\r\n",
    "일반_직전3년평균손해율.eval('RET_ELP_PRM = OGL_ELP_PRM - RN_ELP_PRM', inplace=True)\r\n",
    "일반_직전3년평균손해율.eval('RET_LOSS = OGL_LOSS - RN_LOSS', inplace=True)\r\n",
    "일반_직전3년평균손해율.eval('LOSS_RATIO = RET_LOSS/RET_ELP_PRM', inplace=True)\r\n",
    "일반_직전3년평균손해율 = 일반_직전3년평균손해율.groupby('BOZ_CD', as_index=False)['LOSS_RATIO'].mean()\r\n",
    "\r\n",
    "# 특약보종별 직전1년경과보험료\r\n",
    "일반_특약보종별_직전1년경과보험료_가공 = 일반_특약보종별_직전1년경과보험료.copy()\r\n",
    "일반_특약보종별_직전1년경과보험료_가공 = 일반_특약보종별_직전1년경과보험료_가공.query('~RRNR_DAT_DVCD.isna()').reset_index(drop=True)\r\n",
    "일반_특약보종별_직전1년경과보험료_가공['RRNR_DVCD'] = clsf_rrnr_dvcd(일반_특약보종별_직전1년경과보험료_가공)\r\n",
    "일반_특약보종별_직전1년경과보험료_가공['DMFR_DVCD'] = clsf_dmfr_dvcd(일반_특약보종별_직전1년경과보험료_가공)\r\n",
    "일반_특약보종별_직전1년경과보험료_가공['BOZ_CD'] = clsf_boz_cd(일반_특약보종별_직전1년경과보험료_가공, 일반_상품정보)\r\n",
    "일반_특약보종별_직전1년경과보험료_가공 = 일반_특약보종별_직전1년경과보험료_가공.merge(일반_특약정보_가공, on='RRNR_TTY_CD', how='left')\r\n",
    "일반_특약보종별_직전1년경과보험료_가공 = 일반_특약보종별_직전1년경과보험료_가공.groupby(['TTY_CD_GRP', 'BOZ_CD', 'TTY_YR'], as_index=False)[['OGL_ELP_PRM', 'RN_ELP_PRM']].sum()\r\n",
    "\r\n",
    "# 특약보종별 직전1년손해액\r\n",
    "일반_특약보종별_직전1년손해액_가공 = 일반_특약보종별_직전1년손해액.copy()\r\n",
    "일반_특약보종별_직전1년손해액_가공 = 일반_특약보종별_직전1년손해액_가공.query('~RRNR_DAT_DVCD.isna()').reset_index(drop=True)\r\n",
    "일반_특약보종별_직전1년손해액_가공['RRNR_DVCD'] = clsf_rrnr_dvcd(일반_특약보종별_직전1년손해액_가공)\r\n",
    "일반_특약보종별_직전1년손해액_가공['DMFR_DVCD'] = clsf_dmfr_dvcd(일반_특약보종별_직전1년손해액_가공)\r\n",
    "일반_특약보종별_직전1년손해액_가공['BOZ_CD'] = clsf_boz_cd(일반_특약보종별_직전1년손해액_가공, 일반_상품정보)\r\n",
    "일반_특약보종별_직전1년손해액_가공 = 일반_특약보종별_직전1년손해액_가공.merge(일반_특약정보_가공, on='RRNR_TTY_CD', how='left')\r\n",
    "일반_특약보종별_직전1년손해액_가공 = 일반_특약보종별_직전1년손해액_가공.groupby(['TTY_CD_GRP', 'BOZ_CD', 'TTY_YR'], as_index=False)[['OGL_LOSS', 'RN_LOSS']].sum()\r\n",
    "\r\n",
    "일반_특약보종별_실적 = 일반_특약보종별_직전1년경과보험료_가공 \\\r\n",
    "    .merge(일반_특약보종별_직전1년손해액_가공, on=['TTY_CD_GRP', 'BOZ_CD', 'TTY_YR'], how='outer')\r\n",
    "일반_특약보종별_실적[['OGL_ELP_PRM', 'RN_ELP_PRM', 'OGL_LOSS', 'RN_LOSS']] = 일반_특약보종별_실적[['OGL_ELP_PRM', 'RN_ELP_PRM', 'OGL_LOSS', 'RN_LOSS']].fillna(0)\r\n",
    "\r\n",
    "# 특약보종별 실적 집계\r\n",
    "# 일반_특약보종별_실적_가공 = []\r\n",
    "# for tty_cd_grp in ['재물보험특약', '기술보험특약', '근재보험특약', '배상책임보험특약', '해외PST']:\r\n",
    "#     STRT_YYYY = str(int(BASE_YYYY)  - (7 if tty_cd_grp in ['근재보험특약', '배상책임보험특약'] else 5))\r\n",
    "#     일반_특약보종별_실적_가공.append(일반_특약보종별_실적.query('TTY_CD_GRP == @tty_cd_grp').query('TTY_YR > @STRT_YYYY'))\r\n",
    "# 일반_특약보종별_실적_가공 = pd.concat(일반_특약보종별_실적_가공, axis=0).reset_index(drop=True)\r\n",
    "일반_특약보종별_실적_가공 = []\r\n",
    "for boz_cd in ['A001', 'A002', 'A003', 'A004', 'A005', 'A006', 'A007', 'A008', 'A009', 'A010', 'A011']:\r\n",
    "    STRT_YYYY = str(int(BASE_YYYY)  - (7 if boz_cd in ['A005', 'A006'] else 5))\r\n",
    "    일반_특약보종별_실적_가공.append(일반_특약보종별_실적.query('BOZ_CD == @boz_cd').query('TTY_YR > @STRT_YYYY'))\r\n",
    "일반_특약보종별_실적_가공 = pd.concat(일반_특약보종별_실적_가공, axis=0).reset_index(drop=True)"
   ],
   "outputs": [
    {
     "output_type": "stream",
     "name": "stderr",
     "text": [
      "C:\\Users\\11700205.EDBINS\\AppData\\Local\\Programs\\Python\\Python39\\lib\\site-packages\\pandas\\core\\strings\\accessor.py:101: UserWarning: This pattern has match groups. To actually get the groups, use str.extract.\n",
      "  return func(self, *args, **kwargs)\n"
     ]
    }
   ],
   "metadata": {}
  },
  {
   "cell_type": "code",
   "execution_count": null,
   "source": [
    "pd.options.display.float_format = '{:,.0f}'.format\r\n",
    "\r\n",
    "# 보유리스크율\r\n",
    "## 위험계수적용법\r\n",
    "일반_보유리스크율_위험계수적용법 = []\r\n",
    "for tty_cd_grp in ['근재보험특약', '기술보험특약', '재물보험특약', '배상책임보험특약', '해외PST']:\r\n",
    "    for boz_cd in ['A001', 'A002', 'A003', 'A004', 'A005', 'A006', 'A007', 'A008', 'A009', 'A010', 'A011']:\r\n",
    "        prem = 일반_특약보종별_실적_가공.query('TTY_CD_GRP == @tty_cd_grp').query('BOZ_CD == @boz_cd').groupby('TTY_YR', as_index=False)[['OGL_ELP_PRM', 'RN_ELP_PRM']].sum()\r\n",
    "        if len(prem) == 0: continue\r\n",
    "        comm = 일반_특약수수료_가공.query('TTY_CD_GRP == @tty_cd_grp').drop('TTY_CD_GRP', axis=1)\r\n",
    "        loss_ratio = 일반_직전3년평균손해율.query('BOZ_CD == @boz_cd')['LOSS_RATIO'].values[0]\r\n",
    "        risk_coef = 0.55 # TODO: boz_cd별 적용위험계수로 수정\r\n",
    "        일반_보유리스크율_위험계수적용법_특약보종별 = get_ret_risk_rate_by_risk_coef(comm, prem, loss_ratio, risk_coef)\r\n",
    "        일반_보유리스크율_위험계수적용법_특약보종별.insert(0, 'BOZ_CD', boz_cd)\r\n",
    "        일반_보유리스크율_위험계수적용법_특약보종별.insert(0, 'TTY_CD_GRP', tty_cd_grp)\r\n",
    "        일반_보유리스크율_위험계수적용법.append(일반_보유리스크율_위험계수적용법_특약보종별)\r\n",
    "일반_보유리스크율_위험계수적용법 = pd.concat(일반_보유리스크율_위험계수적용법, axis=0)\r\n",
    "일반_보유리스크율_위험계수적용법.query('OGL_ELP_PRM > 0', inplace=True)"
   ],
   "outputs": [],
   "metadata": {}
  },
  {
   "cell_type": "code",
   "execution_count": null,
   "source": [
    "## 손해율분포법\r\n",
    "# input\r\n",
    "ogl_elp_prm_tty = 20000000\r\n",
    "rn_elp_prm_tty = 2000000\r\n",
    "ogl_loss_tty = 8000000\r\n",
    "rn_loss_tty = 1200000\r\n",
    "ogl_1yr_elp_prm_tty_boz = 1000000\r\n",
    "rn_1yr_elp_prm_tty_boz = 250000\r\n",
    "ogl_1yr_loss_tty_boz = 1200000\r\n",
    "rn_1yr_loss_tty_boz = 200000\r\n",
    "loss_ratio = .5\r\n",
    "cv = 0.118124992066769\r\n",
    "slope, a, b, top, bottom = 0.8, 0.6, 0.3, 0.6, 0.3\r\n",
    "\r\n",
    "get_ret_risk_rate_by_loss_dist(ogl_elp_prm_tty, rn_elp_prm_tty, ogl_loss_tty, rn_loss_tty, \r\n",
    "    ogl_1yr_elp_prm_tty_boz, rn_1yr_elp_prm_tty_boz, ogl_1yr_loss_tty_boz, rn_1yr_loss_tty_boz, \r\n",
    "    loss_ratio, cv, slope, a, b, top, bottom)"
   ],
   "outputs": [
    {
     "output_type": "execute_result",
     "data": {
      "text/plain": [
       "(23381.602069041834, 22212.52196558949)"
      ]
     },
     "metadata": {},
     "execution_count": 12
    }
   ],
   "metadata": {}
  }
 ],
 "metadata": {
  "orig_nbformat": 4,
  "language_info": {
   "name": "python",
   "version": "3.9.6",
   "mimetype": "text/x-python",
   "codemirror_mode": {
    "name": "ipython",
    "version": 3
   },
   "pygments_lexer": "ipython3",
   "nbconvert_exporter": "python",
   "file_extension": ".py"
  },
  "kernelspec": {
   "name": "python3",
   "display_name": "Python 3.9.6 64-bit"
  },
  "interpreter": {
   "hash": "c2c23473723b5cbd4d70b53e676df1cbf7fb866f1f5e249b9816d76fa29d1ead"
  }
 },
 "nbformat": 4,
 "nbformat_minor": 2
}