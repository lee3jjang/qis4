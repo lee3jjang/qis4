{
 "metadata": {
  "language_info": {
   "codemirror_mode": {
    "name": "ipython",
    "version": 3
   },
   "file_extension": ".py",
   "mimetype": "text/x-python",
   "name": "python",
   "nbconvert_exporter": "python",
   "pygments_lexer": "ipython3",
   "version": "3.8.5"
  },
  "orig_nbformat": 4,
  "kernelspec": {
   "name": "python3",
   "display_name": "Python 3.8.5 64-bit ('base': conda)"
  },
  "interpreter": {
   "hash": "b3ba2566441a7c06988d0923437866b63cedc61552a5af99d1f4fb67d367b25f"
  }
 },
 "nbformat": 4,
 "nbformat_minor": 2,
 "cells": [
  {
   "cell_type": "code",
   "execution_count": 3,
   "metadata": {},
   "outputs": [],
   "source": [
    "import os\n",
    "import numpy as np\n",
    "import pandas as pd\n",
    "from pathlib import Path\n",
    "from typing import List, Tuple\n",
    "from preprocessing import clsf_boz_cd, clsf_rrnr_dvcd, clsf_dmfr_dvcd, clsf_crd_grd, get_cf, clsf_pdgr_cd, get_disc_factor"
   ]
  },
  {
   "cell_type": "code",
   "execution_count": 4,
   "metadata": {},
   "outputs": [],
   "source": [
    "# 환경설정\n",
    "pd.options.display.float_format = '{:,.0f}'.format\n",
    "os.makedirs('result', exist_ok=True)\n",
    "\n",
    "# 전역변수\n",
    "FILE_PATH = Path('./data/현행추정부채_일반')"
   ]
  },
  {
   "cell_type": "code",
   "execution_count": 21,
   "metadata": {},
   "outputs": [],
   "source": [
    "# 데이터 불러오기\n",
    "## 익스포져\n",
    "일반_원수_미경과보험료 = pd.read_excel(FILE_PATH / '일반_원수_미경과보험료.xlsx', dtype={'RRNR_DAT_DVCD': str, 'RRNR_CTC_BZ_DVCD': str, 'ARC_INPL_CD': str})\n",
    "일반_출재_미경과보험료 = pd.read_excel(FILE_PATH / '일반_출재_미경과보험료.xlsx', dtype={'RRNR_DAT_DVCD': str, 'RRNR_CTC_BZ_DVCD': str, 'ARC_INPL_CD': str, 'T02_RN_RINSC_CD': str})\n",
    "일반_원수_예정보험료 = pd.read_excel(FILE_PATH / '일반_원수_예정보험료.xlsx', dtype={'RRNR_DAT_DVCD': str, 'RRNR_CTC_BZ_DVCD': str, 'ARC_INPL_CD': str})\n",
    "일반_출재_예정보험료 = pd.read_excel(FILE_PATH / '일반_출재_예정보험료.xlsx', dtype={'RRNR_DAT_DVCD': str, 'RRNR_CTC_BZ_DVCD': str, 'ARC_INPL_CD': str, 'T02_RN_RINSC_CD': str})\n",
    "일반_원수_개별추산액 = pd.read_excel(FILE_PATH / '일반_원수_개별추산액.xlsx', dtype={'RRNR_DAT_DVCD': str, 'RRNR_DMFR_DVCD': str, 'ARC_INPL_CD': str})\n",
    "일반_출재_개별추산액 = pd.read_excel(FILE_PATH / '일반_출재_개별추산액.xlsx', dtype={'RRNR_DAT_DVCD': str, 'RRNR_DMFR_DVCD': str, 'ARC_INPL_CD': str, 'T02_RN_RINSC_CD': str})\n",
    "\n",
    "## 기초정보, 가정 등\n",
    "일반_상품정보 = pd.read_excel(FILE_PATH / '일반_상품정보.xlsx', dtype={'PDC_CD': str, 'PDGR_CD': str})\n",
    "일반_보험금진전추이 = pd.read_excel(FILE_PATH / '일반_보험금진전추이.xlsx')\n",
    "\n",
    "## 공통\n",
    "국가구분 = pd.read_excel(FILE_PATH / '국가구분.xlsx', dtype={'CNTR_CATG_CD': str})\n",
    "재보험자_국내신용등급 = pd.read_excel(FILE_PATH / '재보험자_국내신용등급.xlsx', dtype={'재보험사코드': str}) \\\n",
    "    .rename(columns = {'재보험사코드': 'T02_RN_RINSC_CD', '국내신용등급': 'CRD_GRD'})\n",
    "선도부도율 = pd.read_excel(FILE_PATH / '선도부도율.xlsx')\n",
    "할인율 = pd.read_excel(FILE_PATH / '할인율.xlsx')"
   ]
  },
  {
   "cell_type": "code",
   "execution_count": 23,
   "metadata": {},
   "outputs": [],
   "source": [
    "# 데이터 전처리\n",
    "일반_원수_미경과보험료['RRNR_DVCD'] = clsf_rrnr_dvcd(일반_원수_미경과보험료, '원수')\n",
    "일반_원수_미경과보험료['DMFR_DVCD'] = clsf_dmfr_dvcd(일반_원수_미경과보험료)\n",
    "일반_원수_미경과보험료['BOZ_CD'] = clsf_boz_cd(일반_원수_미경과보험료, 일반_상품정보)\n",
    "일반_원수_미경과보험료['PDGR_CD'] = clsf_pdgr_cd(일반_원수_미경과보험료, 일반_상품정보)\n",
    "\n",
    "일반_출재_미경과보험료['RRNR_DVCD'] = clsf_rrnr_dvcd(일반_출재_미경과보험료, '출재')\n",
    "일반_출재_미경과보험료['DMFR_DVCD'] = clsf_dmfr_dvcd(일반_출재_미경과보험료)\n",
    "일반_출재_미경과보험료['BOZ_CD'] = clsf_boz_cd(일반_출재_미경과보험료, 일반_상품정보)\n",
    "일반_출재_미경과보험료['PDGR_CD'] = clsf_pdgr_cd(일반_출재_미경과보험료, 일반_상품정보)\n",
    "일반_출재_미경과보험료['CRD_GRD'] = clsf_crd_grd(일반_출재_미경과보험료, 재보험자_국내신용등급)\n",
    "\n",
    "일반_원수_예정보험료['RRNR_DVCD'] = clsf_rrnr_dvcd(일반_원수_예정보험료, '원수')\n",
    "일반_원수_예정보험료['DMFR_DVCD'] = clsf_dmfr_dvcd(일반_원수_예정보험료)\n",
    "일반_원수_예정보험료['BOZ_CD'] = clsf_boz_cd(일반_원수_예정보험료, 일반_상품정보)\n",
    "일반_원수_예정보험료['PDGR_CD'] = clsf_pdgr_cd(일반_원수_예정보험료, 일반_상품정보)\n",
    "\n",
    "일반_출재_예정보험료['RRNR_DVCD'] = clsf_rrnr_dvcd(일반_출재_예정보험료, '출재')\n",
    "일반_출재_예정보험료['DMFR_DVCD'] = clsf_dmfr_dvcd(일반_출재_예정보험료)\n",
    "일반_출재_예정보험료['BOZ_CD'] = clsf_boz_cd(일반_출재_예정보험료, 일반_상품정보)\n",
    "일반_출재_예정보험료['PDGR_CD'] = clsf_pdgr_cd(일반_출재_예정보험료, 일반_상품정보)\n",
    "일반_출재_예정보험료['CRD_GRD'] = clsf_crd_grd(일반_출재_예정보험료, 재보험자_국내신용등급)\n",
    "\n",
    "일반_원수_개별추산액['RRNR_DVCD'] = clsf_rrnr_dvcd(일반_원수_개별추산액, '원수')\n",
    "일반_원수_개별추산액['DMFR_DVCD'] = clsf_dmfr_dvcd(일반_원수_개별추산액)\n",
    "일반_원수_개별추산액['BOZ_CD'] = clsf_boz_cd(일반_원수_개별추산액, 일반_상품정보)\n",
    "일반_원수_개별추산액['PDGR_CD'] = clsf_pdgr_cd(일반_원수_개별추산액, 일반_상품정보)\n",
    "\n",
    "일반_출재_개별추산액['RRNR_DVCD'] = clsf_rrnr_dvcd(일반_출재_개별추산액, '출재')\n",
    "일반_출재_개별추산액['DMFR_DVCD'] = clsf_dmfr_dvcd(일반_출재_개별추산액)\n",
    "일반_출재_개별추산액['BOZ_CD'] = clsf_boz_cd(일반_출재_개별추산액, 일반_상품정보)\n",
    "일반_출재_개별추산액['PDGR_CD'] = clsf_pdgr_cd(일반_출재_개별추산액, 일반_상품정보)\n",
    "일반_출재_개별추산액['CRD_GRD'] = clsf_crd_grd(일반_출재_개별추산액, 재보험자_국내신용등급)"
   ]
  },
  {
   "cell_type": "code",
   "execution_count": 24,
   "metadata": {},
   "outputs": [
    {
     "output_type": "execute_result",
     "data": {
      "text/plain": [
       "     RRNR_DAT_DVCD RRNR_DMFR_DVCD NTNL_CTRY_CD ARC_INPL_CD T02_RN_RINSC_CD  \\\n",
       "0               01              1           KR     1040010          124012   \n",
       "1               01              1           KR     1058410          124031   \n",
       "2               01              1           KR     1069410          122086   \n",
       "3               01              1           KR     1051810          124012   \n",
       "4               01              1           KR     1061710          185087   \n",
       "...            ...            ...          ...         ...             ...   \n",
       "1348            01              1           KR     1050611          123015   \n",
       "1349            01              1          NaN     1050310          124035   \n",
       "1350            01              1          NaN     1050310          124096   \n",
       "1351            01              1           KR     1063811          999A21   \n",
       "1352            01              2           US     1041210          313069   \n",
       "\n",
       "      RN_LTPD_OST_AMT RRNR_DVCD DMFR_DVCD BOZ_CD PDGR_CD CRD_GRD  \n",
       "0          4547133387        03        01   A001      23      AA  \n",
       "1             9000000        03        01   A007      28     AAA  \n",
       "2            42056520        03        01   A007      28     AA-  \n",
       "3           756784391        03        01   A003      27      AA  \n",
       "4              366260        03        01   A007      28      AA  \n",
       "...               ...       ...       ...    ...     ...     ...  \n",
       "1348                0        03        01   A003      27     AA+  \n",
       "1349           350000        03        01   A003      27     AA+  \n",
       "1350           700000        03        01   A003      27     AA+  \n",
       "1351                0        03        01   A010      29      AA  \n",
       "1352                0        03        02   A002      24     AA+  \n",
       "\n",
       "[1353 rows x 11 columns]"
      ],
      "text/html": "<div>\n<style scoped>\n    .dataframe tbody tr th:only-of-type {\n        vertical-align: middle;\n    }\n\n    .dataframe tbody tr th {\n        vertical-align: top;\n    }\n\n    .dataframe thead th {\n        text-align: right;\n    }\n</style>\n<table border=\"1\" class=\"dataframe\">\n  <thead>\n    <tr style=\"text-align: right;\">\n      <th></th>\n      <th>RRNR_DAT_DVCD</th>\n      <th>RRNR_DMFR_DVCD</th>\n      <th>NTNL_CTRY_CD</th>\n      <th>ARC_INPL_CD</th>\n      <th>T02_RN_RINSC_CD</th>\n      <th>RN_LTPD_OST_AMT</th>\n      <th>RRNR_DVCD</th>\n      <th>DMFR_DVCD</th>\n      <th>BOZ_CD</th>\n      <th>PDGR_CD</th>\n      <th>CRD_GRD</th>\n    </tr>\n  </thead>\n  <tbody>\n    <tr>\n      <th>0</th>\n      <td>01</td>\n      <td>1</td>\n      <td>KR</td>\n      <td>1040010</td>\n      <td>124012</td>\n      <td>4547133387</td>\n      <td>03</td>\n      <td>01</td>\n      <td>A001</td>\n      <td>23</td>\n      <td>AA</td>\n    </tr>\n    <tr>\n      <th>1</th>\n      <td>01</td>\n      <td>1</td>\n      <td>KR</td>\n      <td>1058410</td>\n      <td>124031</td>\n      <td>9000000</td>\n      <td>03</td>\n      <td>01</td>\n      <td>A007</td>\n      <td>28</td>\n      <td>AAA</td>\n    </tr>\n    <tr>\n      <th>2</th>\n      <td>01</td>\n      <td>1</td>\n      <td>KR</td>\n      <td>1069410</td>\n      <td>122086</td>\n      <td>42056520</td>\n      <td>03</td>\n      <td>01</td>\n      <td>A007</td>\n      <td>28</td>\n      <td>AA-</td>\n    </tr>\n    <tr>\n      <th>3</th>\n      <td>01</td>\n      <td>1</td>\n      <td>KR</td>\n      <td>1051810</td>\n      <td>124012</td>\n      <td>756784391</td>\n      <td>03</td>\n      <td>01</td>\n      <td>A003</td>\n      <td>27</td>\n      <td>AA</td>\n    </tr>\n    <tr>\n      <th>4</th>\n      <td>01</td>\n      <td>1</td>\n      <td>KR</td>\n      <td>1061710</td>\n      <td>185087</td>\n      <td>366260</td>\n      <td>03</td>\n      <td>01</td>\n      <td>A007</td>\n      <td>28</td>\n      <td>AA</td>\n    </tr>\n    <tr>\n      <th>...</th>\n      <td>...</td>\n      <td>...</td>\n      <td>...</td>\n      <td>...</td>\n      <td>...</td>\n      <td>...</td>\n      <td>...</td>\n      <td>...</td>\n      <td>...</td>\n      <td>...</td>\n      <td>...</td>\n    </tr>\n    <tr>\n      <th>1348</th>\n      <td>01</td>\n      <td>1</td>\n      <td>KR</td>\n      <td>1050611</td>\n      <td>123015</td>\n      <td>0</td>\n      <td>03</td>\n      <td>01</td>\n      <td>A003</td>\n      <td>27</td>\n      <td>AA+</td>\n    </tr>\n    <tr>\n      <th>1349</th>\n      <td>01</td>\n      <td>1</td>\n      <td>NaN</td>\n      <td>1050310</td>\n      <td>124035</td>\n      <td>350000</td>\n      <td>03</td>\n      <td>01</td>\n      <td>A003</td>\n      <td>27</td>\n      <td>AA+</td>\n    </tr>\n    <tr>\n      <th>1350</th>\n      <td>01</td>\n      <td>1</td>\n      <td>NaN</td>\n      <td>1050310</td>\n      <td>124096</td>\n      <td>700000</td>\n      <td>03</td>\n      <td>01</td>\n      <td>A003</td>\n      <td>27</td>\n      <td>AA+</td>\n    </tr>\n    <tr>\n      <th>1351</th>\n      <td>01</td>\n      <td>1</td>\n      <td>KR</td>\n      <td>1063811</td>\n      <td>999A21</td>\n      <td>0</td>\n      <td>03</td>\n      <td>01</td>\n      <td>A010</td>\n      <td>29</td>\n      <td>AA</td>\n    </tr>\n    <tr>\n      <th>1352</th>\n      <td>01</td>\n      <td>2</td>\n      <td>US</td>\n      <td>1041210</td>\n      <td>313069</td>\n      <td>0</td>\n      <td>03</td>\n      <td>02</td>\n      <td>A002</td>\n      <td>24</td>\n      <td>AA+</td>\n    </tr>\n  </tbody>\n</table>\n<p>1353 rows × 11 columns</p>\n</div>"
     },
     "metadata": {},
     "execution_count": 24
    }
   ],
   "source": [
    "일반_출재_개별추산액"
   ]
  },
  {
   "cell_type": "code",
   "execution_count": 58,
   "metadata": {},
   "outputs": [
    {
     "output_type": "execute_result",
     "data": {
      "text/plain": [
       "  RRNR_DVCD DMFR_DVCD BOZ_CD  LTPD_URND_PRM\n",
       "0        01        01   A001    23420916171\n",
       "1        01        01   A002    27146263273\n",
       "2        01        01   A003    96625029260\n",
       "3        01        01   A004    22191701960\n",
       "4        01        01   A005     5095840261"
      ],
      "text/html": "<div>\n<style scoped>\n    .dataframe tbody tr th:only-of-type {\n        vertical-align: middle;\n    }\n\n    .dataframe tbody tr th {\n        vertical-align: top;\n    }\n\n    .dataframe thead th {\n        text-align: right;\n    }\n</style>\n<table border=\"1\" class=\"dataframe\">\n  <thead>\n    <tr style=\"text-align: right;\">\n      <th></th>\n      <th>RRNR_DVCD</th>\n      <th>DMFR_DVCD</th>\n      <th>BOZ_CD</th>\n      <th>LTPD_URND_PRM</th>\n    </tr>\n  </thead>\n  <tbody>\n    <tr>\n      <th>0</th>\n      <td>01</td>\n      <td>01</td>\n      <td>A001</td>\n      <td>23420916171</td>\n    </tr>\n    <tr>\n      <th>1</th>\n      <td>01</td>\n      <td>01</td>\n      <td>A002</td>\n      <td>27146263273</td>\n    </tr>\n    <tr>\n      <th>2</th>\n      <td>01</td>\n      <td>01</td>\n      <td>A003</td>\n      <td>96625029260</td>\n    </tr>\n    <tr>\n      <th>3</th>\n      <td>01</td>\n      <td>01</td>\n      <td>A004</td>\n      <td>22191701960</td>\n    </tr>\n    <tr>\n      <th>4</th>\n      <td>01</td>\n      <td>01</td>\n      <td>A005</td>\n      <td>5095840261</td>\n    </tr>\n  </tbody>\n</table>\n</div>"
     },
     "metadata": {},
     "execution_count": 58
    }
   ],
   "source": [
    "# 데이터 집계\n",
    "일반_원수_미경과보험료_집계 = 일반_원수_미경과보험료.groupby(['RRNR_DVCD', 'DMFR_DVCD', 'BOZ_CD'])['LTPD_URND_PRM'].sum().reset_index()\n",
    "일반_원수_미경과보험료_집계.head()"
   ]
  },
  {
   "cell_type": "code",
   "execution_count": null,
   "metadata": {},
   "outputs": [],
   "source": [
    "# 데이터 내보내기"
   ]
  }
 ]
}