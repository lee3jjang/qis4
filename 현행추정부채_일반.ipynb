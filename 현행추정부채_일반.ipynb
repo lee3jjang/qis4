{
 "metadata": {
  "language_info": {
   "codemirror_mode": {
    "name": "ipython",
    "version": 3
   },
   "file_extension": ".py",
   "mimetype": "text/x-python",
   "name": "python",
   "nbconvert_exporter": "python",
   "pygments_lexer": "ipython3",
   "version": "3.8.5"
  },
  "orig_nbformat": 4,
  "kernelspec": {
   "name": "python3",
   "display_name": "Python 3.8.5 64-bit ('base': conda)"
  },
  "interpreter": {
   "hash": "b3ba2566441a7c06988d0923437866b63cedc61552a5af99d1f4fb67d367b25f"
  }
 },
 "nbformat": 4,
 "nbformat_minor": 2,
 "cells": [
  {
   "cell_type": "code",
   "execution_count": 18,
   "metadata": {},
   "outputs": [],
   "source": [
    "import os\n",
    "import numpy as np\n",
    "import pandas as pd\n",
    "from pathlib import Path"
   ]
  },
  {
   "cell_type": "code",
   "execution_count": 23,
   "metadata": {},
   "outputs": [],
   "source": [
    "# 환경설정\n",
    "pd.options.display.float_format = '{:,.0f}'.format\n",
    "os.makedirs('result', exist_ok=True)\n",
    "\n",
    "# 전역변수\n",
    "FILE_PATH = Path('./data/현행추정부채_일반')"
   ]
  },
  {
   "cell_type": "code",
   "execution_count": 28,
   "metadata": {},
   "outputs": [],
   "source": [
    "# 데이터 불러오기\n",
    "일반_상품정보 = pd.read_excel(FILE_PATH / '일반_상품정보.xlsx', dtype={'PDC_CD': str, 'PDGR_CD': str})\n",
    "일반_원수_미경과보험료 = pd.read_excel(FILE_PATH / '일반_원수_미경과보험료.xlsx', dtype={'RRNR_DAT_DVCD': str, 'RRNR_CTC_BZ_DVCD': str, 'ARC_INPL_CD': str})"
   ]
  },
  {
   "cell_type": "code",
   "execution_count": 30,
   "metadata": {},
   "outputs": [
    {
     "output_type": "execute_result",
     "data": {
      "text/plain": [
       "    RRNR_DAT_DVCD RRNR_CTC_BZ_DVCD NTNL_CTRY_CD ARC_INPL_CD  LTPD_URND_PRM\n",
       "0              01                3           KR     1047410       32305866\n",
       "1              03                2           GB     1050310       18566976\n",
       "2              03                2           WX     1050310     2083512793\n",
       "3              01                2           US     1041110      988081112\n",
       "4              03                3           KR     1041410      154627460\n",
       "..            ...              ...          ...         ...            ...\n",
       "369            03                2           WW     1071011       69960725\n",
       "370            01                3           KR     1054310       50979107\n",
       "371            01                3           KR     1350210          20020\n",
       "372            03                3           SA     1047610        2380532\n",
       "373            03                2           JP     1073010           1973\n",
       "\n",
       "[374 rows x 5 columns]"
      ],
      "text/html": "<div>\n<style scoped>\n    .dataframe tbody tr th:only-of-type {\n        vertical-align: middle;\n    }\n\n    .dataframe tbody tr th {\n        vertical-align: top;\n    }\n\n    .dataframe thead th {\n        text-align: right;\n    }\n</style>\n<table border=\"1\" class=\"dataframe\">\n  <thead>\n    <tr style=\"text-align: right;\">\n      <th></th>\n      <th>RRNR_DAT_DVCD</th>\n      <th>RRNR_CTC_BZ_DVCD</th>\n      <th>NTNL_CTRY_CD</th>\n      <th>ARC_INPL_CD</th>\n      <th>LTPD_URND_PRM</th>\n    </tr>\n  </thead>\n  <tbody>\n    <tr>\n      <th>0</th>\n      <td>01</td>\n      <td>3</td>\n      <td>KR</td>\n      <td>1047410</td>\n      <td>32305866</td>\n    </tr>\n    <tr>\n      <th>1</th>\n      <td>03</td>\n      <td>2</td>\n      <td>GB</td>\n      <td>1050310</td>\n      <td>18566976</td>\n    </tr>\n    <tr>\n      <th>2</th>\n      <td>03</td>\n      <td>2</td>\n      <td>WX</td>\n      <td>1050310</td>\n      <td>2083512793</td>\n    </tr>\n    <tr>\n      <th>3</th>\n      <td>01</td>\n      <td>2</td>\n      <td>US</td>\n      <td>1041110</td>\n      <td>988081112</td>\n    </tr>\n    <tr>\n      <th>4</th>\n      <td>03</td>\n      <td>3</td>\n      <td>KR</td>\n      <td>1041410</td>\n      <td>154627460</td>\n    </tr>\n    <tr>\n      <th>...</th>\n      <td>...</td>\n      <td>...</td>\n      <td>...</td>\n      <td>...</td>\n      <td>...</td>\n    </tr>\n    <tr>\n      <th>369</th>\n      <td>03</td>\n      <td>2</td>\n      <td>WW</td>\n      <td>1071011</td>\n      <td>69960725</td>\n    </tr>\n    <tr>\n      <th>370</th>\n      <td>01</td>\n      <td>3</td>\n      <td>KR</td>\n      <td>1054310</td>\n      <td>50979107</td>\n    </tr>\n    <tr>\n      <th>371</th>\n      <td>01</td>\n      <td>3</td>\n      <td>KR</td>\n      <td>1350210</td>\n      <td>20020</td>\n    </tr>\n    <tr>\n      <th>372</th>\n      <td>03</td>\n      <td>3</td>\n      <td>SA</td>\n      <td>1047610</td>\n      <td>2380532</td>\n    </tr>\n    <tr>\n      <th>373</th>\n      <td>03</td>\n      <td>2</td>\n      <td>JP</td>\n      <td>1073010</td>\n      <td>1973</td>\n    </tr>\n  </tbody>\n</table>\n<p>374 rows × 5 columns</p>\n</div>"
     },
     "metadata": {},
     "execution_count": 30
    }
   ],
   "source": [
    "일반_원수_미경과보험료"
   ]
  }
 ]
}