{
 "metadata": {
  "language_info": {
   "codemirror_mode": {
    "name": "ipython",
    "version": 3
   },
   "file_extension": ".py",
   "mimetype": "text/x-python",
   "name": "python",
   "nbconvert_exporter": "python",
   "pygments_lexer": "ipython3",
   "version": "3.8.5"
  },
  "orig_nbformat": 4,
  "kernelspec": {
   "name": "python3",
   "display_name": "Python 3.8.5 64-bit ('base': conda)"
  },
  "interpreter": {
   "hash": "b3ba2566441a7c06988d0923437866b63cedc61552a5af99d1f4fb67d367b25f"
  }
 },
 "nbformat": 4,
 "nbformat_minor": 2,
 "cells": [
  {
   "cell_type": "code",
   "execution_count": 1,
   "metadata": {},
   "outputs": [],
   "source": [
    "import os\n",
    "import numpy as np\n",
    "import pandas as pd\n",
    "from pathlib import Path\n",
    "from typing import List, Tuple\n",
    "from preprocessing import (\n",
    "    clsf_boz_cd, clsf_rrnr_dvcd, clsf_dmfr_dvcd, clsf_crd_grd, clsf_pdgr_cd,\n",
    "    get_disc_factor_all, get_loss_adj\n",
    ")"
   ]
  },
  {
   "cell_type": "code",
   "execution_count": 2,
   "metadata": {},
   "outputs": [],
   "source": [
    "# 환경설정\n",
    "pd.options.display.float_format = '{:,.0f}'.format\n",
    "os.makedirs('result', exist_ok=True)\n",
    "\n",
    "# 전역변수\n",
    "FILE_PATH = Path('./data/현행추정부채_일반')"
   ]
  },
  {
   "cell_type": "code",
   "execution_count": 39,
   "metadata": {},
   "outputs": [],
   "source": [
    "# 데이터 불러오기\n",
    "## 익스포져\n",
    "일반_원수_미경과보험료 = pd.read_excel(FILE_PATH / '일반_원수_미경과보험료.xlsx', dtype={'RRNR_DAT_DVCD': str, 'RRNR_CTC_BZ_DVCD': str, 'ARC_INPL_CD': str})\n",
    "일반_출재_미경과보험료 = pd.read_excel(FILE_PATH / '일반_출재_미경과보험료.xlsx', dtype={'RRNR_DAT_DVCD': str, 'RRNR_CTC_BZ_DVCD': str, 'ARC_INPL_CD': str, 'T02_RN_RINSC_CD': str})\n",
    "일반_원수_예정보험료 = pd.read_excel(FILE_PATH / '일반_원수_예정보험료.xlsx', dtype={'RRNR_DAT_DVCD': str, 'RRNR_CTC_BZ_DVCD': str, 'ARC_INPL_CD': str})\n",
    "일반_출재_예정보험료 = pd.read_excel(FILE_PATH / '일반_출재_예정보험료.xlsx', dtype={'RRNR_DAT_DVCD': str, 'RRNR_CTC_BZ_DVCD': str, 'ARC_INPL_CD': str, 'T02_RN_RINSC_CD': str})\n",
    "일반_원수_개별추산액 = pd.read_excel(FILE_PATH / '일반_원수_개별추산액.xlsx', dtype={'RRNR_DAT_DVCD': str, 'RRNR_DMFR_DVCD': str, 'ARC_INPL_CD': str})\n",
    "일반_출재_개별추산액 = pd.read_excel(FILE_PATH / '일반_출재_개별추산액.xlsx', dtype={'RRNR_DAT_DVCD': str, 'RRNR_DMFR_DVCD': str, 'ARC_INPL_CD': str, 'T02_RN_RINSC_CD': str})\n",
    "\n",
    "## 기초정보, 가정 등\n",
    "일반_상품정보 = pd.read_excel(FILE_PATH / '일반_상품정보.xlsx', dtype={'PDC_CD': str, 'PDGR_CD': str})\n",
    "일반_보험금진전추이 = pd.read_excel(FILE_PATH / '일반_보험금진전추이.xlsx', dtype={'PDGR_CD': str, 'AY': str})\n",
    "일반_최종손해율 = pd.read_excel(FILE_PATH / '일반_최종손해율.xlsx', dtype={'RRNR_DAT_DVCD': str, 'PDGR_CD': str}) \\\n",
    "        .rename(columns= {'RRNR_DAT_DVCD': 'RRNR_DVCD'})\n",
    "\n",
    "## 공통\n",
    "국가구분 = pd.read_excel(FILE_PATH / '국가구분.xlsx', dtype={'CNTR_CATG_CD': str})\n",
    "재보험자_국내신용등급 = pd.read_excel(FILE_PATH / '재보험자_국내신용등급.xlsx', dtype={'재보험사코드': str}) \\\n",
    "        .rename(columns = {'재보험사코드': 'T02_RN_RINSC_CD', '국내신용등급': 'CRD_GRD'})\n",
    "선도부도율 = pd.read_excel(FILE_PATH / '선도부도율.xlsx')\n",
    "할인율 = pd.read_excel(FILE_PATH / '할인율.xlsx')"
   ]
  },
  {
   "cell_type": "code",
   "execution_count": 58,
   "metadata": {},
   "outputs": [],
   "source": [
    "# 데이터 전처리\n",
    "일반_원수_미경과보험료_가공 = 일반_원수_미경과보험료.copy()\n",
    "일반_원수_미경과보험료_가공['RRNR_DVCD'] = clsf_rrnr_dvcd(일반_원수_미경과보험료_가공, '원수')\n",
    "일반_원수_미경과보험료_가공['DMFR_DVCD'] = clsf_dmfr_dvcd(일반_원수_미경과보험료_가공)\n",
    "일반_원수_미경과보험료_가공['BOZ_CD'] = clsf_boz_cd(일반_원수_미경과보험료_가공, 일반_상품정보)\n",
    "일반_원수_미경과보험료_가공['PDGR_CD'] = clsf_pdgr_cd(일반_원수_미경과보험료_가공, 일반_상품정보)\n",
    "일반_원수_미경과보험료_가공.drop(['RRNR_DAT_DVCD', 'RRNR_CTC_BZ_DVCD', 'NTNL_CTRY_CD', 'ARC_INPL_CD'], axis=1, inplace=True)\n",
    "일반_원수_미경과보험료_가공.rename(columns = {'LTPD_URND_PRM': 'URND_PRM'}, inplace=True)\n",
    "\n",
    "일반_출재_미경과보험료_가공 = 일반_출재_미경과보험료.copy()\n",
    "일반_출재_미경과보험료_가공['RRNR_DVCD'] = clsf_rrnr_dvcd(일반_출재_미경과보험료_가공, '출재')\n",
    "일반_출재_미경과보험료_가공['DMFR_DVCD'] = clsf_dmfr_dvcd(일반_출재_미경과보험료_가공)\n",
    "일반_출재_미경과보험료_가공['BOZ_CD'] = clsf_boz_cd(일반_출재_미경과보험료_가공, 일반_상품정보)\n",
    "일반_출재_미경과보험료_가공['PDGR_CD'] = clsf_pdgr_cd(일반_출재_미경과보험료_가공, 일반_상품정보)\n",
    "일반_출재_미경과보험료_가공['CRD_GRD'] = clsf_crd_grd(일반_출재_미경과보험료_가공, 재보험자_국내신용등급)\n",
    "일반_출재_미경과보험료_가공.rename(columns = {'T02_LTPD_RN_URND_PRM': 'URND_PRM'}, inplace=True)\n",
    "일반_출재_미경과보험료_가공.drop(['RRNR_DAT_DVCD', 'RRNR_CTC_BZ_DVCD', 'ARC_INPL_CD', 'NTNL_CTRY_CD', 'T02_RN_RINSC_CD'], axis=1, inplace=True)\n",
    "\n",
    "일반_원수_예정보험료_가공 = 일반_원수_예정보험료.copy()\n",
    "일반_원수_예정보험료_가공['RRNR_DVCD'] = clsf_rrnr_dvcd(일반_원수_예정보험료_가공, '원수')\n",
    "일반_원수_예정보험료_가공['DMFR_DVCD'] = clsf_dmfr_dvcd(일반_원수_예정보험료_가공)\n",
    "일반_원수_예정보험료_가공['BOZ_CD'] = clsf_boz_cd(일반_원수_예정보험료_가공, 일반_상품정보)\n",
    "일반_원수_예정보험료_가공['PDGR_CD'] = clsf_pdgr_cd(일반_원수_예정보험료_가공, 일반_상품정보)\n",
    "일반_원수_예정보험료_가공.rename(columns = {'WNCR_CNV_EPCT_PRM': 'EPCT_PRM'}, inplace=True)\n",
    "일반_원수_예정보험료_가공.drop(['RRNR_DAT_DVCD', 'RRNR_CTC_BZ_DVCD', 'ARC_INPL_CD', 'NTNL_CTRY_CD'], axis=1, inplace=True)\n",
    "\n",
    "일반_출재_예정보험료_가공 = 일반_출재_예정보험료.copy()\n",
    "일반_출재_예정보험료_가공['RRNR_DVCD'] = clsf_rrnr_dvcd(일반_출재_예정보험료_가공, '출재')\n",
    "일반_출재_예정보험료_가공['DMFR_DVCD'] = clsf_dmfr_dvcd(일반_출재_예정보험료_가공)\n",
    "일반_출재_예정보험료_가공['BOZ_CD'] = clsf_boz_cd(일반_출재_예정보험료_가공, 일반_상품정보)\n",
    "일반_출재_예정보험료_가공['PDGR_CD'] = clsf_pdgr_cd(일반_출재_예정보험료_가공, 일반_상품정보)\n",
    "일반_출재_예정보험료_가공['CRD_GRD'] = clsf_crd_grd(일반_출재_예정보험료_가공, 재보험자_국내신용등급)\n",
    "일반_출재_예정보험료_가공.rename(columns = {'WNCR_CNV_RN_PRM': 'EPCT_PRM'}, inplace=True)\n",
    "일반_출재_예정보험료_가공.drop(['ARC_INPL_CD', 'RRNR_CTC_BZ_DVCD', 'RRNR_DAT_DVCD', 'NTNL_CTRY_CD', 'T02_RN_RINSC_CD'], axis=1, inplace=True)\n",
    "\n",
    "일반_원수_개별추산액_가공 = 일반_원수_개별추산액.copy()\n",
    "일반_원수_개별추산액_가공['RRNR_DVCD'] = clsf_rrnr_dvcd(일반_원수_개별추산액_가공, '원수')\n",
    "일반_원수_개별추산액_가공['DMFR_DVCD'] = clsf_dmfr_dvcd(일반_원수_개별추산액_가공)\n",
    "일반_원수_개별추산액_가공['BOZ_CD'] = clsf_boz_cd(일반_원수_개별추산액_가공, 일반_상품정보)\n",
    "일반_원수_개별추산액_가공['PDGR_CD'] = clsf_pdgr_cd(일반_원수_개별추산액_가공, 일반_상품정보)\n",
    "일반_원수_개별추산액_가공 = 일반_원수_개별추산액_가공.rename(columns = {'LTPD_OST_AMT': 'OST_AMT'})\n",
    "일반_원수_개별추산액_가공.drop(['RRNR_DAT_DVCD', 'RRNR_DMFR_DVCD', 'NTNL_CTRY_CD', 'ARC_INPL_CD'], axis=1, inplace=True)\n",
    "\n",
    "일반_출재_개별추산액_가공 = 일반_출재_개별추산액.copy()\n",
    "일반_출재_개별추산액_가공['RRNR_DVCD'] = clsf_rrnr_dvcd(일반_출재_개별추산액_가공, '출재')\n",
    "일반_출재_개별추산액_가공['DMFR_DVCD'] = clsf_dmfr_dvcd(일반_출재_개별추산액_가공)\n",
    "일반_출재_개별추산액_가공['BOZ_CD'] = clsf_boz_cd(일반_출재_개별추산액_가공, 일반_상품정보)\n",
    "일반_출재_개별추산액_가공['PDGR_CD'] = clsf_pdgr_cd(일반_출재_개별추산액_가공, 일반_상품정보)\n",
    "일반_출재_개별추산액_가공['CRD_GRD'] = clsf_crd_grd(일반_출재_개별추산액_가공, 재보험자_국내신용등급)\n",
    "일반_출재_개별추산액_가공 = 일반_출재_개별추산액_가공.rename(columns = {'RN_LTPD_OST_AMT': 'OST_AMT'})\n",
    "일반_출재_개별추산액_가공.drop(['RRNR_DAT_DVCD', 'RRNR_DMFR_DVCD', 'NTNL_CTRY_CD', 'ARC_INPL_CD', 'T02_RN_RINSC_CD'], axis=1, inplace=True)"
   ]
  },
  {
   "cell_type": "code",
   "execution_count": 57,
   "metadata": {},
   "outputs": [
    {
     "output_type": "execute_result",
     "data": {
      "text/plain": [
       "   RRNR_DVCD DMFR_DVCD BOZ_CD        URND_PRM       EPCT_PRM\n",
       "0         04        01   A001  23,420,916,171              0\n",
       "1         04        01   A002  27,599,989,968  1,655,668,169\n",
       "2         04        01   A003  96,919,532,915  3,881,525,083\n",
       "3         04        01   A004  23,093,930,741 12,982,384,892\n",
       "4         04        01   A005   5,488,832,989  1,000,300,401\n",
       "5         04        01   A006  66,551,730,700  3,223,443,768\n",
       "6         04        01   A007  93,999,089,721  4,971,387,805\n",
       "7         04        01   A008   4,773,218,318              0\n",
       "8         04        01   A009   8,675,613,167              0\n",
       "9         04        01   A010  75,028,541,789      8,993,019\n",
       "10        04        01   A011       7,400,376     23,062,500\n",
       "11        04        02      # 155,264,148,378              0\n",
       "12        03        01   A001   3,754,561,388              0\n",
       "13        03        01   A002  14,521,450,655  1,062,459,968\n",
       "14        03        01   A003  46,151,017,206    893,570,548\n",
       "15        03        01   A004  17,886,144,139 10,110,723,139\n",
       "16        03        01   A005     959,923,559    129,191,451\n",
       "17        03        01   A006  36,191,774,534  1,145,958,079\n",
       "18        03        01   A007  27,671,975,602  1,630,409,985\n",
       "19        03        01   A009   6,211,002,671              0\n",
       "20        03        01   A010  42,352,648,305      4,950,148\n",
       "21        03        01   A011       3,340,223     21,909,375\n",
       "22        03        02      #  40,919,414,365              0"
      ],
      "text/html": "<div>\n<style scoped>\n    .dataframe tbody tr th:only-of-type {\n        vertical-align: middle;\n    }\n\n    .dataframe tbody tr th {\n        vertical-align: top;\n    }\n\n    .dataframe thead th {\n        text-align: right;\n    }\n</style>\n<table border=\"1\" class=\"dataframe\">\n  <thead>\n    <tr style=\"text-align: right;\">\n      <th></th>\n      <th>RRNR_DVCD</th>\n      <th>DMFR_DVCD</th>\n      <th>BOZ_CD</th>\n      <th>URND_PRM</th>\n      <th>EPCT_PRM</th>\n    </tr>\n  </thead>\n  <tbody>\n    <tr>\n      <th>0</th>\n      <td>04</td>\n      <td>01</td>\n      <td>A001</td>\n      <td>23,420,916,171</td>\n      <td>0</td>\n    </tr>\n    <tr>\n      <th>1</th>\n      <td>04</td>\n      <td>01</td>\n      <td>A002</td>\n      <td>27,599,989,968</td>\n      <td>1,655,668,169</td>\n    </tr>\n    <tr>\n      <th>2</th>\n      <td>04</td>\n      <td>01</td>\n      <td>A003</td>\n      <td>96,919,532,915</td>\n      <td>3,881,525,083</td>\n    </tr>\n    <tr>\n      <th>3</th>\n      <td>04</td>\n      <td>01</td>\n      <td>A004</td>\n      <td>23,093,930,741</td>\n      <td>12,982,384,892</td>\n    </tr>\n    <tr>\n      <th>4</th>\n      <td>04</td>\n      <td>01</td>\n      <td>A005</td>\n      <td>5,488,832,989</td>\n      <td>1,000,300,401</td>\n    </tr>\n    <tr>\n      <th>5</th>\n      <td>04</td>\n      <td>01</td>\n      <td>A006</td>\n      <td>66,551,730,700</td>\n      <td>3,223,443,768</td>\n    </tr>\n    <tr>\n      <th>6</th>\n      <td>04</td>\n      <td>01</td>\n      <td>A007</td>\n      <td>93,999,089,721</td>\n      <td>4,971,387,805</td>\n    </tr>\n    <tr>\n      <th>7</th>\n      <td>04</td>\n      <td>01</td>\n      <td>A008</td>\n      <td>4,773,218,318</td>\n      <td>0</td>\n    </tr>\n    <tr>\n      <th>8</th>\n      <td>04</td>\n      <td>01</td>\n      <td>A009</td>\n      <td>8,675,613,167</td>\n      <td>0</td>\n    </tr>\n    <tr>\n      <th>9</th>\n      <td>04</td>\n      <td>01</td>\n      <td>A010</td>\n      <td>75,028,541,789</td>\n      <td>8,993,019</td>\n    </tr>\n    <tr>\n      <th>10</th>\n      <td>04</td>\n      <td>01</td>\n      <td>A011</td>\n      <td>7,400,376</td>\n      <td>23,062,500</td>\n    </tr>\n    <tr>\n      <th>11</th>\n      <td>04</td>\n      <td>02</td>\n      <td>#</td>\n      <td>155,264,148,378</td>\n      <td>0</td>\n    </tr>\n    <tr>\n      <th>12</th>\n      <td>03</td>\n      <td>01</td>\n      <td>A001</td>\n      <td>3,754,561,388</td>\n      <td>0</td>\n    </tr>\n    <tr>\n      <th>13</th>\n      <td>03</td>\n      <td>01</td>\n      <td>A002</td>\n      <td>14,521,450,655</td>\n      <td>1,062,459,968</td>\n    </tr>\n    <tr>\n      <th>14</th>\n      <td>03</td>\n      <td>01</td>\n      <td>A003</td>\n      <td>46,151,017,206</td>\n      <td>893,570,548</td>\n    </tr>\n    <tr>\n      <th>15</th>\n      <td>03</td>\n      <td>01</td>\n      <td>A004</td>\n      <td>17,886,144,139</td>\n      <td>10,110,723,139</td>\n    </tr>\n    <tr>\n      <th>16</th>\n      <td>03</td>\n      <td>01</td>\n      <td>A005</td>\n      <td>959,923,559</td>\n      <td>129,191,451</td>\n    </tr>\n    <tr>\n      <th>17</th>\n      <td>03</td>\n      <td>01</td>\n      <td>A006</td>\n      <td>36,191,774,534</td>\n      <td>1,145,958,079</td>\n    </tr>\n    <tr>\n      <th>18</th>\n      <td>03</td>\n      <td>01</td>\n      <td>A007</td>\n      <td>27,671,975,602</td>\n      <td>1,630,409,985</td>\n    </tr>\n    <tr>\n      <th>19</th>\n      <td>03</td>\n      <td>01</td>\n      <td>A009</td>\n      <td>6,211,002,671</td>\n      <td>0</td>\n    </tr>\n    <tr>\n      <th>20</th>\n      <td>03</td>\n      <td>01</td>\n      <td>A010</td>\n      <td>42,352,648,305</td>\n      <td>4,950,148</td>\n    </tr>\n    <tr>\n      <th>21</th>\n      <td>03</td>\n      <td>01</td>\n      <td>A011</td>\n      <td>3,340,223</td>\n      <td>21,909,375</td>\n    </tr>\n    <tr>\n      <th>22</th>\n      <td>03</td>\n      <td>02</td>\n      <td>#</td>\n      <td>40,919,414,365</td>\n      <td>0</td>\n    </tr>\n  </tbody>\n</table>\n</div>"
     },
     "metadata": {},
     "execution_count": 57
    }
   ],
   "source": [
    "# 데이터 집계\n",
    "## 미경과보험료\n",
    "일반_원수_미경과보험료_집계 = 일반_원수_미경과보험료_가공.copy()\n",
    "일반_원수_미경과보험료_집계['RRNR_DVCD'] = '04'\n",
    "일반_원수_미경과보험료_집계.loc[lambda x: x['DMFR_DVCD'] == '02', 'BOZ_CD'] = '#'\n",
    "일반_원수_미경과보험료_집계 = 일반_원수_미경과보험료_집계.groupby(['RRNR_DVCD', 'DMFR_DVCD', 'BOZ_CD'])['URND_PRM'].sum().reset_index()\n",
    "일반_출재_미경과보험료_집계 = 일반_출재_미경과보험료_가공.copy()\n",
    "일반_출재_미경과보험료_집계.loc[lambda x: x['DMFR_DVCD'] == '02', 'BOZ_CD'] = '#'\n",
    "일반_출재_미경과보험료_집계 = 일반_출재_미경과보험료_집계.groupby(['RRNR_DVCD', 'DMFR_DVCD', 'BOZ_CD'])['URND_PRM'].sum().reset_index()\n",
    "일반_미경과보험료_집계 = pd.concat([일반_원수_미경과보험료_집계, 일반_출재_미경과보험료_집계], axis=0).reset_index(drop=True)\n",
    "\n",
    "## 예정보험료\n",
    "일반_원수_예정보험료_집계 = 일반_원수_예정보험료_가공.copy()\n",
    "일반_원수_예정보험료_집계['RRNR_DVCD'] = '04'\n",
    "일반_원수_예정보험료_집계.loc[lambda x: x['DMFR_DVCD'] == '02', 'BOZ_CD'] = '#'\n",
    "일반_원수_예정보험료_집계 = 일반_원수_예정보험료_집계.groupby(['RRNR_DVCD', 'DMFR_DVCD', 'BOZ_CD'])['EPCT_PRM'].sum().reset_index()\n",
    "일반_출재_예정보험료_집계 = 일반_출재_예정보험료_가공.copy()\n",
    "일반_출재_예정보험료_집계.loc[lambda x: x['DMFR_DVCD'] == '02', 'BOZ_CD'] = '#'\n",
    "일반_출재_예정보험료_집계 = 일반_출재_예정보험료_집계.groupby(['RRNR_DVCD', 'DMFR_DVCD', 'BOZ_CD'])['EPCT_PRM'].sum().reset_index()\n",
    "일반_예정보험료_집계 = pd.concat([일반_원수_예정보험료_집계, 일반_출재_예정보험료_집계], axis=0).reset_index(drop=True)\n",
    "\n",
    "## 보험료익스포져\n",
    "일반_보험료익스포져 = 일반_미경과보험료_집계.merge(일반_예정보험료_집계, on=['RRNR_DVCD', 'DMFR_DVCD', 'BOZ_CD'], how='outer') \\\n",
    "        .assign(URND_PRM = lambda x: x['URND_PRM'].fillna(0).astype(float)) \\\n",
    "        .assign(EPCT_PRM = lambda x: x['EPCT_PRM'].fillna(0).astype(float))\n",
    "일반_보험료익스포져"
   ]
  },
  {
   "cell_type": "code",
   "execution_count": 14,
   "metadata": {},
   "outputs": [
    {
     "output_type": "execute_result",
     "data": {
      "text/plain": [
       "   PDGR_CD  DISC_FAC_RSV  DISC_FAC_PRM\n",
       "0       23             1             1\n",
       "1       24             1             1\n",
       "2       25             1             1\n",
       "3       26             1             1\n",
       "4       27             1             1\n",
       "5       28             1             1\n",
       "6       29             1             1\n",
       "7       30             1             1\n",
       "8       31             1             1\n",
       "9       32             1             1\n",
       "10      33             1             1\n",
       "11      34             1             1"
      ],
      "text/html": "<div>\n<style scoped>\n    .dataframe tbody tr th:only-of-type {\n        vertical-align: middle;\n    }\n\n    .dataframe tbody tr th {\n        vertical-align: top;\n    }\n\n    .dataframe thead th {\n        text-align: right;\n    }\n</style>\n<table border=\"1\" class=\"dataframe\">\n  <thead>\n    <tr style=\"text-align: right;\">\n      <th></th>\n      <th>PDGR_CD</th>\n      <th>DISC_FAC_RSV</th>\n      <th>DISC_FAC_PRM</th>\n    </tr>\n  </thead>\n  <tbody>\n    <tr>\n      <th>0</th>\n      <td>23</td>\n      <td>1</td>\n      <td>1</td>\n    </tr>\n    <tr>\n      <th>1</th>\n      <td>24</td>\n      <td>1</td>\n      <td>1</td>\n    </tr>\n    <tr>\n      <th>2</th>\n      <td>25</td>\n      <td>1</td>\n      <td>1</td>\n    </tr>\n    <tr>\n      <th>3</th>\n      <td>26</td>\n      <td>1</td>\n      <td>1</td>\n    </tr>\n    <tr>\n      <th>4</th>\n      <td>27</td>\n      <td>1</td>\n      <td>1</td>\n    </tr>\n    <tr>\n      <th>5</th>\n      <td>28</td>\n      <td>1</td>\n      <td>1</td>\n    </tr>\n    <tr>\n      <th>6</th>\n      <td>29</td>\n      <td>1</td>\n      <td>1</td>\n    </tr>\n    <tr>\n      <th>7</th>\n      <td>30</td>\n      <td>1</td>\n      <td>1</td>\n    </tr>\n    <tr>\n      <th>8</th>\n      <td>31</td>\n      <td>1</td>\n      <td>1</td>\n    </tr>\n    <tr>\n      <th>9</th>\n      <td>32</td>\n      <td>1</td>\n      <td>1</td>\n    </tr>\n    <tr>\n      <th>10</th>\n      <td>33</td>\n      <td>1</td>\n      <td>1</td>\n    </tr>\n    <tr>\n      <th>11</th>\n      <td>34</td>\n      <td>1</td>\n      <td>1</td>\n    </tr>\n  </tbody>\n</table>\n</div>"
     },
     "metadata": {},
     "execution_count": 14
    }
   ],
   "source": [
    "## 할인요소\n",
    "일반_할인요소 = get_disc_factor_all(일반_보험금진전추이, 할인율.query('KICS_SCEN_NO == 1'))\n",
    "일반_할인요소"
   ]
  },
  {
   "cell_type": "code",
   "execution_count": 54,
   "metadata": {},
   "outputs": [],
   "source": [
    "# 데이터 내보내기"
   ]
  }
 ]
}