{
 "metadata": {
  "language_info": {
   "codemirror_mode": {
    "name": "ipython",
    "version": 3
   },
   "file_extension": ".py",
   "mimetype": "text/x-python",
   "name": "python",
   "nbconvert_exporter": "python",
   "pygments_lexer": "ipython3",
   "version": "3.8.5"
  },
  "orig_nbformat": 4,
  "kernelspec": {
   "name": "python3",
   "display_name": "Python 3.8.5 64-bit ('base': conda)"
  },
  "interpreter": {
   "hash": "b3ba2566441a7c06988d0923437866b63cedc61552a5af99d1f4fb67d367b25f"
  }
 },
 "nbformat": 4,
 "nbformat_minor": 2,
 "cells": [
  {
   "cell_type": "code",
   "execution_count": 1,
   "metadata": {},
   "outputs": [],
   "source": [
    "import os\n",
    "import numpy as np\n",
    "import pandas as pd\n",
    "from pathlib import Path\n",
    "from preprocessing import clsf_boz_cd, clsf_rrnr_dvcd, clsf_dmfr_dvcd"
   ]
  },
  {
   "cell_type": "code",
   "execution_count": 2,
   "metadata": {},
   "outputs": [],
   "source": [
    "# 환경설정\n",
    "pd.options.display.float_format = '{:,.0f}'.format\n",
    "os.makedirs('result', exist_ok=True)\n",
    "\n",
    "# 전역변수\n",
    "FILE_PATH = Path('./data/현행추정부채_일반')"
   ]
  },
  {
   "cell_type": "code",
   "execution_count": 3,
   "metadata": {},
   "outputs": [],
   "source": [
    "# 데이터 불러오기\n",
    "일반_상품정보 = pd.read_excel(FILE_PATH / '일반_상품정보.xlsx', dtype={'PDC_CD': str, 'PDGR_CD': str})\n",
    "일반_원수_미경과보험료 = pd.read_excel(FILE_PATH / '일반_원수_미경과보험료.xlsx', dtype={'RRNR_DAT_DVCD': str, 'RRNR_CTC_BZ_DVCD': str, 'ARC_INPL_CD': str})"
   ]
  },
  {
   "cell_type": "code",
   "execution_count": 14,
   "metadata": {},
   "outputs": [],
   "source": [
    "# 데이터 전처리\n",
    "일반_원수_미경과보험료['BOZ_CD'] = clsf_boz_cd(일반_원수_미경과보험료, 일반_상품정보)\n",
    "일반_원수_미경과보험료['RRNR_DVCD'] = clsf_rrnr_dvcd(일반_원수_미경과보험료, '원수')\n",
    "일반_원수_미경과보험료['DMFR_DVCD'] = clsf_dmfr_dvcd(일반_원수_미경과보험료)"
   ]
  },
  {
   "cell_type": "code",
   "execution_count": 13,
   "metadata": {},
   "outputs": [
    {
     "output_type": "execute_result",
     "data": {
      "text/plain": [
       "   RRNR_DVCD DMFR_DVCD BOZ_CD  LTPD_URND_PRM\n",
       "0         01        01   A001    23420916171\n",
       "1         01        01   A002    27146263273\n",
       "2         01        01   A003    96625029260\n",
       "3         01        01   A004    22191701960\n",
       "4         01        01   A005     5095840261\n",
       "5         01        01   A006    66353121310\n",
       "6         01        01   A007    93981583216\n",
       "7         01        01   A008     4773218318\n",
       "8         01        01   A010    73720023337\n",
       "9         01        01   A011        3516025\n",
       "10        01        02   A001    20048181952\n",
       "11        01        02   A002     2190076662\n",
       "12        01        02   A003    92312103939\n",
       "13        01        02   A004      200951900\n",
       "14        01        02   A005     4517117845\n",
       "15        01        02   A006    14017269277\n",
       "16        01        02   A007       56403993\n",
       "17        01        02   A010       11088348\n",
       "18        01        02   A011      257009507\n",
       "19        02        01   A002      453726695\n",
       "20        02        01   A003      294503655\n",
       "21        02        01   A004      902228781\n",
       "22        02        01   A005      392992728\n",
       "23        02        01   A006      198609390\n",
       "24        02        01   A007       17506505\n",
       "25        02        01   A009     8675613167\n",
       "26        02        01   A010     1308518452\n",
       "27        02        01   A011        3884351\n",
       "28        02        02   A001       45261940\n",
       "29        02        02   A002      107848300\n",
       "30        02        02   A003    20952171307\n",
       "31        02        02   A004      463692342\n",
       "32        02        02   A006       36680238\n",
       "33        02        02   A007       48290828\n",
       "34        02        02   A010              0"
      ],
      "text/html": "<div>\n<style scoped>\n    .dataframe tbody tr th:only-of-type {\n        vertical-align: middle;\n    }\n\n    .dataframe tbody tr th {\n        vertical-align: top;\n    }\n\n    .dataframe thead th {\n        text-align: right;\n    }\n</style>\n<table border=\"1\" class=\"dataframe\">\n  <thead>\n    <tr style=\"text-align: right;\">\n      <th></th>\n      <th>RRNR_DVCD</th>\n      <th>DMFR_DVCD</th>\n      <th>BOZ_CD</th>\n      <th>LTPD_URND_PRM</th>\n    </tr>\n  </thead>\n  <tbody>\n    <tr>\n      <th>0</th>\n      <td>01</td>\n      <td>01</td>\n      <td>A001</td>\n      <td>23420916171</td>\n    </tr>\n    <tr>\n      <th>1</th>\n      <td>01</td>\n      <td>01</td>\n      <td>A002</td>\n      <td>27146263273</td>\n    </tr>\n    <tr>\n      <th>2</th>\n      <td>01</td>\n      <td>01</td>\n      <td>A003</td>\n      <td>96625029260</td>\n    </tr>\n    <tr>\n      <th>3</th>\n      <td>01</td>\n      <td>01</td>\n      <td>A004</td>\n      <td>22191701960</td>\n    </tr>\n    <tr>\n      <th>4</th>\n      <td>01</td>\n      <td>01</td>\n      <td>A005</td>\n      <td>5095840261</td>\n    </tr>\n    <tr>\n      <th>5</th>\n      <td>01</td>\n      <td>01</td>\n      <td>A006</td>\n      <td>66353121310</td>\n    </tr>\n    <tr>\n      <th>6</th>\n      <td>01</td>\n      <td>01</td>\n      <td>A007</td>\n      <td>93981583216</td>\n    </tr>\n    <tr>\n      <th>7</th>\n      <td>01</td>\n      <td>01</td>\n      <td>A008</td>\n      <td>4773218318</td>\n    </tr>\n    <tr>\n      <th>8</th>\n      <td>01</td>\n      <td>01</td>\n      <td>A010</td>\n      <td>73720023337</td>\n    </tr>\n    <tr>\n      <th>9</th>\n      <td>01</td>\n      <td>01</td>\n      <td>A011</td>\n      <td>3516025</td>\n    </tr>\n    <tr>\n      <th>10</th>\n      <td>01</td>\n      <td>02</td>\n      <td>A001</td>\n      <td>20048181952</td>\n    </tr>\n    <tr>\n      <th>11</th>\n      <td>01</td>\n      <td>02</td>\n      <td>A002</td>\n      <td>2190076662</td>\n    </tr>\n    <tr>\n      <th>12</th>\n      <td>01</td>\n      <td>02</td>\n      <td>A003</td>\n      <td>92312103939</td>\n    </tr>\n    <tr>\n      <th>13</th>\n      <td>01</td>\n      <td>02</td>\n      <td>A004</td>\n      <td>200951900</td>\n    </tr>\n    <tr>\n      <th>14</th>\n      <td>01</td>\n      <td>02</td>\n      <td>A005</td>\n      <td>4517117845</td>\n    </tr>\n    <tr>\n      <th>15</th>\n      <td>01</td>\n      <td>02</td>\n      <td>A006</td>\n      <td>14017269277</td>\n    </tr>\n    <tr>\n      <th>16</th>\n      <td>01</td>\n      <td>02</td>\n      <td>A007</td>\n      <td>56403993</td>\n    </tr>\n    <tr>\n      <th>17</th>\n      <td>01</td>\n      <td>02</td>\n      <td>A010</td>\n      <td>11088348</td>\n    </tr>\n    <tr>\n      <th>18</th>\n      <td>01</td>\n      <td>02</td>\n      <td>A011</td>\n      <td>257009507</td>\n    </tr>\n    <tr>\n      <th>19</th>\n      <td>02</td>\n      <td>01</td>\n      <td>A002</td>\n      <td>453726695</td>\n    </tr>\n    <tr>\n      <th>20</th>\n      <td>02</td>\n      <td>01</td>\n      <td>A003</td>\n      <td>294503655</td>\n    </tr>\n    <tr>\n      <th>21</th>\n      <td>02</td>\n      <td>01</td>\n      <td>A004</td>\n      <td>902228781</td>\n    </tr>\n    <tr>\n      <th>22</th>\n      <td>02</td>\n      <td>01</td>\n      <td>A005</td>\n      <td>392992728</td>\n    </tr>\n    <tr>\n      <th>23</th>\n      <td>02</td>\n      <td>01</td>\n      <td>A006</td>\n      <td>198609390</td>\n    </tr>\n    <tr>\n      <th>24</th>\n      <td>02</td>\n      <td>01</td>\n      <td>A007</td>\n      <td>17506505</td>\n    </tr>\n    <tr>\n      <th>25</th>\n      <td>02</td>\n      <td>01</td>\n      <td>A009</td>\n      <td>8675613167</td>\n    </tr>\n    <tr>\n      <th>26</th>\n      <td>02</td>\n      <td>01</td>\n      <td>A010</td>\n      <td>1308518452</td>\n    </tr>\n    <tr>\n      <th>27</th>\n      <td>02</td>\n      <td>01</td>\n      <td>A011</td>\n      <td>3884351</td>\n    </tr>\n    <tr>\n      <th>28</th>\n      <td>02</td>\n      <td>02</td>\n      <td>A001</td>\n      <td>45261940</td>\n    </tr>\n    <tr>\n      <th>29</th>\n      <td>02</td>\n      <td>02</td>\n      <td>A002</td>\n      <td>107848300</td>\n    </tr>\n    <tr>\n      <th>30</th>\n      <td>02</td>\n      <td>02</td>\n      <td>A003</td>\n      <td>20952171307</td>\n    </tr>\n    <tr>\n      <th>31</th>\n      <td>02</td>\n      <td>02</td>\n      <td>A004</td>\n      <td>463692342</td>\n    </tr>\n    <tr>\n      <th>32</th>\n      <td>02</td>\n      <td>02</td>\n      <td>A006</td>\n      <td>36680238</td>\n    </tr>\n    <tr>\n      <th>33</th>\n      <td>02</td>\n      <td>02</td>\n      <td>A007</td>\n      <td>48290828</td>\n    </tr>\n    <tr>\n      <th>34</th>\n      <td>02</td>\n      <td>02</td>\n      <td>A010</td>\n      <td>0</td>\n    </tr>\n  </tbody>\n</table>\n</div>"
     },
     "metadata": {},
     "execution_count": 13
    }
   ],
   "source": [
    "# 데이터 집계\r\n",
    "일반_원수_미경과보험료.groupby(['RRNR_DVCD', 'DMFR_DVCD', 'BOZ_CD'])['LTPD_URND_PRM'].sum().reset_index()"
   ]
  }
 ]
}