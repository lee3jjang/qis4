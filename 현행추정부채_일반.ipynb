{
 "metadata": {
  "language_info": {
   "codemirror_mode": {
    "name": "ipython",
    "version": 3
   },
   "file_extension": ".py",
   "mimetype": "text/x-python",
   "name": "python",
   "nbconvert_exporter": "python",
   "pygments_lexer": "ipython3",
   "version": "3.8.5"
  },
  "orig_nbformat": 4,
  "kernelspec": {
   "name": "python3",
   "display_name": "Python 3.8.5 64-bit ('base': conda)"
  },
  "interpreter": {
   "hash": "b3ba2566441a7c06988d0923437866b63cedc61552a5af99d1f4fb67d367b25f"
  }
 },
 "nbformat": 4,
 "nbformat_minor": 2,
 "cells": [
  {
   "cell_type": "code",
   "execution_count": 1,
   "metadata": {},
   "outputs": [],
   "source": [
    "import os\n",
    "import numpy as np\n",
    "import pandas as pd\n",
    "from pathlib import Path\n",
    "from typing import List, Tuple\n",
    "from preprocessing import (\n",
    "    clsf_boz_cd, clsf_rrnr_dvcd, clsf_dmfr_dvcd, clsf_crd_grd, clsf_pdgr_cd,\n",
    "    get_cf, get_disc_factor, get_loss_adj\n",
    ")"
   ]
  },
  {
   "cell_type": "code",
   "execution_count": 2,
   "metadata": {},
   "outputs": [],
   "source": [
    "# 환경설정\n",
    "pd.options.display.float_format = '{:,.0f}'.format\n",
    "os.makedirs('result', exist_ok=True)\n",
    "\n",
    "# 전역변수\n",
    "FILE_PATH = Path('./data/현행추정부채_일반')"
   ]
  },
  {
   "cell_type": "code",
   "execution_count": 3,
   "metadata": {},
   "outputs": [],
   "source": [
    "# 데이터 불러오기\n",
    "## 익스포져\n",
    "일반_원수_미경과보험료 = pd.read_excel(FILE_PATH / '일반_원수_미경과보험료.xlsx', dtype={'RRNR_DAT_DVCD': str, 'RRNR_CTC_BZ_DVCD': str, 'ARC_INPL_CD': str})\n",
    "일반_출재_미경과보험료 = pd.read_excel(FILE_PATH / '일반_출재_미경과보험료.xlsx', dtype={'RRNR_DAT_DVCD': str, 'RRNR_CTC_BZ_DVCD': str, 'ARC_INPL_CD': str, 'T02_RN_RINSC_CD': str})\n",
    "일반_원수_예정보험료 = pd.read_excel(FILE_PATH / '일반_원수_예정보험료.xlsx', dtype={'RRNR_DAT_DVCD': str, 'RRNR_CTC_BZ_DVCD': str, 'ARC_INPL_CD': str})\n",
    "일반_출재_예정보험료 = pd.read_excel(FILE_PATH / '일반_출재_예정보험료.xlsx', dtype={'RRNR_DAT_DVCD': str, 'RRNR_CTC_BZ_DVCD': str, 'ARC_INPL_CD': str, 'T02_RN_RINSC_CD': str})\n",
    "일반_원수_개별추산액 = pd.read_excel(FILE_PATH / '일반_원수_개별추산액.xlsx', dtype={'RRNR_DAT_DVCD': str, 'RRNR_DMFR_DVCD': str, 'ARC_INPL_CD': str})\n",
    "일반_출재_개별추산액 = pd.read_excel(FILE_PATH / '일반_출재_개별추산액.xlsx', dtype={'RRNR_DAT_DVCD': str, 'RRNR_DMFR_DVCD': str, 'ARC_INPL_CD': str, 'T02_RN_RINSC_CD': str})\n",
    "\n",
    "## 기초정보, 가정 등\n",
    "일반_상품정보 = pd.read_excel(FILE_PATH / '일반_상품정보.xlsx', dtype={'PDC_CD': str, 'PDGR_CD': str})\n",
    "일반_보험금진전추이 = pd.read_excel(FILE_PATH / '일반_보험금진전추이.xlsx')\n",
    "일반_최종손해율 = pd.read_excel(FILE_PATH / '일반_최종손해율.xlsx', dtype={'RRNR_DAT_DVCD': str, 'PDGR_CD': str}) \\\n",
    "        .rename(columns= {'RRNR_DAT_DVCD': 'RRNR_DVCD'})\n",
    "\n",
    "## 공통\n",
    "국가구분 = pd.read_excel(FILE_PATH / '국가구분.xlsx', dtype={'CNTR_CATG_CD': str})\n",
    "재보험자_국내신용등급 = pd.read_excel(FILE_PATH / '재보험자_국내신용등급.xlsx', dtype={'재보험사코드': str}) \\\n",
    "        .rename(columns = {'재보험사코드': 'T02_RN_RINSC_CD', '국내신용등급': 'CRD_GRD'})\n",
    "선도부도율 = pd.read_excel(FILE_PATH / '선도부도율.xlsx')\n",
    "할인율 = pd.read_excel(FILE_PATH / '할인율.xlsx')"
   ]
  },
  {
   "cell_type": "code",
   "execution_count": 4,
   "metadata": {},
   "outputs": [],
   "source": [
    "# 데이터 전처리\n",
    "일반_원수_미경과보험료['RRNR_DVCD'] = clsf_rrnr_dvcd(일반_원수_미경과보험료, '원수')\n",
    "일반_원수_미경과보험료['DMFR_DVCD'] = clsf_dmfr_dvcd(일반_원수_미경과보험료)\n",
    "일반_원수_미경과보험료['BOZ_CD'] = clsf_boz_cd(일반_원수_미경과보험료, 일반_상품정보)\n",
    "일반_원수_미경과보험료['PDGR_CD'] = clsf_pdgr_cd(일반_원수_미경과보험료, 일반_상품정보)\n",
    "\n",
    "일반_출재_미경과보험료['RRNR_DVCD'] = clsf_rrnr_dvcd(일반_출재_미경과보험료, '출재')\n",
    "일반_출재_미경과보험료['DMFR_DVCD'] = clsf_dmfr_dvcd(일반_출재_미경과보험료)\n",
    "일반_출재_미경과보험료['BOZ_CD'] = clsf_boz_cd(일반_출재_미경과보험료, 일반_상품정보)\n",
    "일반_출재_미경과보험료['PDGR_CD'] = clsf_pdgr_cd(일반_출재_미경과보험료, 일반_상품정보)\n",
    "일반_출재_미경과보험료['CRD_GRD'] = clsf_crd_grd(일반_출재_미경과보험료, 재보험자_국내신용등급)\n",
    "\n",
    "일반_원수_예정보험료['RRNR_DVCD'] = clsf_rrnr_dvcd(일반_원수_예정보험료, '원수')\n",
    "일반_원수_예정보험료['DMFR_DVCD'] = clsf_dmfr_dvcd(일반_원수_예정보험료)\n",
    "일반_원수_예정보험료['BOZ_CD'] = clsf_boz_cd(일반_원수_예정보험료, 일반_상품정보)\n",
    "일반_원수_예정보험료['PDGR_CD'] = clsf_pdgr_cd(일반_원수_예정보험료, 일반_상품정보)\n",
    "\n",
    "일반_출재_예정보험료['RRNR_DVCD'] = clsf_rrnr_dvcd(일반_출재_예정보험료, '출재')\n",
    "일반_출재_예정보험료['DMFR_DVCD'] = clsf_dmfr_dvcd(일반_출재_예정보험료)\n",
    "일반_출재_예정보험료['BOZ_CD'] = clsf_boz_cd(일반_출재_예정보험료, 일반_상품정보)\n",
    "일반_출재_예정보험료['PDGR_CD'] = clsf_pdgr_cd(일반_출재_예정보험료, 일반_상품정보)\n",
    "일반_출재_예정보험료['CRD_GRD'] = clsf_crd_grd(일반_출재_예정보험료, 재보험자_국내신용등급)\n",
    "\n",
    "일반_원수_개별추산액['RRNR_DVCD'] = clsf_rrnr_dvcd(일반_원수_개별추산액, '원수')\n",
    "일반_원수_개별추산액['DMFR_DVCD'] = clsf_dmfr_dvcd(일반_원수_개별추산액)\n",
    "일반_원수_개별추산액['BOZ_CD'] = clsf_boz_cd(일반_원수_개별추산액, 일반_상품정보)\n",
    "일반_원수_개별추산액['PDGR_CD'] = clsf_pdgr_cd(일반_원수_개별추산액, 일반_상품정보)\n",
    "\n",
    "일반_출재_개별추산액['RRNR_DVCD'] = clsf_rrnr_dvcd(일반_출재_개별추산액, '출재')\n",
    "일반_출재_개별추산액['DMFR_DVCD'] = clsf_dmfr_dvcd(일반_출재_개별추산액)\n",
    "일반_출재_개별추산액['BOZ_CD'] = clsf_boz_cd(일반_출재_개별추산액, 일반_상품정보)\n",
    "일반_출재_개별추산액['PDGR_CD'] = clsf_pdgr_cd(일반_출재_개별추산액, 일반_상품정보)\n",
    "일반_출재_개별추산액['CRD_GRD'] = clsf_crd_grd(일반_출재_개별추산액, 재보험자_국내신용등급)"
   ]
  },
  {
   "cell_type": "code",
   "execution_count": 50,
   "metadata": {},
   "outputs": [
    {
     "output_type": "execute_result",
     "data": {
      "text/plain": [
       "   RRNR_DVCD DMFR_DVCD BOZ_CD        URND_PRM       EPCT_PRM\n",
       "0         04        01   A001  23,420,916,171              0\n",
       "1         04        01   A002  27,599,989,968  1,655,668,169\n",
       "2         04        01   A003  96,919,532,915  3,881,525,083\n",
       "3         04        01   A004  23,093,930,741 12,982,384,892\n",
       "4         04        01   A005   5,488,832,989  1,000,300,401\n",
       "5         04        01   A006  66,551,730,700  3,223,443,768\n",
       "6         04        01   A007  93,999,089,721  4,971,387,805\n",
       "7         04        01   A008   4,773,218,318              0\n",
       "8         04        01   A009   8,675,613,167              0\n",
       "9         04        01   A010  75,028,541,789      8,993,019\n",
       "10        04        01   A011       7,400,376     23,062,500\n",
       "11        04        02      # 155,264,148,378              0\n",
       "12        03        01   A001   3,754,561,388              0\n",
       "13        03        01   A002  14,521,450,655  1,062,459,968\n",
       "14        03        01   A003  46,151,017,206    893,570,548\n",
       "15        03        01   A004  17,886,144,139 10,110,723,139\n",
       "16        03        01   A005     959,923,559    129,191,451\n",
       "17        03        01   A006  36,191,774,534  1,145,958,079\n",
       "18        03        01   A007  27,671,975,602  1,630,409,985\n",
       "19        03        01   A009   6,211,002,671              0\n",
       "20        03        01   A010  42,352,648,305      4,950,148\n",
       "21        03        01   A011       3,340,223     21,909,375\n",
       "22        03        02      #  40,919,414,365              0"
      ],
      "text/html": "<div>\n<style scoped>\n    .dataframe tbody tr th:only-of-type {\n        vertical-align: middle;\n    }\n\n    .dataframe tbody tr th {\n        vertical-align: top;\n    }\n\n    .dataframe thead th {\n        text-align: right;\n    }\n</style>\n<table border=\"1\" class=\"dataframe\">\n  <thead>\n    <tr style=\"text-align: right;\">\n      <th></th>\n      <th>RRNR_DVCD</th>\n      <th>DMFR_DVCD</th>\n      <th>BOZ_CD</th>\n      <th>URND_PRM</th>\n      <th>EPCT_PRM</th>\n    </tr>\n  </thead>\n  <tbody>\n    <tr>\n      <th>0</th>\n      <td>04</td>\n      <td>01</td>\n      <td>A001</td>\n      <td>23,420,916,171</td>\n      <td>0</td>\n    </tr>\n    <tr>\n      <th>1</th>\n      <td>04</td>\n      <td>01</td>\n      <td>A002</td>\n      <td>27,599,989,968</td>\n      <td>1,655,668,169</td>\n    </tr>\n    <tr>\n      <th>2</th>\n      <td>04</td>\n      <td>01</td>\n      <td>A003</td>\n      <td>96,919,532,915</td>\n      <td>3,881,525,083</td>\n    </tr>\n    <tr>\n      <th>3</th>\n      <td>04</td>\n      <td>01</td>\n      <td>A004</td>\n      <td>23,093,930,741</td>\n      <td>12,982,384,892</td>\n    </tr>\n    <tr>\n      <th>4</th>\n      <td>04</td>\n      <td>01</td>\n      <td>A005</td>\n      <td>5,488,832,989</td>\n      <td>1,000,300,401</td>\n    </tr>\n    <tr>\n      <th>5</th>\n      <td>04</td>\n      <td>01</td>\n      <td>A006</td>\n      <td>66,551,730,700</td>\n      <td>3,223,443,768</td>\n    </tr>\n    <tr>\n      <th>6</th>\n      <td>04</td>\n      <td>01</td>\n      <td>A007</td>\n      <td>93,999,089,721</td>\n      <td>4,971,387,805</td>\n    </tr>\n    <tr>\n      <th>7</th>\n      <td>04</td>\n      <td>01</td>\n      <td>A008</td>\n      <td>4,773,218,318</td>\n      <td>0</td>\n    </tr>\n    <tr>\n      <th>8</th>\n      <td>04</td>\n      <td>01</td>\n      <td>A009</td>\n      <td>8,675,613,167</td>\n      <td>0</td>\n    </tr>\n    <tr>\n      <th>9</th>\n      <td>04</td>\n      <td>01</td>\n      <td>A010</td>\n      <td>75,028,541,789</td>\n      <td>8,993,019</td>\n    </tr>\n    <tr>\n      <th>10</th>\n      <td>04</td>\n      <td>01</td>\n      <td>A011</td>\n      <td>7,400,376</td>\n      <td>23,062,500</td>\n    </tr>\n    <tr>\n      <th>11</th>\n      <td>04</td>\n      <td>02</td>\n      <td>#</td>\n      <td>155,264,148,378</td>\n      <td>0</td>\n    </tr>\n    <tr>\n      <th>12</th>\n      <td>03</td>\n      <td>01</td>\n      <td>A001</td>\n      <td>3,754,561,388</td>\n      <td>0</td>\n    </tr>\n    <tr>\n      <th>13</th>\n      <td>03</td>\n      <td>01</td>\n      <td>A002</td>\n      <td>14,521,450,655</td>\n      <td>1,062,459,968</td>\n    </tr>\n    <tr>\n      <th>14</th>\n      <td>03</td>\n      <td>01</td>\n      <td>A003</td>\n      <td>46,151,017,206</td>\n      <td>893,570,548</td>\n    </tr>\n    <tr>\n      <th>15</th>\n      <td>03</td>\n      <td>01</td>\n      <td>A004</td>\n      <td>17,886,144,139</td>\n      <td>10,110,723,139</td>\n    </tr>\n    <tr>\n      <th>16</th>\n      <td>03</td>\n      <td>01</td>\n      <td>A005</td>\n      <td>959,923,559</td>\n      <td>129,191,451</td>\n    </tr>\n    <tr>\n      <th>17</th>\n      <td>03</td>\n      <td>01</td>\n      <td>A006</td>\n      <td>36,191,774,534</td>\n      <td>1,145,958,079</td>\n    </tr>\n    <tr>\n      <th>18</th>\n      <td>03</td>\n      <td>01</td>\n      <td>A007</td>\n      <td>27,671,975,602</td>\n      <td>1,630,409,985</td>\n    </tr>\n    <tr>\n      <th>19</th>\n      <td>03</td>\n      <td>01</td>\n      <td>A009</td>\n      <td>6,211,002,671</td>\n      <td>0</td>\n    </tr>\n    <tr>\n      <th>20</th>\n      <td>03</td>\n      <td>01</td>\n      <td>A010</td>\n      <td>42,352,648,305</td>\n      <td>4,950,148</td>\n    </tr>\n    <tr>\n      <th>21</th>\n      <td>03</td>\n      <td>01</td>\n      <td>A011</td>\n      <td>3,340,223</td>\n      <td>21,909,375</td>\n    </tr>\n    <tr>\n      <th>22</th>\n      <td>03</td>\n      <td>02</td>\n      <td>#</td>\n      <td>40,919,414,365</td>\n      <td>0</td>\n    </tr>\n  </tbody>\n</table>\n</div>"
     },
     "metadata": {},
     "execution_count": 50
    }
   ],
   "source": [
    "# 데이터 집계\n",
    "## 미경과보험료\n",
    "일반_원수_미경과보험료_집계 = 일반_원수_미경과보험료.copy()\n",
    "일반_원수_미경과보험료_집계['RRNR_DVCD'] = '04'\n",
    "일반_원수_미경과보험료_집계.loc[lambda x: x['DMFR_DVCD'] == '02', 'BOZ_CD'] = '#'\n",
    "일반_원수_미경과보험료_집계 = 일반_원수_미경과보험료_집계.groupby(['RRNR_DVCD', 'DMFR_DVCD', 'BOZ_CD'])['LTPD_URND_PRM'].sum().reset_index()\n",
    "일반_원수_미경과보험료_집계 = 일반_원수_미경과보험료_집계.rename(columns = {'LTPD_URND_PRM': 'URND_PRM'})\n",
    "\n",
    "일반_출재_미경과보험료_집계 = 일반_출재_미경과보험료.copy()\n",
    "일반_출재_미경과보험료_집계.loc[lambda x: x['DMFR_DVCD'] == '02', 'BOZ_CD'] = '#'\n",
    "일반_출재_미경과보험료_집계 = 일반_출재_미경과보험료_집계.groupby(['RRNR_DVCD', 'DMFR_DVCD', 'BOZ_CD'])['T02_LTPD_RN_URND_PRM'].sum().reset_index()\n",
    "일반_출재_미경과보험료_집계 = 일반_출재_미경과보험료_집계.rename(columns = {'T02_LTPD_RN_URND_PRM': 'URND_PRM'})\n",
    "\n",
    "일반_미경과보험료_집계 = pd.concat([일반_원수_미경과보험료_집계, 일반_출재_미경과보험료_집계], axis=0).reset_index(drop=True)\n",
    "\n",
    "## 예정보험료\n",
    "일반_원수_예정보험료_집계 = 일반_원수_예정보험료.copy()\n",
    "일반_원수_예정보험료_집계['RRNR_DVCD'] = '04'\n",
    "일반_원수_예정보험료_집계.loc[lambda x: x['DMFR_DVCD'] == '02', 'BOZ_CD'] = '#'\n",
    "일반_원수_예정보험료_집계 = 일반_원수_예정보험료_집계.groupby(['RRNR_DVCD', 'DMFR_DVCD', 'BOZ_CD'])['WNCR_CNV_EPCT_PRM'].sum().reset_index()\n",
    "일반_원수_예정보험료_집계 = 일반_원수_예정보험료_집계.rename(columns = {'WNCR_CNV_EPCT_PRM': 'EPCT_PRM'})\n",
    "\n",
    "일반_출재_예정보험료_집계 = 일반_출재_예정보험료.copy()\n",
    "일반_출재_예정보험료_집계.loc[lambda x: x['DMFR_DVCD'] == '02', 'BOZ_CD'] = '#'\n",
    "일반_출재_예정보험료_집계 = 일반_출재_예정보험료_집계.groupby(['RRNR_DVCD', 'DMFR_DVCD', 'BOZ_CD'])['WNCR_CNV_RN_PRM'].sum().reset_index()\n",
    "일반_출재_예정보험료_집계 = 일반_출재_예정보험료_집계.rename(columns = {'WNCR_CNV_RN_PRM': 'EPCT_PRM'})\n",
    "\n",
    "일반_예정보험료_집계 = pd.concat([일반_원수_예정보험료_집계, 일반_출재_예정보험료_집계], axis=0).reset_index(drop=True)\n",
    "\n",
    "일반_보험료익스포져 = 일반_미경과보험료_집계.merge(일반_예정보험료_집계, on=['RRNR_DVCD', 'DMFR_DVCD', 'BOZ_CD'], how='outer') \\\n",
    "        .assign(URND_PRM = lambda x: x['URND_PRM'].fillna(0).astype(float)) \\\n",
    "        .assign(EPCT_PRM = lambda x: x['EPCT_PRM'].fillna(0).astype(float))\n",
    "일반_보험료익스포져"
   ]
  },
  {
   "cell_type": "code",
   "execution_count": 7,
   "metadata": {},
   "outputs": [
    {
     "output_type": "execute_result",
     "data": {
      "text/plain": [
       "   RRNR_DVCD DMFR_DVCD BOZ_CD  LTPD_URND_PRM\n",
       "0         01        01   A001    23420916171\n",
       "1         01        01   A002    27146263273\n",
       "2         01        01   A003    96625029260\n",
       "3         01        01   A004    22191701960\n",
       "4         01        01   A005     5095840261\n",
       "5         01        01   A006    66353121310\n",
       "6         01        01   A007    93981583216\n",
       "7         01        01   A008     4773218318\n",
       "8         01        01   A010    73720023337\n",
       "9         01        01   A011        3516025\n",
       "10        01        02   A001    20048181952\n",
       "11        01        02   A002     2190076662\n",
       "12        01        02   A003    92312103939\n",
       "13        01        02   A004      200951900\n",
       "14        01        02   A005     4517117845\n",
       "15        01        02   A006    14017269277\n",
       "16        01        02   A007       56403993\n",
       "17        01        02   A010       11088348\n",
       "18        01        02   A011      257009507\n",
       "19        02        01   A002      453726695\n",
       "20        02        01   A003      294503655\n",
       "21        02        01   A004      902228781\n",
       "22        02        01   A005      392992728\n",
       "23        02        01   A006      198609390\n",
       "24        02        01   A007       17506505\n",
       "25        02        01   A009     8675613167\n",
       "26        02        01   A010     1308518452\n",
       "27        02        01   A011        3884351\n",
       "28        02        02   A001       45261940\n",
       "29        02        02   A002      107848300\n",
       "30        02        02   A003    20952171307\n",
       "31        02        02   A004      463692342\n",
       "32        02        02   A006       36680238\n",
       "33        02        02   A007       48290828\n",
       "34        02        02   A010              0"
      ],
      "text/html": "<div>\n<style scoped>\n    .dataframe tbody tr th:only-of-type {\n        vertical-align: middle;\n    }\n\n    .dataframe tbody tr th {\n        vertical-align: top;\n    }\n\n    .dataframe thead th {\n        text-align: right;\n    }\n</style>\n<table border=\"1\" class=\"dataframe\">\n  <thead>\n    <tr style=\"text-align: right;\">\n      <th></th>\n      <th>RRNR_DVCD</th>\n      <th>DMFR_DVCD</th>\n      <th>BOZ_CD</th>\n      <th>LTPD_URND_PRM</th>\n    </tr>\n  </thead>\n  <tbody>\n    <tr>\n      <th>0</th>\n      <td>01</td>\n      <td>01</td>\n      <td>A001</td>\n      <td>23420916171</td>\n    </tr>\n    <tr>\n      <th>1</th>\n      <td>01</td>\n      <td>01</td>\n      <td>A002</td>\n      <td>27146263273</td>\n    </tr>\n    <tr>\n      <th>2</th>\n      <td>01</td>\n      <td>01</td>\n      <td>A003</td>\n      <td>96625029260</td>\n    </tr>\n    <tr>\n      <th>3</th>\n      <td>01</td>\n      <td>01</td>\n      <td>A004</td>\n      <td>22191701960</td>\n    </tr>\n    <tr>\n      <th>4</th>\n      <td>01</td>\n      <td>01</td>\n      <td>A005</td>\n      <td>5095840261</td>\n    </tr>\n    <tr>\n      <th>5</th>\n      <td>01</td>\n      <td>01</td>\n      <td>A006</td>\n      <td>66353121310</td>\n    </tr>\n    <tr>\n      <th>6</th>\n      <td>01</td>\n      <td>01</td>\n      <td>A007</td>\n      <td>93981583216</td>\n    </tr>\n    <tr>\n      <th>7</th>\n      <td>01</td>\n      <td>01</td>\n      <td>A008</td>\n      <td>4773218318</td>\n    </tr>\n    <tr>\n      <th>8</th>\n      <td>01</td>\n      <td>01</td>\n      <td>A010</td>\n      <td>73720023337</td>\n    </tr>\n    <tr>\n      <th>9</th>\n      <td>01</td>\n      <td>01</td>\n      <td>A011</td>\n      <td>3516025</td>\n    </tr>\n    <tr>\n      <th>10</th>\n      <td>01</td>\n      <td>02</td>\n      <td>A001</td>\n      <td>20048181952</td>\n    </tr>\n    <tr>\n      <th>11</th>\n      <td>01</td>\n      <td>02</td>\n      <td>A002</td>\n      <td>2190076662</td>\n    </tr>\n    <tr>\n      <th>12</th>\n      <td>01</td>\n      <td>02</td>\n      <td>A003</td>\n      <td>92312103939</td>\n    </tr>\n    <tr>\n      <th>13</th>\n      <td>01</td>\n      <td>02</td>\n      <td>A004</td>\n      <td>200951900</td>\n    </tr>\n    <tr>\n      <th>14</th>\n      <td>01</td>\n      <td>02</td>\n      <td>A005</td>\n      <td>4517117845</td>\n    </tr>\n    <tr>\n      <th>15</th>\n      <td>01</td>\n      <td>02</td>\n      <td>A006</td>\n      <td>14017269277</td>\n    </tr>\n    <tr>\n      <th>16</th>\n      <td>01</td>\n      <td>02</td>\n      <td>A007</td>\n      <td>56403993</td>\n    </tr>\n    <tr>\n      <th>17</th>\n      <td>01</td>\n      <td>02</td>\n      <td>A010</td>\n      <td>11088348</td>\n    </tr>\n    <tr>\n      <th>18</th>\n      <td>01</td>\n      <td>02</td>\n      <td>A011</td>\n      <td>257009507</td>\n    </tr>\n    <tr>\n      <th>19</th>\n      <td>02</td>\n      <td>01</td>\n      <td>A002</td>\n      <td>453726695</td>\n    </tr>\n    <tr>\n      <th>20</th>\n      <td>02</td>\n      <td>01</td>\n      <td>A003</td>\n      <td>294503655</td>\n    </tr>\n    <tr>\n      <th>21</th>\n      <td>02</td>\n      <td>01</td>\n      <td>A004</td>\n      <td>902228781</td>\n    </tr>\n    <tr>\n      <th>22</th>\n      <td>02</td>\n      <td>01</td>\n      <td>A005</td>\n      <td>392992728</td>\n    </tr>\n    <tr>\n      <th>23</th>\n      <td>02</td>\n      <td>01</td>\n      <td>A006</td>\n      <td>198609390</td>\n    </tr>\n    <tr>\n      <th>24</th>\n      <td>02</td>\n      <td>01</td>\n      <td>A007</td>\n      <td>17506505</td>\n    </tr>\n    <tr>\n      <th>25</th>\n      <td>02</td>\n      <td>01</td>\n      <td>A009</td>\n      <td>8675613167</td>\n    </tr>\n    <tr>\n      <th>26</th>\n      <td>02</td>\n      <td>01</td>\n      <td>A010</td>\n      <td>1308518452</td>\n    </tr>\n    <tr>\n      <th>27</th>\n      <td>02</td>\n      <td>01</td>\n      <td>A011</td>\n      <td>3884351</td>\n    </tr>\n    <tr>\n      <th>28</th>\n      <td>02</td>\n      <td>02</td>\n      <td>A001</td>\n      <td>45261940</td>\n    </tr>\n    <tr>\n      <th>29</th>\n      <td>02</td>\n      <td>02</td>\n      <td>A002</td>\n      <td>107848300</td>\n    </tr>\n    <tr>\n      <th>30</th>\n      <td>02</td>\n      <td>02</td>\n      <td>A003</td>\n      <td>20952171307</td>\n    </tr>\n    <tr>\n      <th>31</th>\n      <td>02</td>\n      <td>02</td>\n      <td>A004</td>\n      <td>463692342</td>\n    </tr>\n    <tr>\n      <th>32</th>\n      <td>02</td>\n      <td>02</td>\n      <td>A006</td>\n      <td>36680238</td>\n    </tr>\n    <tr>\n      <th>33</th>\n      <td>02</td>\n      <td>02</td>\n      <td>A007</td>\n      <td>48290828</td>\n    </tr>\n    <tr>\n      <th>34</th>\n      <td>02</td>\n      <td>02</td>\n      <td>A010</td>\n      <td>0</td>\n    </tr>\n  </tbody>\n</table>\n</div>"
     },
     "metadata": {},
     "execution_count": 7
    }
   ],
   "source": [
    "# 데이터 내보내기\n"
   ]
  }
 ]
}