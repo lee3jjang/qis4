{
 "metadata": {
  "language_info": {
   "codemirror_mode": {
    "name": "ipython",
    "version": 3
   },
   "file_extension": ".py",
   "mimetype": "text/x-python",
   "name": "python",
   "nbconvert_exporter": "python",
   "pygments_lexer": "ipython3",
   "version": "3.9.5"
  },
  "orig_nbformat": 4,
  "kernelspec": {
   "name": "python3",
   "display_name": "Python 3.9.5 64-bit"
  },
  "interpreter": {
   "hash": "11f1dc213e07634baa4c5c321dec03c05dafae643c50f20e6d1a492290c05dc2"
  }
 },
 "nbformat": 4,
 "nbformat_minor": 2,
 "cells": [
  {
   "cell_type": "code",
   "execution_count": 122,
   "metadata": {},
   "outputs": [],
   "source": [
    "import os\n",
    "import numpy as np\n",
    "import pandas as pd\n",
    "from pathlib import Path\n",
    "from typing import List, Tuple\n",
    "from preprocessing import clsf_boz_cd, clsf_rrnr_dvcd, clsf_dmfr_dvcd, clsf_crd_grd"
   ]
  },
  {
   "cell_type": "code",
   "execution_count": 19,
   "metadata": {},
   "outputs": [],
   "source": [
    "# 환경설정\n",
    "pd.options.display.float_format = '{:,.0f}'.format\n",
    "os.makedirs('result', exist_ok=True)\n",
    "\n",
    "# 전역변수\n",
    "FILE_PATH = Path('./data/현행추정부채_일반')"
   ]
  },
  {
   "cell_type": "code",
   "execution_count": 20,
   "metadata": {},
   "outputs": [],
   "source": [
    "# 데이터 불러오기\n",
    "일반_상품정보 = pd.read_excel(FILE_PATH / '일반_상품정보.xlsx', dtype={'PDC_CD': str, 'PDGR_CD': str})\n",
    "일반_원수_미경과보험료 = pd.read_excel(FILE_PATH / '일반_원수_미경과보험료.xlsx', dtype={'RRNR_DAT_DVCD': str, 'RRNR_CTC_BZ_DVCD': str, 'ARC_INPL_CD': str})\n",
    "일반_출재_미경과보험료 = pd.read_excel(FILE_PATH / '일반_출재_미경과보험료.xlsx', dtype={'RRNR_DAT_DVCD': str, 'RRNR_CTC_BZ_DVCD': str, 'ARC_INPL_CD': str, 'T02_RN_RINSC_CD': str})\n",
    "재보험자_국내신용등급 = pd.read_excel(FILE_PATH / '재보험자_국내신용등급.xlsx', dtype={'재보험사코드': str}) \\\n",
    "    .rename(columns = {'재보험사코드': 'T02_RN_RINSC_CD', '국내신용등급': 'CRD_GRD'})\n",
    "\n"
   ]
  },
  {
   "cell_type": "code",
   "execution_count": 117,
   "metadata": {},
   "outputs": [
    {
     "output_type": "execute_result",
     "data": {
      "text/plain": [
       "array([0.53215922, 0.21333367, 0.12768267, 0.07229671, 0.03756675,\n",
       "       0.01696098])"
      ]
     },
     "metadata": {},
     "execution_count": 117
    }
   ],
   "source": [
    "일반_보험금진전추이 = pd.read_excel(FILE_PATH / '일반_할인요소_검증_201912_20210218.xlsx', sheet_name='보험금_진전추이', dtype={'PDGR_CD': str, 'AY_YM': str})\n",
    "일반_보험금진전추이 = 일반_보험금진전추이 \\\n",
    "    .assign(\n",
    "        BASE_6 = lambda x: np.where(x['BASE_6'].isna(), x['BASE_5'], x['BASE_6']),\n",
    "        BASE_7 = lambda x: np.where(x['BASE_7'].isna(), x['BASE_6'], x['BASE_7']),\n",
    "    ) \\\n",
    "    .filter(['PDGR_CD', 'AY_YM', 'BASE_1', 'BASE_2', 'BASE_3', 'BASE_4', 'BASE_5', 'BASE_6', 'BASE_7']) \\\n",
    "    .astype({'BASE_1': float, 'BASE_2': float, 'BASE_3': float, 'BASE_4': float, 'BASE_5': float})\n",
    "\n",
    "# 함수\n",
    "from typing import List, Tuple\n",
    "# get_cf(cf: pd.DataFrame, int_rate: pd.DataFrame, pdgr_cd: str, cf_type: str) -> Tuple[pd.Series, pd.Series]:\n",
    "cf = 일반_보험금진전추이.copy().query('PDGR_CD == \"26\"')\n",
    "pdgr_cd = '26'\n",
    "cf_type = '보험금'\n",
    "\n",
    "n = 7 if pdgr_cd in ['25', '26'] else 5\n",
    "if not set(['AY_YM', 'BASE_1', 'BASE_2', 'BASE_3', 'BASE_4', 'BASE_5', 'BASE_6', 'BASE_7']).issubset(cf.columns):\n",
    "    raise Exception('cf 필수 컬럼 누락 오류')\n",
    "\n",
    "if len(cf) != n:\n",
    "    raise Exception('cf 입력 크기 오류')\n",
    "\n",
    "cf_arr = cf.sort_values(by='AY_YM')[['BASE_1', 'BASE_2', 'BASE_3', 'BASE_4', 'BASE_5', 'BASE_6', 'BASE_7']].to_numpy()\n",
    "# 지급CF 계산\n",
    "pay_cf_all = []\n",
    "for i in range(n-1, 0, -1):\n",
    "    pay_cf = 0\n",
    "    for j in range(i):\n",
    "        pay_cf += cf_arr[(n-1)-j, (n-1-i)+j+1]-cf_arr[(n-1)-j, (n-1-i)+j]\n",
    "    pay_cf = max(pay_cf, 0)\n",
    "    pay_cf_all.append(pay_cf)\n",
    "pay_cf_all = np.array(pay_cf_all)\n",
    "cf_t = np.arange(0.5, n-0.5)\n",
    "pay_cf_all = pay_cf_all/pay_cf_all.sum()\n",
    "pay_cf_all"
   ]
  },
  {
   "cell_type": "code",
   "execution_count": 133,
   "metadata": {},
   "outputs": [
    {
     "output_type": "execute_result",
     "data": {
      "text/plain": [
       "0   0\n",
       "1   2\n",
       "2   2\n",
       "3   4\n",
       "dtype: float64"
      ]
     },
     "metadata": {},
     "execution_count": 133
    }
   ],
   "source": [
    "def get_cf(cf: pd.DataFrame, pdgr_cd: str, cf_type: str) -> Tuple[pd.Series, pd.Series]:\n",
    "    n = 7 if pdgr_cd in ['25', '26'] else 5\n",
    "    if not set(['AY_YM', 'BASE_1', 'BASE_2', 'BASE_3', 'BASE_4', 'BASE_5', 'BASE_6', 'BASE_7']).issubset(cf.columns):\n",
    "        raise Exception('cf 필수 컬럼 누락 오류')\n",
    "\n",
    "    if len(cf) != n:\n",
    "        raise Exception('cf 입력 크기 오류')\n",
    "\n",
    "    cf_arr = cf.sort_values(by='AY_YM')[['BASE_1', 'BASE_2', 'BASE_3', 'BASE_4', 'BASE_5', 'BASE_6', 'BASE_7']].to_numpy()\n",
    "\n",
    "    pay_cf_all = []\n",
    "    for i in range(n-1, 0, -1):\n",
    "        pay_cf = 0\n",
    "        for j in range(i):\n",
    "            pay_cf += cf_arr[(n-1)-j, (n-1-i)+j+1]-cf_arr[(n-1)-j, (n-1-i)+j]\n",
    "        pay_cf = max(pay_cf, 0)\n",
    "        pay_cf_all.append(pay_cf)\n",
    "    pay_cf_all = np.array(pay_cf_all)\n",
    "    pay_cf_rate = pd.Series(pay_cf_all/pay_cf_all.sum())\n",
    "    \n",
    "    if cf_type == '보험금':\n",
    "        cf_t = pd.Series(np.arange(0.5, n-0.5))\n",
    "        return (cf_t, pay_cf_rate)\n",
    "\n",
    "# 함수\n",
    "cf = 일반_보험금진전추이.query('PDGR_CD == \"26\"')\n",
    "pdgr_cd = '24'\n",
    "cf_type = '보험금'\n",
    "cf_t, cf = get_cf(일반_보험금진전추이.query('PDGR_CD == @pdgr_cd'), pdgr_cd, '보험금')\n",
    "cf_t"
   ]
  },
  {
   "cell_type": "code",
   "execution_count": 21,
   "metadata": {},
   "outputs": [
    {
     "output_type": "execute_result",
     "data": {
      "text/plain": [
       "     RRNR_DAT_DVCD RRNR_CTC_BZ_DVCD NTNL_CTRY_CD ARC_INPL_CD T02_RN_RINSC_CD  \\\n",
       "0               01                3           KR     1040110          124012   \n",
       "1               01                3           KR     1054410          124012   \n",
       "2               01                3           KR     1049210          124060   \n",
       "3               01                3           KR     1067110          124012   \n",
       "4               01                3           KR     1061610          122086   \n",
       "...            ...              ...          ...         ...             ...   \n",
       "1713            01                3           KR     1075010          511229   \n",
       "1714            01                3           KR     1050310          511098   \n",
       "1715            01                3           KR     1050310          511127   \n",
       "1716            01                3           KR     1050310          511279   \n",
       "1717            01                3           KR     1050310          511283   \n",
       "\n",
       "      T02_LTPD_RN_URND_PRM BOZ_CD RRNR_DVCD DMFR_DVCD CRD_GRD  \n",
       "0                244906286   A001        03        01      AA  \n",
       "1                   277457   A007        03        01      AA  \n",
       "2               3997104940   A006        03        01     AAA  \n",
       "3                 13935049   A007        03        01      AA  \n",
       "4                 35489513   A007        03        01     AA-  \n",
       "...                    ...    ...       ...       ...     ...  \n",
       "1713             159905282   A004        03        01     AA+  \n",
       "1714               8226012   A003        03        01      AA  \n",
       "1715               5484008   A003        03        01      AA  \n",
       "1716               2742004   A003        03        01      AA  \n",
       "1717               3701705   A003        03        01      AA  \n",
       "\n",
       "[1718 rows x 10 columns]"
      ],
      "text/html": "<div>\n<style scoped>\n    .dataframe tbody tr th:only-of-type {\n        vertical-align: middle;\n    }\n\n    .dataframe tbody tr th {\n        vertical-align: top;\n    }\n\n    .dataframe thead th {\n        text-align: right;\n    }\n</style>\n<table border=\"1\" class=\"dataframe\">\n  <thead>\n    <tr style=\"text-align: right;\">\n      <th></th>\n      <th>RRNR_DAT_DVCD</th>\n      <th>RRNR_CTC_BZ_DVCD</th>\n      <th>NTNL_CTRY_CD</th>\n      <th>ARC_INPL_CD</th>\n      <th>T02_RN_RINSC_CD</th>\n      <th>T02_LTPD_RN_URND_PRM</th>\n      <th>BOZ_CD</th>\n      <th>RRNR_DVCD</th>\n      <th>DMFR_DVCD</th>\n      <th>CRD_GRD</th>\n    </tr>\n  </thead>\n  <tbody>\n    <tr>\n      <th>0</th>\n      <td>01</td>\n      <td>3</td>\n      <td>KR</td>\n      <td>1040110</td>\n      <td>124012</td>\n      <td>244906286</td>\n      <td>A001</td>\n      <td>03</td>\n      <td>01</td>\n      <td>AA</td>\n    </tr>\n    <tr>\n      <th>1</th>\n      <td>01</td>\n      <td>3</td>\n      <td>KR</td>\n      <td>1054410</td>\n      <td>124012</td>\n      <td>277457</td>\n      <td>A007</td>\n      <td>03</td>\n      <td>01</td>\n      <td>AA</td>\n    </tr>\n    <tr>\n      <th>2</th>\n      <td>01</td>\n      <td>3</td>\n      <td>KR</td>\n      <td>1049210</td>\n      <td>124060</td>\n      <td>3997104940</td>\n      <td>A006</td>\n      <td>03</td>\n      <td>01</td>\n      <td>AAA</td>\n    </tr>\n    <tr>\n      <th>3</th>\n      <td>01</td>\n      <td>3</td>\n      <td>KR</td>\n      <td>1067110</td>\n      <td>124012</td>\n      <td>13935049</td>\n      <td>A007</td>\n      <td>03</td>\n      <td>01</td>\n      <td>AA</td>\n    </tr>\n    <tr>\n      <th>4</th>\n      <td>01</td>\n      <td>3</td>\n      <td>KR</td>\n      <td>1061610</td>\n      <td>122086</td>\n      <td>35489513</td>\n      <td>A007</td>\n      <td>03</td>\n      <td>01</td>\n      <td>AA-</td>\n    </tr>\n    <tr>\n      <th>...</th>\n      <td>...</td>\n      <td>...</td>\n      <td>...</td>\n      <td>...</td>\n      <td>...</td>\n      <td>...</td>\n      <td>...</td>\n      <td>...</td>\n      <td>...</td>\n      <td>...</td>\n    </tr>\n    <tr>\n      <th>1713</th>\n      <td>01</td>\n      <td>3</td>\n      <td>KR</td>\n      <td>1075010</td>\n      <td>511229</td>\n      <td>159905282</td>\n      <td>A004</td>\n      <td>03</td>\n      <td>01</td>\n      <td>AA+</td>\n    </tr>\n    <tr>\n      <th>1714</th>\n      <td>01</td>\n      <td>3</td>\n      <td>KR</td>\n      <td>1050310</td>\n      <td>511098</td>\n      <td>8226012</td>\n      <td>A003</td>\n      <td>03</td>\n      <td>01</td>\n      <td>AA</td>\n    </tr>\n    <tr>\n      <th>1715</th>\n      <td>01</td>\n      <td>3</td>\n      <td>KR</td>\n      <td>1050310</td>\n      <td>511127</td>\n      <td>5484008</td>\n      <td>A003</td>\n      <td>03</td>\n      <td>01</td>\n      <td>AA</td>\n    </tr>\n    <tr>\n      <th>1716</th>\n      <td>01</td>\n      <td>3</td>\n      <td>KR</td>\n      <td>1050310</td>\n      <td>511279</td>\n      <td>2742004</td>\n      <td>A003</td>\n      <td>03</td>\n      <td>01</td>\n      <td>AA</td>\n    </tr>\n    <tr>\n      <th>1717</th>\n      <td>01</td>\n      <td>3</td>\n      <td>KR</td>\n      <td>1050310</td>\n      <td>511283</td>\n      <td>3701705</td>\n      <td>A003</td>\n      <td>03</td>\n      <td>01</td>\n      <td>AA</td>\n    </tr>\n  </tbody>\n</table>\n<p>1718 rows × 10 columns</p>\n</div>"
     },
     "metadata": {},
     "execution_count": 21
    }
   ],
   "source": [
    "# 데이터 전처리\n",
    "일반_원수_미경과보험료['BOZ_CD'] = clsf_boz_cd(일반_원수_미경과보험료, 일반_상품정보)\n",
    "일반_원수_미경과보험료['RRNR_DVCD'] = clsf_rrnr_dvcd(일반_원수_미경과보험료, '원수')\n",
    "일반_원수_미경과보험료['DMFR_DVCD'] = clsf_dmfr_dvcd(일반_원수_미경과보험료)\n",
    "\n",
    "일반_출재_미경과보험료['BOZ_CD'] = clsf_boz_cd(일반_출재_미경과보험료, 일반_상품정보)\n",
    "일반_출재_미경과보험료['RRNR_DVCD'] = clsf_rrnr_dvcd(일반_출재_미경과보험료, '출재')\n",
    "일반_출재_미경과보험료['DMFR_DVCD'] = clsf_dmfr_dvcd(일반_출재_미경과보험료)\n",
    "일반_출재_미경과보험료['CRD_GRD'] = clsf_crd_grd(일반_출재_미경과보험료, 재보험자_국내신용등급)\n",
    "일반_출재_미경과보험료"
   ]
  },
  {
   "cell_type": "code",
   "execution_count": 22,
   "metadata": {},
   "outputs": [
    {
     "output_type": "execute_result",
     "data": {
      "text/plain": [
       "  RRNR_DVCD DMFR_DVCD BOZ_CD  LTPD_URND_PRM\n",
       "0        01        01   A001    23420916171\n",
       "1        01        01   A002    27146263273\n",
       "2        01        01   A003    96625029260\n",
       "3        01        01   A004    22191701960\n",
       "4        01        01   A005     5095840261"
      ],
      "text/html": "<div>\n<style scoped>\n    .dataframe tbody tr th:only-of-type {\n        vertical-align: middle;\n    }\n\n    .dataframe tbody tr th {\n        vertical-align: top;\n    }\n\n    .dataframe thead th {\n        text-align: right;\n    }\n</style>\n<table border=\"1\" class=\"dataframe\">\n  <thead>\n    <tr style=\"text-align: right;\">\n      <th></th>\n      <th>RRNR_DVCD</th>\n      <th>DMFR_DVCD</th>\n      <th>BOZ_CD</th>\n      <th>LTPD_URND_PRM</th>\n    </tr>\n  </thead>\n  <tbody>\n    <tr>\n      <th>0</th>\n      <td>01</td>\n      <td>01</td>\n      <td>A001</td>\n      <td>23420916171</td>\n    </tr>\n    <tr>\n      <th>1</th>\n      <td>01</td>\n      <td>01</td>\n      <td>A002</td>\n      <td>27146263273</td>\n    </tr>\n    <tr>\n      <th>2</th>\n      <td>01</td>\n      <td>01</td>\n      <td>A003</td>\n      <td>96625029260</td>\n    </tr>\n    <tr>\n      <th>3</th>\n      <td>01</td>\n      <td>01</td>\n      <td>A004</td>\n      <td>22191701960</td>\n    </tr>\n    <tr>\n      <th>4</th>\n      <td>01</td>\n      <td>01</td>\n      <td>A005</td>\n      <td>5095840261</td>\n    </tr>\n  </tbody>\n</table>\n</div>"
     },
     "metadata": {},
     "execution_count": 22
    }
   ],
   "source": [
    "# 데이터 집계\n",
    "일반_원수_미경과보험료_집계 = 일반_원수_미경과보험료.groupby(['RRNR_DVCD', 'DMFR_DVCD', 'BOZ_CD'])['LTPD_URND_PRM'].sum().reset_index()\n",
    "일반_원수_미경과보험료_집계.head()"
   ]
  },
  {
   "cell_type": "code",
   "execution_count": null,
   "metadata": {},
   "outputs": [],
   "source": [
    "# 데이터 내보내기"
   ]
  }
 ]
}