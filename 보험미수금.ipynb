{
 "metadata": {
  "language_info": {
   "codemirror_mode": {
    "name": "ipython",
    "version": 3
   },
   "file_extension": ".py",
   "mimetype": "text/x-python",
   "name": "python",
   "nbconvert_exporter": "python",
   "pygments_lexer": "ipython3",
   "version": "3.8.5"
  },
  "orig_nbformat": 4,
  "kernelspec": {
   "name": "python3",
   "display_name": "Python 3.8.5 64-bit ('base': conda)"
  },
  "interpreter": {
   "hash": "b3ba2566441a7c06988d0923437866b63cedc61552a5af99d1f4fb67d367b25f"
  }
 },
 "nbformat": 4,
 "nbformat_minor": 2,
 "cells": [
  {
   "cell_type": "code",
   "execution_count": 1,
   "metadata": {},
   "outputs": [],
   "source": [
    "import os\n",
    "import numpy as np\n",
    "import pandas as pd\n",
    "from pathlib import Path\n",
    "from datetime import datetime\n",
    "from preprocessing import (\n",
    "    clsf_boz_cd, clsf_pdgr_cd,\n",
    ")"
   ]
  },
  {
   "cell_type": "code",
   "execution_count": 2,
   "metadata": {},
   "outputs": [],
   "source": [
    "# 환경설정\n",
    "pd.options.display.float_format = '{:,.0f}'.format\n",
    "os.makedirs('result', exist_ok=True)\n",
    "\n",
    "# 전역변수\n",
    "FILE_PATH = Path('./data/보험미수금')\n",
    "BASE_YYMM = '202012'"
   ]
  },
  {
   "cell_type": "code",
   "execution_count": 3,
   "metadata": {},
   "outputs": [],
   "source": [
    "# 데이터 불러오기\n",
    "## 재보험미결명세\n",
    "재보험미결명세 = pd.read_excel(FILE_PATH / '재보험미결명세_202012.xlsx',\n",
    "    dtype={'보험종목': str, '계상일자': str, '재보험자': str, 'Broker': str, '회계지점': str, '처리지점': str})\n",
    "# 재보험미결명세.to_csv(FILE_PATH / '재보험미결명세.csv', index=False)\n",
    "# 재보험미결명세 = pd.read_csv(FILE_PATH / '재보험미결명세.csv',\n",
    "#     dtype={'보험종목': str, '계상일자': str, '재보험자': str, 'Broker': str, '회계지점': str, '처리지점': str})\n",
    "\n",
    "## 기초정보, 가정 등\n",
    "일반_상품정보 = pd.read_excel(FILE_PATH / '일반_상품정보.xlsx', dtype={'PDC_CD': str, 'PDGR_CD': str})"
   ]
  },
  {
   "cell_type": "code",
   "execution_count": 88,
   "metadata": {},
   "outputs": [
    {
     "output_type": "stream",
     "name": "stderr",
     "text": [
      "C:\\ProgramData\\Anaconda3\\lib\\site-packages\\pandas\\core\\strings.py:2001: UserWarning: This pattern has match groups. To actually get the groups, use str.extract.\n  return func(self, *args, **kwargs)\n"
     ]
    },
    {
     "output_type": "execute_result",
     "data": {
      "text/plain": [
       "  RRNR_DVCD DMFR_DVCD BOZ_CD  부채구분 미수미지급구분       원화잔액\n",
       "0        03        01   A001  발생사고     미수금  1,329,809\n",
       "1        03        01   A001  잔여보장    미지급금  5,128,127\n",
       "2        03        01   A002  발생사고     미수금  2,461,912\n",
       "3        03        01   A002  잔여보장    미지급금  3,721,905\n",
       "4        03        01   A003  발생사고     미수금 21,861,243"
      ],
      "text/html": "<div>\n<style scoped>\n    .dataframe tbody tr th:only-of-type {\n        vertical-align: middle;\n    }\n\n    .dataframe tbody tr th {\n        vertical-align: top;\n    }\n\n    .dataframe thead th {\n        text-align: right;\n    }\n</style>\n<table border=\"1\" class=\"dataframe\">\n  <thead>\n    <tr style=\"text-align: right;\">\n      <th></th>\n      <th>RRNR_DVCD</th>\n      <th>DMFR_DVCD</th>\n      <th>BOZ_CD</th>\n      <th>부채구분</th>\n      <th>미수미지급구분</th>\n      <th>원화잔액</th>\n    </tr>\n  </thead>\n  <tbody>\n    <tr>\n      <th>0</th>\n      <td>03</td>\n      <td>01</td>\n      <td>A001</td>\n      <td>발생사고</td>\n      <td>미수금</td>\n      <td>1,329,809</td>\n    </tr>\n    <tr>\n      <th>1</th>\n      <td>03</td>\n      <td>01</td>\n      <td>A001</td>\n      <td>잔여보장</td>\n      <td>미지급금</td>\n      <td>5,128,127</td>\n    </tr>\n    <tr>\n      <th>2</th>\n      <td>03</td>\n      <td>01</td>\n      <td>A002</td>\n      <td>발생사고</td>\n      <td>미수금</td>\n      <td>2,461,912</td>\n    </tr>\n    <tr>\n      <th>3</th>\n      <td>03</td>\n      <td>01</td>\n      <td>A002</td>\n      <td>잔여보장</td>\n      <td>미지급금</td>\n      <td>3,721,905</td>\n    </tr>\n    <tr>\n      <th>4</th>\n      <td>03</td>\n      <td>01</td>\n      <td>A003</td>\n      <td>발생사고</td>\n      <td>미수금</td>\n      <td>21,861,243</td>\n    </tr>\n  </tbody>\n</table>\n</div>"
     },
     "metadata": {},
     "execution_count": 88
    }
   ],
   "source": [
    "# 일반\n",
    "재보험미결명세_일반_가공 = 재보험미결명세.loc[lambda x: x['보험종목'].str.startswith('1')].reset_index(drop=True)\n",
    "재보험미결명세_일반_가공['DMFR_DVCD'] = '01'\n",
    "재보험미결명세_일반_가공.loc[lambda x: (x['업무파트'] == '미주지원') | x['보험종목'].isin(['10900', '10901']), 'DMFR_DVCD'] = '02'\n",
    "재보험미결명세_일반_가공 = 재보험미결명세_일반_가공.assign(ARC_INPL_CD = lambda x: x['보험종목']+ '10')\n",
    "재보험미결명세_일반_가공['BOZ_CD'] = clsf_boz_cd(재보험미결명세_일반_가공, 일반_상품정보)\n",
    "재보험미결명세_일반_가공['PDGR_CD'] = clsf_pdgr_cd(재보험미결명세_일반_가공, 일반_상품정보)\n",
    "재보험미결명세_일반_가공 = 재보험미결명세_일반_가공 \\\n",
    "    .assign(\n",
    "        부채구분 = lambda x: np.where(x['처리과목명'].str.contains('보험금'), '발생사고', '잔여보장'),\n",
    "        미수미지급구분 = lambda x: np.where(x['계정과목명'].str.contains('(미수금|예탁금)', regex=True), '미수금', np.where(x['계정과목명'].str.contains('(미지급금|예수금)', regex=True), '미지급금', '#')),\n",
    "        RRNR_DVCD = lambda x: np.where(x['처리과목명'].str.contains('수재', regex=True), '02', '03')\n",
    "    )\n",
    "\n",
    "일반_재보험미수미지급금 = 재보험미결명세_일반_가공.copy()\n",
    "일반_재보험미수미지급금.loc[lambda x: x['RRNR_DVCD'].isin(['01', '02']), 'RRNR_DVCD'] = '04'\n",
    "일반_재보험미수미지급금.loc[lambda x: x['DMFR_DVCD'] == '02', 'BOZ_CD'] = '#'\n",
    "일반_재보험미수미지급금 = 일반_재보험미수미지급금.groupby(['RRNR_DVCD', 'DMFR_DVCD', 'BOZ_CD', '부채구분', '미수미지급구분'])['원화잔액'].apply(lambda x: np.sum(x)/1000).reset_index()\n",
    "일반_재보험미수미지급금.head()"
   ]
  },
  {
   "cell_type": "code",
   "execution_count": 87,
   "metadata": {},
   "outputs": [
    {
     "output_type": "stream",
     "name": "stderr",
     "text": [
      "C:\\ProgramData\\Anaconda3\\lib\\site-packages\\pandas\\core\\strings.py:2001: UserWarning: This pattern has match groups. To actually get the groups, use str.extract.\n  return func(self, *args, **kwargs)\n"
     ]
    },
    {
     "output_type": "execute_result",
     "data": {
      "text/plain": [
       "  RRNR_DVCD DMFR_DVCD BOZ_CD  부채구분 미수미지급구분      원화잔액\n",
       "0        03        01   B001  잔여보장    미지급금        50\n",
       "1        03        01   B002  발생사고     미수금 3,021,332\n",
       "2        03        01   B002  잔여보장    미지급금 2,884,015"
      ],
      "text/html": "<div>\n<style scoped>\n    .dataframe tbody tr th:only-of-type {\n        vertical-align: middle;\n    }\n\n    .dataframe tbody tr th {\n        vertical-align: top;\n    }\n\n    .dataframe thead th {\n        text-align: right;\n    }\n</style>\n<table border=\"1\" class=\"dataframe\">\n  <thead>\n    <tr style=\"text-align: right;\">\n      <th></th>\n      <th>RRNR_DVCD</th>\n      <th>DMFR_DVCD</th>\n      <th>BOZ_CD</th>\n      <th>부채구분</th>\n      <th>미수미지급구분</th>\n      <th>원화잔액</th>\n    </tr>\n  </thead>\n  <tbody>\n    <tr>\n      <th>0</th>\n      <td>03</td>\n      <td>01</td>\n      <td>B001</td>\n      <td>잔여보장</td>\n      <td>미지급금</td>\n      <td>50</td>\n    </tr>\n    <tr>\n      <th>1</th>\n      <td>03</td>\n      <td>01</td>\n      <td>B002</td>\n      <td>발생사고</td>\n      <td>미수금</td>\n      <td>3,021,332</td>\n    </tr>\n    <tr>\n      <th>2</th>\n      <td>03</td>\n      <td>01</td>\n      <td>B002</td>\n      <td>잔여보장</td>\n      <td>미지급금</td>\n      <td>2,884,015</td>\n    </tr>\n  </tbody>\n</table>\n</div>"
     },
     "metadata": {},
     "execution_count": 87
    }
   ],
   "source": [
    "# 자동차\n",
    "재보험미결명세_자동차_가공 = 재보험미결명세.loc[lambda x: x['보험종목'].str.startswith('2')].reset_index(drop=True)\n",
    "재보험미결명세_자동차_가공['DMFR_DVCD'] = '01'\n",
    "재보험미결명세_자동차_가공\n",
    "재보험미결명세_자동차_가공 = 재보험미결명세_자동차_가공 \\\n",
    "    .assign(\n",
    "        부채구분 = lambda x: np.where(x['처리과목명'].str.contains('보험금'), '발생사고', '잔여보장'),\n",
    "        미수미지급구분 = lambda x: np.where(x['계정과목명'].str.contains('(미수금|예탁금)', regex=True), '미수금', np.where(x['계정과목명'].str.contains('(미지급금|예수금)', regex=True), '미지급금', '#')),\n",
    "        RRNR_DVCD = lambda x: np.where(x['처리과목명'].str.contains('수재', regex=True), '02', '03'),\n",
    "drop=True)\n",
    "재보험미결명세_자동차_가공['DMFR_DVCD'] = '01'\n",
    "재보험미결명세_자동차_가공\n",
    "재보험미결명세_자동차_가공 = 재보험미결명세_자동차_가공 \\\n",
    "    .assign(\n",
    "        부채구분 = lambda x: np.where(x['처리과목명'].str.contains('보험금'), '발생사고', '잔여보장'),\n",
    "        미수미지급구분 = lambda x: np.where(x['계정과목명'].str.contains('(미수금|예탁금)', regex=True), '미수금', np.where(x['계정과목명'].str.contains('(미지급금|예수금)', regex=True), '미지급금', '#')),\n",
    "        RRNR_DVCD = lambda x: np.where(x['처리과목명'].str.contains('수재', regex=True), '02', '03'),\n",
    "        BOZ_CD = lambda x: np.where(x['보험종목']=='20001', 'B002', np.where(x['보험종목']=='20045', 'B001', '#')),\n",
    "    )\n",
    "\n",
    "자동차_재보험미수미지급금 = 재보험미결명세_자동차_가공.copy()\n",
    "자동차_재보험미수미지급금.loc[lambda x: x['RRNR_DVCD'].isin(['01', '02']), 'RRNR_DVCD'] = '04'\n",
    "자동차_재보험미수미지급금.loc[lambda x: x['DMFR_DVCD'] == '02', 'BOZ_CD'] = '#'\n",
    "자동차_재보험미수미지급금 = 자동차_재보험미수미지급금.groupby(['RRNR_DVCD', 'DMFR_DVCD', 'BOZ_CD', '부채구분', '미수미지급구분'])['원화잔액'].apply(lambda x: np.sum(x)/1000).reset_index()\n",
    "자동차_재보험미수미지급금.head()"
   ]
  },
  {
   "cell_type": "code",
   "execution_count": 92,
   "metadata": {},
   "outputs": [],
   "source": [
    "# 데이터 내보내기\n",
    "now = datetime.now().strftime('%Y%m%d%H%M%S')\n",
    "with pd.ExcelWriter(f'result/재보험미수미지급금_{now}.xlsx', 'xlsxwriter') as writer:\n",
    "    일반_재보험미수미지급금.to_excel(writer, '일반_재보험미수미지급금', index=False)\n",
    "    자동차_재보험미수미지급금.to_excel(writer, '자동차_재보험미수미지급금', index=False)"
   ]
  }
 ]
}